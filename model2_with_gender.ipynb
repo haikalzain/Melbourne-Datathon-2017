{
 "cells": [
  {
   "cell_type": "markdown",
   "metadata": {},
   "source": [
    "## Plan\n",
    "1. Rewrite in keras - we already bucketing sequences\n",
    "2. Use an embedding layer to get drug code vectors.\n",
    "3. Get drug code tree thingy.\n",
    "4. Use rolling diagnosis to improve model"
   ]
  },
  {
   "cell_type": "code",
   "execution_count": 1,
   "metadata": {
    "collapsed": true
   },
   "outputs": [],
   "source": [
    "#%%time\n",
    "#lets use the drug code\n",
    "import marshal, gzip\n",
    "pt_by_len = marshal.load(open('train_comprehensive_ptbylen.m', 'rb'))\n",
    "pred_by_len = marshal.load(open('pred_comprehensive_pts.m', 'rb'))\n",
    "\n",
    "def get_maxes():\n",
    "    hidden_max = [-1000.0] * 5\n",
    "    input_max = [-1000.0] * 12\n",
    "    for b in pt_by_len:\n",
    "        for hidden, inp, label in pt_by_len[b]:\n",
    "            for i, v in enumerate(hidden):\n",
    "                hidden_max[i] = max(hidden_max[i], v)\n",
    "            for inp_i in inp:\n",
    "                for i, v in enumerate(inp_i):\n",
    "                    input_max[i] = max(input_max[i], v)\n",
    "    print hidden_max\n",
    "    print input_max\n",
    "hidden_max = [1.0, 1.0, 1.0, 1.0, 2526]\n",
    "input_max = [0.997, 1.0, 4039, 6880.7, 1041874.5, 11682.85, 1, 6, 60258, 3182, 2869, 12] #must add 1!!!\n"
   ]
  },
  {
   "cell_type": "code",
   "execution_count": 2,
   "metadata": {},
   "outputs": [
    {
     "name": "stdout",
     "output_type": "stream",
     "text": [
      "245794 27453\n"
     ]
    }
   ],
   "source": [
    "import random\n",
    "from sklearn.model_selection import train_test_split\n",
    "import numpy as np\n",
    "\n",
    "random.seed(42)\n",
    "np.random.seed(42)\n",
    "\n",
    "def shuffle(length_arr):\n",
    "    train_pt_by_len = {}\n",
    "    test_pt_by_len = {}\n",
    "    for length in length_arr:\n",
    "        if len(length_arr[length]) >= 50:\n",
    "            train_pt_by_len[length], test_pt_by_len[length] = train_test_split(pt_by_len[length], test_size=0.1, random_state=42)\n",
    "    \n",
    "    return train_pt_by_len, test_pt_by_len\n",
    "\n",
    "train_pt_by_len, test_pt_by_len = shuffle(pt_by_len)\n",
    "bucketlengths = {}\n",
    "total = 0\n",
    "for b in train_pt_by_len:\n",
    "    bucketlengths[len(train_pt_by_len[b][0][1])] = len(train_pt_by_len[b])\n",
    "    total += len(train_pt_by_len[b])  \n",
    "\n",
    "def prepare_input(batch):\n",
    "    batch = zip(*batch)\n",
    "    \n",
    "    hidden = np.array(batch[0])\n",
    "    hidden = np.delete(hidden, (4,),1) # something sex sex age code\n",
    "    hidden[:,3][hidden[:,3] == 1.0] = 0.5577 \n",
    "    \n",
    "    inp = np.array([l[1:] for l in batch[1]])\n",
    "    inp = np.delete(inp ,range(2,9), 2) # now with post code\n",
    "    \n",
    "    \n",
    "    labels = np.array(batch[2])\n",
    "    return hidden, inp, labels\n",
    "    \n",
    "\n",
    "def random_batch(batch_size=1):\n",
    "    chunk_len = np.random.choice(bucketlengths.keys(), 1, p=np.array(bucketlengths.values())/float(sum(bucketlengths.values())))[0]\n",
    "    bucket = np.array(train_pt_by_len[chunk_len])    \n",
    "    hidden, inp, labels = prepare_input(bucket[np.random.choice(bucket.shape[0], batch_size)])\n",
    "    \n",
    "    return hidden, inp, labels\n",
    "\n",
    "test_bucketlengths = {}\n",
    "test_total = 0\n",
    "for b in test_pt_by_len:\n",
    "    test_bucketlengths[len(test_pt_by_len[b][0][1])] = len(test_pt_by_len[b])\n",
    "    test_total += len(test_pt_by_len[b])\n",
    "\n",
    "def random_test_batch(batch_size=1):\n",
    "    chunk_len = np.random.choice(test_bucketlengths.keys(), 1, p=np.array(test_bucketlengths.values())/float(sum(test_bucketlengths.values())))[0]\n",
    "    bucket = np.array(test_pt_by_len[chunk_len])    \n",
    "    hidden, inp, labels = prepare_input(bucket[np.random.choice(bucket.shape[0], batch_size)])\n",
    "    \n",
    "    return hidden, inp, labels\n",
    "\n",
    "print total, test_total"
   ]
  },
  {
   "cell_type": "code",
   "execution_count": 10,
   "metadata": {
    "collapsed": true
   },
   "outputs": [],
   "source": [
    "import torch\n",
    "import torch.nn as nn\n",
    "import torch.nn.functional as F\n",
    "from torch.autograd import Variable\n",
    "from tqdm import tqdm, tqdm_notebook\n",
    "import numpy as np\n",
    "from sklearn.metrics import roc_auc_score\n",
    "import os\n",
    "\n",
    "def torchify_batch(hidden, inp, target=None):\n",
    "    drugs = inp[:, :, -2]\n",
    "    dxs = inp[:, :, -1]\n",
    "    posts = inp[:,:,-3]\n",
    "    inp = inp[:, :, :-3]\n",
    "    hidden = np.repeat(hidden[:,np.newaxis, :], repeats=inp.shape[1], axis=1)\n",
    "    \n",
    "    inp = Variable(torch.from_numpy(inp), requires_grad=False)\n",
    "    posts = Variable(torch.from_numpy(posts), requires_grad=False).long()\n",
    "    drugs = Variable(torch.from_numpy(drugs), requires_grad=False).long()\n",
    "    dxs = Variable(torch.from_numpy(dxs), requires_grad=False).long()\n",
    "    hidden = Variable(torch.from_numpy(hidden), requires_grad=False)\n",
    "    if target is not None:\n",
    "        target = Variable(torch.from_numpy(target), requires_grad=False).long()\n",
    "    \n",
    "    return hidden, inp, posts, drugs, dxs, target\n",
    "\n",
    "def train(chkpoint, epochs, model, criterion, optimizer, train_losses, test_losses, test_aucs, cur_epoch=0, **kwargs):\n",
    "    total = 245794\n",
    "    for epoch in xrange(cur_epoch+1, epochs+1):\n",
    "        print('---Epoch {}---'.format(epoch))\n",
    "        num_cycles = total / 40\n",
    "        num_cycles /= 2\n",
    "        for cycle in tqdm_notebook(xrange(num_cycles)):\n",
    "            hidden, inp, target = random_batch(10)\n",
    "            hidden, inp, posts, drugs, dxs, target = torchify_batch(hidden, inp, target)\n",
    "            target.cuda()\n",
    "            optimizer.zero_grad()\n",
    "            out = model(hidden.cuda(), inp.cuda(), posts.cuda(), drugs.cuda(), dxs.cuda())\n",
    "            loss = criterion(out, target.cuda())\n",
    "            loss.backward()\n",
    "            optimizer.step()\n",
    "        loss_var = loss.data.cpu().numpy()[0]\n",
    "\n",
    "        total_test_auc = 0\n",
    "        total_test_loss = 0\n",
    "\n",
    "        \n",
    "        batch_aucs = []\n",
    "        #bootstrap = [validate(model) for _ in range(10)]\n",
    "        #aucs = np.array([x[1] for x in bootstrap])\n",
    "        #tests = np.array([x[0] for x in bootstrap])\n",
    "        all_test_loss, all_test_auc = validate_all(model)\n",
    "\n",
    "        #test_loss = total_test_loss/100.0\n",
    "        #test_loss, test_loss_std = np.mean(tests), np.std(tests)\n",
    "        #test_auc, test_auc_std = np.mean(aucs), np.std(aucs)\n",
    "\n",
    "        train_losses.append(loss_var)\n",
    "        test_losses.append(all_test_loss)\n",
    "        test_aucs.append(all_test_auc)\n",
    "        \n",
    "        if not os.path.exists(chkpoint[:-4]):\n",
    "            os.mkdir(chkpoint[:-4])\n",
    "\n",
    "        torch.save({\n",
    "                'cur_epoch': epoch,\n",
    "                'train_losses': train_losses,\n",
    "                'test_losses': test_losses,\n",
    "                'model': model,\n",
    "                'criterion': criterion,\n",
    "                'optimizer': optimizer,\n",
    "                'test_aucs': test_aucs,\n",
    "            }, '{}/epoch-{}-{}.tar'.format(chkpoint[:-4], epoch, int(all_test_auc * 1000)))\n",
    "        \n",
    "        \n",
    "\n",
    "        print('Train Loss: {}'.format(loss_var)) # pass arguments to affect saving / resume behaviour\n",
    "        #print('Test Loss: {} Std: {}'.format(test_loss, test_loss_std))\n",
    "        #print('Test AUC: {} Std: {}'.format(test_auc, test_auc_std))\n",
    "        print('All Test Loss: {} AUC: {}'.format(all_test_loss, all_test_auc))\n",
    "        \n",
    "\n",
    "def validate_all(model):\n",
    "    all_true = np.zeros((test_total, 2))\n",
    "    all_pred = np.zeros((test_total, 2))\n",
    "    total_test_loss = 0\n",
    "    i = 0\n",
    "    for b in test_pt_by_len:\n",
    "        hidden, inp, target = prepare_input(np.array(test_pt_by_len[b]))\n",
    "        target2 = target[:]\n",
    "        hidden, inp, posts, drugs, dxs, target = torchify_batch(hidden, inp, target)\n",
    "        out = model(hidden.cuda(), inp.cuda(), posts.cuda(), drugs.cuda(), dxs.cuda())\n",
    "\n",
    "        target.cuda()\n",
    "\n",
    "        loss = criterion(out, target.cuda())\n",
    "        out_np = out.data.cpu().numpy()\n",
    "        for j in xrange(target2.shape[0]):\n",
    "            all_true[i, int(target2[j])] = 1\n",
    "            all_pred[i] = out_np[j]\n",
    "            i += 1\n",
    "        total_test_loss += loss.data.cpu().numpy()[0]\n",
    "    test_loss = total_test_loss/288\n",
    "    test_auc = roc_auc_score(all_true, all_pred)\n",
    "    return test_loss, test_auc\n",
    "\n",
    "def validate(model):\n",
    "    total_test_loss = 0\n",
    "    all_true = np.zeros((4000, 2))\n",
    "    all_pred = np.zeros((4000, 2))\n",
    "    for i in xrange(100):\n",
    "        hidden, inp, target = random_test_batch(40)\n",
    "        target2 = target[:]\n",
    "        hidden, inp, posts, drugs, dxs, target = torchify_batch(hidden, inp, target)\n",
    "        out = model(hidden.cuda(), inp.cuda(), posts.cuda(), drugs.cuda(), dxs.cuda())\n",
    "\n",
    "        target.cuda()\n",
    "\n",
    "        loss = criterion(out, target.cuda())\n",
    "        out_np = out.data.cpu().numpy()\n",
    "        for j in xrange(40):\n",
    "            all_true[i*40 + j, int(target2[j])] = 1\n",
    "            all_pred[i*40+j] = out_np[j]\n",
    "        total_test_loss += loss.data.cpu().numpy()[0]\n",
    "\n",
    "    test_loss = total_test_loss/100.0\n",
    "    test_auc = roc_auc_score(all_true, all_pred)\n",
    "    return test_loss, test_auc\n",
    "    \n",
    "\n",
    "def generate_predictions_csv(model, filename):\n",
    "    predictions = []\n",
    "    for b in tqdm_notebook(pred_by_len):\n",
    "        hidden, inp, pt_id = prepare_input(pred_by_len[b])\n",
    "        hidden, inp, posts, drugs, dxs, _ = torchify_batch(hidden, inp)\n",
    "        out = model(hidden.cuda(), inp.cuda(), posts.cuda(), drugs.cuda(), dxs.cuda()).data.cpu().numpy()\n",
    "        predictions.extend(zip(pt_id, out[:,1]))\n",
    "\n",
    "    predictions.sort()\n",
    "    with open(filename, 'w') as f:\n",
    "        f.write('Patient_ID,Diabetes\\n')\n",
    "        for a, b in predictions:\n",
    "            f.write('{},{}\\n'.format(a,b))"
   ]
  },
  {
   "cell_type": "code",
   "execution_count": null,
   "metadata": {
    "collapsed": true
   },
   "outputs": [],
   "source": [
    "class Model1(nn.Module):\n",
    "    def __init__(self):\n",
    "        super(Model1, self).__init__()\n",
    "        self.post_embedding = nn.Embedding(3182, 2)\n",
    "        self.drug_embedding = nn.Embedding(2870, 20)#changed from 30\n",
    "        #self.inp_embedding = nn.Embedding(2, 10)\n",
    "        self.dx_embedding = nn.Embedding(12, 7) #changed from 5 to 7\n",
    "        self.gru1 = nn.GRU(35, 96, 4, batch_first=True,dropout=0.2)\n",
    "        self.dense1 = nn.Linear(96, 2)\n",
    "        self.softmax = nn.LogSoftmax()\n",
    "    \n",
    "    def forward(self, hidden, inp, posts, drugs, dxs):\n",
    "        posts_e = self.post_embedding(posts)\n",
    "        drugs_e = self.drug_embedding(drugs)\n",
    "        dxs_e = self.dx_embedding(dxs)\n",
    "        #inp_e = self.inp_embedding(inp)\n",
    "        final_input = torch.cat((hidden, inp, posts_e, drugs_e, dxs_e),dim=2)\n",
    "    \n",
    "        h_1 = Variable(torch.zeros(4,inp.size(0), 96).double(), requires_grad=False).cuda()\n",
    "        output, h_2 = self.gru1(final_input, h_1)\n",
    "\n",
    "        x = self.dense1(h_2[-1])\n",
    "        x = self.softmax(x)\n",
    "        \n",
    "        return x"
   ]
  },
  {
   "cell_type": "code",
   "execution_count": null,
   "metadata": {
    "scrolled": false
   },
   "outputs": [
    {
     "name": "stdout",
     "output_type": "stream",
     "text": [
      "---Epoch 1---\n"
     ]
    },
    {
     "data": {
      "application/vnd.jupyter.widget-view+json": {
       "model_id": "b5b555e9c1464a048be8bdfbded5eef0"
      }
     },
     "metadata": {},
     "output_type": "display_data"
    },
    {
     "name": "stdout",
     "output_type": "stream",
     "text": [
      "\n",
      "Train Loss: 0.0254803099756\n",
      "All Test Loss: 0.19576329119 AUC: 0.951423801387\n",
      "---Epoch 2---\n"
     ]
    },
    {
     "data": {
      "application/vnd.jupyter.widget-view+json": {
       "model_id": "d7d613ff0dab4414ba374b97aa149465"
      }
     },
     "metadata": {},
     "output_type": "display_data"
    },
    {
     "name": "stdout",
     "output_type": "stream",
     "text": [
      "\n",
      "Train Loss: 0.0245366807296\n",
      "All Test Loss: 0.161425788486 AUC: 0.958323547113\n",
      "---Epoch 3---\n"
     ]
    },
    {
     "data": {
      "application/vnd.jupyter.widget-view+json": {
       "model_id": "a55cbd81a2904ae582f7883037a63dbc"
      }
     },
     "metadata": {},
     "output_type": "display_data"
    },
    {
     "name": "stdout",
     "output_type": "stream",
     "text": [
      "\n",
      "Train Loss: 0.176811447575\n",
      "All Test Loss: 0.154061450668 AUC: 0.96129459076\n",
      "---Epoch 4---\n"
     ]
    },
    {
     "data": {
      "application/vnd.jupyter.widget-view+json": {
       "model_id": "ba534026e3534f8b84c54bbcc0475b4b"
      }
     },
     "metadata": {},
     "output_type": "display_data"
    },
    {
     "name": "stdout",
     "output_type": "stream",
     "text": [
      "\n",
      "Train Loss: 0.139227078605\n",
      "All Test Loss: 0.152362023483 AUC: 0.961509349889\n",
      "---Epoch 5---\n"
     ]
    },
    {
     "data": {
      "application/vnd.jupyter.widget-view+json": {
       "model_id": "60521797e5c54bc4b1588b7e726d7d55"
      }
     },
     "metadata": {},
     "output_type": "display_data"
    },
    {
     "name": "stdout",
     "output_type": "stream",
     "text": [
      "\n",
      "Train Loss: 0.411345461107\n",
      "All Test Loss: 0.155256215859 AUC: 0.962709229702\n",
      "---Epoch 6---\n"
     ]
    },
    {
     "data": {
      "application/vnd.jupyter.widget-view+json": {
       "model_id": "9790cb79e2414eea9ad60a12a4a251e0"
      }
     },
     "metadata": {},
     "output_type": "display_data"
    },
    {
     "name": "stdout",
     "output_type": "stream",
     "text": [
      "\n",
      "Train Loss: 0.171678976367\n",
      "All Test Loss: 0.148451783452 AUC: 0.963225926552\n",
      "---Epoch 7---\n"
     ]
    },
    {
     "data": {
      "application/vnd.jupyter.widget-view+json": {
       "model_id": "6155d32eaaa741549a4bf3b5a7a9c9cd"
      }
     },
     "metadata": {},
     "output_type": "display_data"
    },
    {
     "name": "stdout",
     "output_type": "stream",
     "text": [
      "\n",
      "Train Loss: 0.0334983584196\n",
      "All Test Loss: 0.153010733751 AUC: 0.964304548633\n",
      "---Epoch 8---\n"
     ]
    },
    {
     "data": {
      "application/vnd.jupyter.widget-view+json": {
       "model_id": "073f78bbf34f48ceb63cf9b8749e2b6f"
      }
     },
     "metadata": {},
     "output_type": "display_data"
    },
    {
     "name": "stdout",
     "output_type": "stream",
     "text": [
      "\n",
      "Train Loss: 0.452200215326\n",
      "All Test Loss: 0.148272181206 AUC: 0.962920304132\n",
      "---Epoch 9---\n"
     ]
    },
    {
     "data": {
      "application/vnd.jupyter.widget-view+json": {
       "model_id": "b1fe2d81a92441be8ecb9c2ef8a80d69"
      }
     },
     "metadata": {},
     "output_type": "display_data"
    },
    {
     "name": "stdout",
     "output_type": "stream",
     "text": [
      "\n",
      "Train Loss: 0.336839195964\n",
      "All Test Loss: 0.145948184742 AUC: 0.963634841634\n",
      "---Epoch 10---\n"
     ]
    },
    {
     "data": {
      "application/vnd.jupyter.widget-view+json": {
       "model_id": "b67c5e50a764454a918169a42c8a7e03"
      }
     },
     "metadata": {},
     "output_type": "display_data"
    },
    {
     "name": "stdout",
     "output_type": "stream",
     "text": [
      "\n",
      "Train Loss: 0.111368793041\n",
      "All Test Loss: 0.145168137777 AUC: 0.964518460108\n",
      "---Epoch 11---\n"
     ]
    },
    {
     "data": {
      "application/vnd.jupyter.widget-view+json": {
       "model_id": "fac243e8d4a64b1084abe862b43a1a5f"
      }
     },
     "metadata": {},
     "output_type": "display_data"
    },
    {
     "name": "stdout",
     "output_type": "stream",
     "text": [
      "\n",
      "Train Loss: 0.0654398232088\n",
      "All Test Loss: 0.144487192772 AUC: 0.964404580423\n",
      "---Epoch 12---\n"
     ]
    },
    {
     "data": {
      "application/vnd.jupyter.widget-view+json": {
       "model_id": "8183bcf51c064a9899a86929e79525a4"
      }
     },
     "metadata": {},
     "output_type": "display_data"
    },
    {
     "name": "stdout",
     "output_type": "stream",
     "text": [
      "\n",
      "Train Loss: 0.0124485474315\n",
      "All Test Loss: 0.143987867459 AUC: 0.964429958138\n",
      "---Epoch 13---\n"
     ]
    },
    {
     "data": {
      "application/vnd.jupyter.widget-view+json": {
       "model_id": "4cbd74f52937437c84f3cffbe0a6e04c"
      }
     },
     "metadata": {},
     "output_type": "display_data"
    },
    {
     "name": "stdout",
     "output_type": "stream",
     "text": [
      "\n",
      "Train Loss: 0.0117764510252\n",
      "All Test Loss: 0.143933041373 AUC: 0.96420766527\n",
      "---Epoch 14---\n"
     ]
    },
    {
     "data": {
      "application/vnd.jupyter.widget-view+json": {
       "model_id": "9fc17fd23f784e79a33a9f63ab94dd83"
      }
     },
     "metadata": {},
     "output_type": "display_data"
    },
    {
     "name": "stdout",
     "output_type": "stream",
     "text": [
      "\n",
      "Train Loss: 0.245893806343\n",
      "All Test Loss: 0.142107280121 AUC: 0.964942883794\n",
      "---Epoch 15---\n"
     ]
    },
    {
     "data": {
      "application/vnd.jupyter.widget-view+json": {
       "model_id": "0bf5104480ad43f2b275c2727a98def9"
      }
     },
     "metadata": {},
     "output_type": "display_data"
    },
    {
     "name": "stdout",
     "output_type": "stream",
     "text": [
      "\n",
      "Train Loss: 0.0331036429638\n",
      "All Test Loss: 0.142770702788 AUC: 0.965062610559\n",
      "---Epoch 16---\n"
     ]
    },
    {
     "data": {
      "application/vnd.jupyter.widget-view+json": {
       "model_id": "533d95e180364dbeb8475f6205ccb08a"
      }
     },
     "metadata": {},
     "output_type": "display_data"
    },
    {
     "name": "stdout",
     "output_type": "stream",
     "text": [
      "\n",
      "Train Loss: 0.168224077712\n",
      "All Test Loss: 0.145727886971 AUC: 0.965072583465\n",
      "---Epoch 17---\n"
     ]
    },
    {
     "data": {
      "application/vnd.jupyter.widget-view+json": {
       "model_id": "4eec44cdd17c45b49c8b9ee0759659a8"
      }
     },
     "metadata": {},
     "output_type": "display_data"
    },
    {
     "name": "stdout",
     "output_type": "stream",
     "text": [
      "\n",
      "Train Loss: 0.0320875851985\n",
      "All Test Loss: 0.144114329143 AUC: 0.964893131709\n",
      "---Epoch 18---\n"
     ]
    },
    {
     "data": {
      "application/vnd.jupyter.widget-view+json": {
       "model_id": "3aad9c77cd8e483291e5b1788ed8cc10"
      }
     },
     "metadata": {},
     "output_type": "display_data"
    },
    {
     "name": "stdout",
     "output_type": "stream",
     "text": [
      "\n",
      "Train Loss: 0.470876915236\n",
      "All Test Loss: 0.140383965737 AUC: 0.966068213326\n",
      "---Epoch 19---\n"
     ]
    },
    {
     "data": {
      "application/vnd.jupyter.widget-view+json": {
       "model_id": "76f9dec72b194df18fabd6de37aee1b4"
      }
     },
     "metadata": {},
     "output_type": "display_data"
    },
    {
     "name": "stdout",
     "output_type": "stream",
     "text": [
      "\n",
      "Train Loss: 0.442898152727\n",
      "All Test Loss: 0.143962507572 AUC: 0.965835912954\n",
      "---Epoch 20---\n"
     ]
    },
    {
     "data": {
      "application/vnd.jupyter.widget-view+json": {
       "model_id": "ebe3d913e86b4345bc802076d17b31ae"
      }
     },
     "metadata": {},
     "output_type": "display_data"
    },
    {
     "name": "stdout",
     "output_type": "stream",
     "text": [
      "\n",
      "Train Loss: 0.439247538176\n",
      "All Test Loss: 0.139042687665 AUC: 0.965757556881\n",
      "---Epoch 21---\n"
     ]
    },
    {
     "data": {
      "application/vnd.jupyter.widget-view+json": {
       "model_id": "b33fd22d5ada4a39bc158aa46e50573b"
      }
     },
     "metadata": {},
     "output_type": "display_data"
    },
    {
     "name": "stdout",
     "output_type": "stream",
     "text": [
      "\n",
      "Train Loss: 0.0306171698938\n",
      "All Test Loss: 0.139629196815 AUC: 0.96656082989\n",
      "---Epoch 22---\n"
     ]
    },
    {
     "data": {
      "application/vnd.jupyter.widget-view+json": {
       "model_id": "1279301241cf42aab33d56d4bafe41d4"
      }
     },
     "metadata": {},
     "output_type": "display_data"
    },
    {
     "name": "stdout",
     "output_type": "stream",
     "text": [
      "\n",
      "Train Loss: 0.453348241695\n",
      "All Test Loss: 0.140140373961 AUC: 0.965696759349\n",
      "---Epoch 23---\n"
     ]
    },
    {
     "data": {
      "application/vnd.jupyter.widget-view+json": {
       "model_id": "49414ff6c77f42c6817333f74d4996d0"
      }
     },
     "metadata": {},
     "output_type": "display_data"
    },
    {
     "name": "stdout",
     "output_type": "stream",
     "text": [
      "\n",
      "Train Loss: 0.115264795321\n",
      "All Test Loss: 0.140098124604 AUC: 0.965493677083\n",
      "---Epoch 24---\n"
     ]
    },
    {
     "data": {
      "application/vnd.jupyter.widget-view+json": {
       "model_id": "b3e055e9b7b94880a9499295116974f0"
      }
     },
     "metadata": {},
     "output_type": "display_data"
    },
    {
     "name": "stdout",
     "output_type": "stream",
     "text": [
      "\n",
      "Train Loss: 0.0198815693058\n",
      "All Test Loss: 0.139922690354 AUC: 0.965762686051\n",
      "---Epoch 25---\n"
     ]
    },
    {
     "data": {
      "application/vnd.jupyter.widget-view+json": {
       "model_id": "d6f4c45745644135be20ef3521f44448"
      }
     },
     "metadata": {},
     "output_type": "display_data"
    },
    {
     "name": "stdout",
     "output_type": "stream",
     "text": [
      "\n",
      "Train Loss: 0.544957226886\n",
      "All Test Loss: 0.138936136943 AUC: 0.966326124949\n",
      "---Epoch 26---\n"
     ]
    },
    {
     "data": {
      "application/vnd.jupyter.widget-view+json": {
       "model_id": "bb3237f574824b579951917a67bb7121"
      }
     },
     "metadata": {},
     "output_type": "display_data"
    },
    {
     "name": "stdout",
     "output_type": "stream",
     "text": [
      "\n",
      "Train Loss: 0.0131888164126\n",
      "All Test Loss: 0.139777371821 AUC: 0.96649046598\n",
      "---Epoch 27---\n"
     ]
    },
    {
     "data": {
      "application/vnd.jupyter.widget-view+json": {
       "model_id": "cdf5668427b6461c9ddd0ee2fbed066b"
      }
     },
     "metadata": {},
     "output_type": "display_data"
    },
    {
     "name": "stdout",
     "output_type": "stream",
     "text": [
      "\n",
      "Train Loss: 0.0553513990081\n",
      "All Test Loss: 0.137772964323 AUC: 0.967153512842\n",
      "---Epoch 28---\n"
     ]
    },
    {
     "data": {
      "application/vnd.jupyter.widget-view+json": {
       "model_id": "2a5831d21d5d480c9878aedd3b3f8adc"
      }
     },
     "metadata": {},
     "output_type": "display_data"
    },
    {
     "name": "stdout",
     "output_type": "stream",
     "text": [
      "\n",
      "Train Loss: 0.0471236004428\n",
      "All Test Loss: 0.138961425722 AUC: 0.966830833553\n",
      "---Epoch 29---\n"
     ]
    },
    {
     "data": {
      "application/vnd.jupyter.widget-view+json": {
       "model_id": "f087045eadac445ca5dfcc0246e3a0ab"
      }
     },
     "metadata": {},
     "output_type": "display_data"
    },
    {
     "name": "stdout",
     "output_type": "stream",
     "text": [
      "\n",
      "Train Loss: 0.0150388183141\n",
      "All Test Loss: 0.139379353837 AUC: 0.966410258908\n",
      "---Epoch 30---\n"
     ]
    },
    {
     "data": {
      "application/vnd.jupyter.widget-view+json": {
       "model_id": "d7d42f6358eb4e8ba438f07ec2bb9951"
      }
     },
     "metadata": {},
     "output_type": "display_data"
    },
    {
     "name": "stdout",
     "output_type": "stream",
     "text": [
      "\n",
      "Train Loss: 0.034301000832\n",
      "All Test Loss: 0.139863266184 AUC: 0.96727722704\n",
      "---Epoch 31---\n"
     ]
    },
    {
     "data": {
      "application/vnd.jupyter.widget-view+json": {
       "model_id": "a73fa737dfd047328514b591461cba09"
      }
     },
     "metadata": {},
     "output_type": "display_data"
    },
    {
     "name": "stdout",
     "output_type": "stream",
     "text": [
      "\n",
      "Train Loss: 0.41602470267\n",
      "All Test Loss: 0.137387094625 AUC: 0.966869479644\n",
      "---Epoch 32---\n"
     ]
    },
    {
     "data": {
      "application/vnd.jupyter.widget-view+json": {
       "model_id": "f5b1d5c951214342a5141c2b084c843a"
      }
     },
     "metadata": {},
     "output_type": "display_data"
    },
    {
     "name": "stdout",
     "output_type": "stream",
     "text": [
      "\n",
      "Train Loss: 0.0459748328306\n",
      "All Test Loss: 0.138406451188 AUC: 0.967314705445\n",
      "---Epoch 33---\n"
     ]
    },
    {
     "data": {
      "application/vnd.jupyter.widget-view+json": {
       "model_id": "1a46c54323a443cca2c4ef1ac2a2db02"
      }
     },
     "metadata": {},
     "output_type": "display_data"
    },
    {
     "name": "stdout",
     "output_type": "stream",
     "text": [
      "\n",
      "Train Loss: 0.0647458239823\n",
      "All Test Loss: 0.138266111205 AUC: 0.966602287077\n",
      "---Epoch 34---\n"
     ]
    },
    {
     "data": {
      "application/vnd.jupyter.widget-view+json": {
       "model_id": "3381e48080eb4178a9197c59999a5b1b"
      }
     },
     "metadata": {},
     "output_type": "display_data"
    },
    {
     "name": "stdout",
     "output_type": "stream",
     "text": [
      "\n",
      "Train Loss: 0.176307069079\n",
      "All Test Loss: 0.137719313689 AUC: 0.966345456644\n",
      "---Epoch 35---\n"
     ]
    },
    {
     "data": {
      "application/vnd.jupyter.widget-view+json": {
       "model_id": "e89bd57d463242878825a3361f2a949e"
      }
     },
     "metadata": {},
     "output_type": "display_data"
    },
    {
     "name": "stdout",
     "output_type": "stream",
     "text": [
      "\n",
      "Train Loss: 0.0128249388871\n",
      "All Test Loss: 0.143890371387 AUC: 0.966514745205\n",
      "---Epoch 36---\n"
     ]
    },
    {
     "data": {
      "application/vnd.jupyter.widget-view+json": {
       "model_id": "e4dce0753939434dbfcde1720b89f27b"
      }
     },
     "metadata": {},
     "output_type": "display_data"
    },
    {
     "name": "stdout",
     "output_type": "stream",
     "text": [
      "\n",
      "Train Loss: 0.159758409142\n",
      "All Test Loss: 0.137715176753 AUC: 0.966926670323\n",
      "---Epoch 37---\n"
     ]
    },
    {
     "data": {
      "application/vnd.jupyter.widget-view+json": {
       "model_id": "504f6b6f10cc4f5882c7c5dd6480bec6"
      }
     },
     "metadata": {},
     "output_type": "display_data"
    },
    {
     "name": "stdout",
     "output_type": "stream",
     "text": [
      "\n",
      "Train Loss: 0.0142506633789\n",
      "All Test Loss: 0.136986634061 AUC: 0.966447252938\n",
      "---Epoch 38---\n"
     ]
    },
    {
     "data": {
      "application/vnd.jupyter.widget-view+json": {
       "model_id": "9b3a6f268a7e432f814bdb62c1c801d3"
      }
     },
     "metadata": {},
     "output_type": "display_data"
    },
    {
     "name": "stdout",
     "output_type": "stream",
     "text": [
      "\n",
      "Train Loss: 0.0973869122201\n",
      "All Test Loss: 0.140085417311 AUC: 0.967083633306\n",
      "---Epoch 39---\n"
     ]
    },
    {
     "data": {
      "application/vnd.jupyter.widget-view+json": {
       "model_id": "2c1395fe6c04495aa3125f48cb3b760c"
      }
     },
     "metadata": {},
     "output_type": "display_data"
    },
    {
     "name": "stdout",
     "output_type": "stream",
     "text": [
      "\n",
      "Train Loss: 0.176344474033\n",
      "All Test Loss: 0.136560732767 AUC: 0.967390605052\n",
      "---Epoch 40---\n"
     ]
    },
    {
     "data": {
      "application/vnd.jupyter.widget-view+json": {
       "model_id": "3e2143efacde4be1aaf9d3d8ceeaae5a"
      }
     },
     "metadata": {},
     "output_type": "display_data"
    },
    {
     "name": "stdout",
     "output_type": "stream",
     "text": [
      "\n",
      "Train Loss: 0.0121109514848\n",
      "All Test Loss: 0.139018802869 AUC: 0.9665459873\n",
      "---Epoch 41---\n"
     ]
    },
    {
     "data": {
      "application/vnd.jupyter.widget-view+json": {
       "model_id": "53c8bb16df9743438945a50fd8d73a3f"
      }
     },
     "metadata": {},
     "output_type": "display_data"
    },
    {
     "name": "stdout",
     "output_type": "stream",
     "text": [
      "\n",
      "Train Loss: 0.0744845238302\n",
      "All Test Loss: 0.137193989743 AUC: 0.966409099871\n",
      "---Epoch 42---\n"
     ]
    },
    {
     "data": {
      "application/vnd.jupyter.widget-view+json": {
       "model_id": "b3c64ff678b24422a05630b41ad2b40a"
      }
     },
     "metadata": {},
     "output_type": "display_data"
    },
    {
     "name": "stdout",
     "output_type": "stream",
     "text": [
      "\n",
      "Train Loss: 0.334501609686\n",
      "All Test Loss: 0.136626018957 AUC: 0.966580447019\n",
      "---Epoch 43---\n"
     ]
    },
    {
     "data": {
      "application/vnd.jupyter.widget-view+json": {
       "model_id": "f9f33b0740554a3d8a98a0aa880c3a04"
      }
     },
     "metadata": {},
     "output_type": "display_data"
    },
    {
     "name": "stdout",
     "output_type": "stream",
     "text": [
      "\n",
      "Train Loss: 0.140259403323\n",
      "All Test Loss: 0.139924110032 AUC: 0.967390985632\n",
      "---Epoch 44---\n"
     ]
    },
    {
     "data": {
      "application/vnd.jupyter.widget-view+json": {
       "model_id": "0aa8029cb61546fa8453aeea95a51c94"
      }
     },
     "metadata": {},
     "output_type": "display_data"
    },
    {
     "name": "stdout",
     "output_type": "stream",
     "text": [
      "\n",
      "Train Loss: 0.423780337383\n",
      "All Test Loss: 0.140794736566 AUC: 0.967103155291\n",
      "---Epoch 45---\n"
     ]
    },
    {
     "data": {
      "application/vnd.jupyter.widget-view+json": {
       "model_id": "b97e2e3b63c74979835087cec44d76e3"
      }
     },
     "metadata": {},
     "output_type": "display_data"
    },
    {
     "name": "stdout",
     "output_type": "stream",
     "text": [
      "\n",
      "Train Loss: 0.01271108869\n",
      "All Test Loss: 0.138568907567 AUC: 0.966996480663\n",
      "---Epoch 46---\n"
     ]
    },
    {
     "data": {
      "application/vnd.jupyter.widget-view+json": {
       "model_id": "99e4dc00742c4597923795171d250b31"
      }
     },
     "metadata": {},
     "output_type": "display_data"
    },
    {
     "name": "stdout",
     "output_type": "stream",
     "text": [
      "\n",
      "Train Loss: 0.0406268289811\n",
      "All Test Loss: 0.138345101038 AUC: 0.967562211686\n",
      "---Epoch 47---\n"
     ]
    },
    {
     "data": {
      "application/vnd.jupyter.widget-view+json": {
       "model_id": "4c7ed4bf783f437dbdd6b066e4ce2608"
      }
     },
     "metadata": {},
     "output_type": "display_data"
    },
    {
     "name": "stdout",
     "output_type": "stream",
     "text": [
      "\n",
      "Train Loss: 0.0135938390111\n",
      "All Test Loss: 0.13832479059 AUC: 0.96728896445\n",
      "---Epoch 48---\n"
     ]
    },
    {
     "data": {
      "application/vnd.jupyter.widget-view+json": {
       "model_id": "215d00b94d794d6aba2b37004d1e84e1"
      }
     },
     "metadata": {},
     "output_type": "display_data"
    },
    {
     "name": "stdout",
     "output_type": "stream",
     "text": [
      "\n",
      "Train Loss: 0.0173319892253\n",
      "All Test Loss: 0.137412427318 AUC: 0.967030923083\n",
      "---Epoch 49---\n"
     ]
    },
    {
     "data": {
      "application/vnd.jupyter.widget-view+json": {
       "model_id": "8166a65fb64a4a8f807dff57710dc947"
      }
     },
     "metadata": {},
     "output_type": "display_data"
    },
    {
     "name": "stdout",
     "output_type": "stream",
     "text": [
      "\n",
      "Train Loss: 0.0612885165286\n",
      "All Test Loss: 0.137122390331 AUC: 0.967358342313\n",
      "---Epoch 50---\n"
     ]
    },
    {
     "data": {
      "application/vnd.jupyter.widget-view+json": {
       "model_id": "92a1c7a858a54caabe85000cb535566e"
      }
     },
     "metadata": {},
     "output_type": "display_data"
    },
    {
     "name": "stdout",
     "output_type": "stream",
     "text": [
      "\n",
      "Train Loss: 0.0194290433141\n",
      "All Test Loss: 0.146653382155 AUC: 0.966951875047\n",
      "---Epoch 51---\n"
     ]
    },
    {
     "data": {
      "application/vnd.jupyter.widget-view+json": {
       "model_id": "e8d62d8ba56e46c4bae5e0965c0be230"
      }
     },
     "metadata": {},
     "output_type": "display_data"
    },
    {
     "name": "stdout",
     "output_type": "stream",
     "text": [
      "\n",
      "Train Loss: 0.0643155795751\n",
      "All Test Loss: 0.138523044586 AUC: 0.96718506632\n",
      "---Epoch 52---\n"
     ]
    },
    {
     "data": {
      "application/vnd.jupyter.widget-view+json": {
       "model_id": "b50fb16b56784f94ae702a2d8567cf33"
      }
     },
     "metadata": {},
     "output_type": "display_data"
    },
    {
     "name": "stdout",
     "output_type": "stream",
     "text": [
      "\n",
      "Train Loss: 0.0187965774866\n",
      "All Test Loss: 0.137822748159 AUC: 0.966778633652\n",
      "---Epoch 53---\n"
     ]
    },
    {
     "data": {
      "application/vnd.jupyter.widget-view+json": {
       "model_id": "92d9b9738abe45e6b136b418fc98c55d"
      }
     },
     "metadata": {},
     "output_type": "display_data"
    },
    {
     "name": "stdout",
     "output_type": "stream",
     "text": [
      "\n",
      "Train Loss: 0.0105518460369\n",
      "All Test Loss: 0.137311165826 AUC: 0.967316236411\n",
      "---Epoch 54---\n"
     ]
    },
    {
     "data": {
      "application/vnd.jupyter.widget-view+json": {
       "model_id": "571ac27b44da441cafae82df5512fc8e"
      }
     },
     "metadata": {},
     "output_type": "display_data"
    },
    {
     "name": "stdout",
     "output_type": "stream",
     "text": [
      "\n",
      "Train Loss: 0.122968971771\n",
      "All Test Loss: 0.138177437643 AUC: 0.96713925842\n",
      "---Epoch 55---\n"
     ]
    },
    {
     "data": {
      "application/vnd.jupyter.widget-view+json": {
       "model_id": "060e56fb44364b5e96f74d6bdfe85fe1"
      }
     },
     "metadata": {},
     "output_type": "display_data"
    },
    {
     "name": "stdout",
     "output_type": "stream",
     "text": [
      "\n",
      "Train Loss: 0.0983925235828\n",
      "All Test Loss: 0.1369502446 AUC: 0.967519690607\n",
      "---Epoch 56---\n"
     ]
    },
    {
     "data": {
      "application/vnd.jupyter.widget-view+json": {
       "model_id": "5686ff5dd650471e939e0b9a3fdfca4c"
      }
     },
     "metadata": {},
     "output_type": "display_data"
    },
    {
     "name": "stdout",
     "output_type": "stream",
     "text": [
      "\n",
      "Train Loss: 0.0170401313792\n",
      "All Test Loss: 0.137746413962 AUC: 0.967471979811\n",
      "---Epoch 57---\n"
     ]
    },
    {
     "data": {
      "application/vnd.jupyter.widget-view+json": {
       "model_id": "d0255fab9a2340369f2b209e460b730c"
      }
     },
     "metadata": {},
     "output_type": "display_data"
    },
    {
     "name": "stdout",
     "output_type": "stream",
     "text": [
      "\n",
      "Train Loss: 0.473229725084\n",
      "All Test Loss: 0.137404783949 AUC: 0.967349934972\n",
      "---Epoch 58---\n"
     ]
    },
    {
     "data": {
      "application/vnd.jupyter.widget-view+json": {
       "model_id": "37157c67788c4214aaea2e4d13b5580c"
      }
     },
     "metadata": {},
     "output_type": "display_data"
    },
    {
     "name": "stdout",
     "output_type": "stream",
     "text": [
      "\n",
      "Train Loss: 0.0605711003363\n",
      "All Test Loss: 0.136964501155 AUC: 0.966998617096\n",
      "---Epoch 59---\n"
     ]
    },
    {
     "data": {
      "application/vnd.jupyter.widget-view+json": {
       "model_id": "eea81f99698b488fa442bfae2be96331"
      }
     },
     "metadata": {},
     "output_type": "display_data"
    },
    {
     "name": "stdout",
     "output_type": "stream",
     "text": [
      "\n",
      "Train Loss: 0.0242826851465\n",
      "All Test Loss: 0.140103602689 AUC: 0.96759017561\n",
      "---Epoch 60---\n"
     ]
    },
    {
     "data": {
      "application/vnd.jupyter.widget-view+json": {
       "model_id": "f4906bbee21241ddb790258be1f9b9f5"
      }
     },
     "metadata": {},
     "output_type": "display_data"
    },
    {
     "name": "stdout",
     "output_type": "stream",
     "text": [
      "\n",
      "Train Loss: 0.0175708961795\n",
      "All Test Loss: 0.139123766914 AUC: 0.966939350531\n",
      "---Epoch 61---\n"
     ]
    },
    {
     "data": {
      "application/vnd.jupyter.widget-view+json": {
       "model_id": "1593c274b7d547a8995d6f9f70bb5be9"
      }
     },
     "metadata": {},
     "output_type": "display_data"
    },
    {
     "name": "stdout",
     "output_type": "stream",
     "text": [
      "\n",
      "Train Loss: 0.0977246425017\n",
      "All Test Loss: 0.136957307015 AUC: 0.967478034481\n",
      "---Epoch 62---\n"
     ]
    },
    {
     "data": {
      "application/vnd.jupyter.widget-view+json": {
       "model_id": "c2d8a9337a3745edb808af866038a961"
      }
     },
     "metadata": {},
     "output_type": "display_data"
    },
    {
     "name": "stdout",
     "output_type": "stream",
     "text": [
      "\n",
      "Train Loss: 0.046394925127\n",
      "All Test Loss: 0.140236292795 AUC: 0.966757321216\n",
      "---Epoch 63---\n"
     ]
    },
    {
     "data": {
      "application/vnd.jupyter.widget-view+json": {
       "model_id": "f1b12f81d4e94847b162d90ef6cd0dbe"
      }
     },
     "metadata": {},
     "output_type": "display_data"
    },
    {
     "name": "stdout",
     "output_type": "stream",
     "text": [
      "\n",
      "Train Loss: 0.0167075908689\n",
      "All Test Loss: 0.137265494882 AUC: 0.96757827386\n",
      "---Epoch 64---\n"
     ]
    },
    {
     "data": {
      "application/vnd.jupyter.widget-view+json": {
       "model_id": "9a50d723f4384b9480e1f79fc96fb9fd"
      }
     },
     "metadata": {},
     "output_type": "display_data"
    }
   ],
   "source": [
    "class Model1(nn.Module):\n",
    "    def __init__(self):\n",
    "        super(Model1, self).__init__()\n",
    "        self.post_embedding = nn.Embedding(3182, 2)\n",
    "        self.drug_embedding = nn.Embedding(2870, 20)#changed from 30\n",
    "        #self.inp_embedding = nn.Embedding(2, 10)\n",
    "        self.dx_embedding = nn.Embedding(12, 7) #changed from 5 to 7\n",
    "        self.gru1 = nn.GRU(35, 96, 4, batch_first=True,dropout=0.2)\n",
    "        self.dense1 = nn.Linear(96, 2)\n",
    "        self.softmax = nn.LogSoftmax()\n",
    "    \n",
    "    def forward(self, hidden, inp, posts, drugs, dxs):\n",
    "        posts_e = self.post_embedding(posts)\n",
    "        drugs_e = self.drug_embedding(drugs)\n",
    "        dxs_e = self.dx_embedding(dxs)\n",
    "        #inp_e = self.inp_embedding(inp)\n",
    "        final_input = torch.cat((hidden, inp, posts_e, drugs_e, dxs_e),dim=2)\n",
    "    \n",
    "        h_1 = Variable(torch.zeros(4,inp.size(0), 96).double(), requires_grad=False).cuda()\n",
    "        output, h_2 = self.gru1(final_input, h_1)\n",
    "\n",
    "        x = self.dense1(h_2[-1])\n",
    "        x = self.softmax(x)\n",
    "        \n",
    "        return x\n",
    "\n",
    "\n",
    "#np.random.seed(42) # new seed\n",
    "#torch.manual_seed(42)\n",
    "\n",
    "model = Model1()\n",
    "model.double()\n",
    "model.cuda()\n",
    "criterion = nn.CrossEntropyLoss().cuda()\n",
    "optimizer = torch.optim.Adam(model.parameters(), lr=0.0001, weight_decay=0)\n",
    "train_losses = []\n",
    "test_losses = []\n",
    "test_aucs = []\n",
    "\n",
    "train(chkpoint='model17_post9_4_96_lr_0001.tar', \n",
    "      epochs=300, \n",
    "      model=model, \n",
    "      optimizer=optimizer, \n",
    "      criterion=criterion, \n",
    "      test_losses=test_losses,\n",
    "     train_losses=train_losses,\n",
    "     test_aucs=test_aucs)"
   ]
  },
  {
   "cell_type": "code",
   "execution_count": null,
   "metadata": {
    "collapsed": true
   },
   "outputs": [],
   "source": [
    "data_dict = torch.load('model10_post9_3_64_lr_001/epoch-2-963.tar')\n",
    "#data_dict['optimizer'] = torch.optim.Adam(model.parameters(), lr=0.0003)\n",
    "#data_dict['optimizer'] = torch.optim.SGD(model.parameters(), lr=0.001, momentum=1.3, nesterov=True)\n",
    "train(chkpoint='model10_post9_3_64_lr_001.tar', epochs=30, **data_dict)"
   ]
  },
  {
   "cell_type": "code",
   "execution_count": 12,
   "metadata": {},
   "outputs": [
    {
     "name": "stdout",
     "output_type": "stream",
     "text": [
      "---Epoch 19---\n"
     ]
    },
    {
     "data": {
      "application/vnd.jupyter.widget-view+json": {
       "model_id": "89ded35eeb27480a87bf52d2ddd06c3e"
      }
     },
     "metadata": {},
     "output_type": "display_data"
    },
    {
     "name": "stdout",
     "output_type": "stream",
     "text": [
      "\n",
      "Train Loss: 0.0882221857078\n",
      "All Test Loss: 0.137210664155 AUC: 0.966882912361\n",
      "---Epoch 20---\n"
     ]
    },
    {
     "data": {
      "application/vnd.jupyter.widget-view+json": {
       "model_id": "178a96377f8f47b28beda478122e69bd"
      }
     },
     "metadata": {},
     "output_type": "display_data"
    },
    {
     "name": "stdout",
     "output_type": "stream",
     "text": [
      "\n",
      "Train Loss: 0.187242742521\n",
      "All Test Loss: 0.141372579546 AUC: 0.965857830858\n",
      "---Epoch 21---\n"
     ]
    },
    {
     "data": {
      "application/vnd.jupyter.widget-view+json": {
       "model_id": "02d25a4108f84b07adacfed27c53c8d5"
      }
     },
     "metadata": {},
     "output_type": "display_data"
    },
    {
     "name": "stdout",
     "output_type": "stream",
     "text": [
      "\n",
      "Train Loss: 0.0842310044231\n",
      "All Test Loss: 0.140310185558 AUC: 0.966894770864\n",
      "---Epoch 22---\n"
     ]
    },
    {
     "data": {
      "application/vnd.jupyter.widget-view+json": {
       "model_id": "b7498383608742bfb39dbe7bbd5920a4"
      }
     },
     "metadata": {},
     "output_type": "display_data"
    },
    {
     "name": "stdout",
     "output_type": "stream",
     "text": [
      "\n",
      "Train Loss: 0.0407696297891\n",
      "All Test Loss: 0.140559540034 AUC: 0.966555034706\n",
      "---Epoch 23---\n"
     ]
    },
    {
     "data": {
      "application/vnd.jupyter.widget-view+json": {
       "model_id": "4049ceaf9cbe4c20a23a4f8102e2c713"
      }
     },
     "metadata": {},
     "output_type": "display_data"
    },
    {
     "name": "stdout",
     "output_type": "stream",
     "text": [
      "\n",
      "Train Loss: 0.0192146036612\n",
      "All Test Loss: 0.140120922814 AUC: 0.966307191133\n",
      "---Epoch 24---\n"
     ]
    },
    {
     "data": {
      "application/vnd.jupyter.widget-view+json": {
       "model_id": "a2335567da1a491eb5233aef384eaca3"
      }
     },
     "metadata": {},
     "output_type": "display_data"
    },
    {
     "name": "stdout",
     "output_type": "stream",
     "text": [
      "\n",
      "Train Loss: 0.374695956372\n",
      "All Test Loss: 0.13882760964 AUC: 0.966562092721\n",
      "---Epoch 25---\n"
     ]
    },
    {
     "data": {
      "application/vnd.jupyter.widget-view+json": {
       "model_id": "b6ee8f22ed7d4cbd86ee0f7b46c28633"
      }
     },
     "metadata": {},
     "output_type": "display_data"
    },
    {
     "name": "stdout",
     "output_type": "stream",
     "text": [
      "\n",
      "Train Loss: 0.0162339988752\n",
      "All Test Loss: 0.144060908465 AUC: 0.967039373672\n",
      "---Epoch 26---\n"
     ]
    },
    {
     "data": {
      "application/vnd.jupyter.widget-view+json": {
       "model_id": "afd3926a652946268a0a38be0954eb89"
      }
     },
     "metadata": {},
     "output_type": "display_data"
    },
    {
     "name": "stdout",
     "output_type": "stream",
     "text": [
      "\n",
      "Train Loss: 0.468255587505\n",
      "All Test Loss: 0.138188695435 AUC: 0.966005495599\n",
      "---Epoch 27---\n"
     ]
    },
    {
     "data": {
      "application/vnd.jupyter.widget-view+json": {
       "model_id": "e7898119c6be42baa9b681363051ae34"
      }
     },
     "metadata": {},
     "output_type": "display_data"
    },
    {
     "name": "stdout",
     "output_type": "stream",
     "text": [
      "\n",
      "Train Loss: 0.0333150666509\n",
      "All Test Loss: 0.138592460651 AUC: 0.966949565623\n",
      "---Epoch 28---\n"
     ]
    },
    {
     "data": {
      "application/vnd.jupyter.widget-view+json": {
       "model_id": "3fe0b0e679b94f958b2610d5bb6619bb"
      }
     },
     "metadata": {},
     "output_type": "display_data"
    },
    {
     "ename": "KeyboardInterrupt",
     "evalue": "",
     "output_type": "error",
     "traceback": [
      "\u001b[0;31m---------------------------------------------------------------------------\u001b[0m",
      "\u001b[0;31mKeyboardInterrupt\u001b[0m                         Traceback (most recent call last)",
      "\u001b[0;32m<ipython-input-12-21e6da6b624d>\u001b[0m in \u001b[0;36m<module>\u001b[0;34m()\u001b[0m\n\u001b[1;32m      1\u001b[0m \u001b[0mdata_dict\u001b[0m \u001b[0;34m=\u001b[0m \u001b[0mtorch\u001b[0m\u001b[0;34m.\u001b[0m\u001b[0mload\u001b[0m\u001b[0;34m(\u001b[0m\u001b[0;34m'model15_post9_4_64_lr_0001/epoch-18-966.tar'\u001b[0m\u001b[0;34m)\u001b[0m\u001b[0;34m\u001b[0m\u001b[0m\n\u001b[0;32m----> 2\u001b[0;31m \u001b[0mtrain\u001b[0m\u001b[0;34m(\u001b[0m\u001b[0mchkpoint\u001b[0m\u001b[0;34m=\u001b[0m\u001b[0;34m'model15_post9_4_64_lr_0001.tar'\u001b[0m\u001b[0;34m,\u001b[0m \u001b[0mepochs\u001b[0m\u001b[0;34m=\u001b[0m\u001b[0;36m200\u001b[0m\u001b[0;34m,\u001b[0m \u001b[0;34m**\u001b[0m\u001b[0mdata_dict\u001b[0m\u001b[0;34m)\u001b[0m\u001b[0;34m\u001b[0m\u001b[0m\n\u001b[0m",
      "\u001b[0;32m<ipython-input-10-ee7c04ec1599>\u001b[0m in \u001b[0;36mtrain\u001b[0;34m(chkpoint, epochs, model, criterion, optimizer, train_losses, test_losses, test_aucs, cur_epoch, **kwargs)\u001b[0m\n\u001b[1;32m     32\u001b[0m         \u001b[0mnum_cycles\u001b[0m \u001b[0;34m/=\u001b[0m \u001b[0;36m2\u001b[0m\u001b[0;34m\u001b[0m\u001b[0m\n\u001b[1;32m     33\u001b[0m         \u001b[0;32mfor\u001b[0m \u001b[0mcycle\u001b[0m \u001b[0;32min\u001b[0m \u001b[0mtqdm_notebook\u001b[0m\u001b[0;34m(\u001b[0m\u001b[0mxrange\u001b[0m\u001b[0;34m(\u001b[0m\u001b[0mnum_cycles\u001b[0m\u001b[0;34m)\u001b[0m\u001b[0;34m)\u001b[0m\u001b[0;34m:\u001b[0m\u001b[0;34m\u001b[0m\u001b[0m\n\u001b[0;32m---> 34\u001b[0;31m             \u001b[0mhidden\u001b[0m\u001b[0;34m,\u001b[0m \u001b[0minp\u001b[0m\u001b[0;34m,\u001b[0m \u001b[0mtarget\u001b[0m \u001b[0;34m=\u001b[0m \u001b[0mrandom_batch\u001b[0m\u001b[0;34m(\u001b[0m\u001b[0;36m10\u001b[0m\u001b[0;34m)\u001b[0m\u001b[0;34m\u001b[0m\u001b[0m\n\u001b[0m\u001b[1;32m     35\u001b[0m             \u001b[0mhidden\u001b[0m\u001b[0;34m,\u001b[0m \u001b[0minp\u001b[0m\u001b[0;34m,\u001b[0m \u001b[0mposts\u001b[0m\u001b[0;34m,\u001b[0m \u001b[0mdrugs\u001b[0m\u001b[0;34m,\u001b[0m \u001b[0mdxs\u001b[0m\u001b[0;34m,\u001b[0m \u001b[0mtarget\u001b[0m \u001b[0;34m=\u001b[0m \u001b[0mtorchify_batch\u001b[0m\u001b[0;34m(\u001b[0m\u001b[0mhidden\u001b[0m\u001b[0;34m,\u001b[0m \u001b[0minp\u001b[0m\u001b[0;34m,\u001b[0m \u001b[0mtarget\u001b[0m\u001b[0;34m)\u001b[0m\u001b[0;34m\u001b[0m\u001b[0m\n\u001b[1;32m     36\u001b[0m             \u001b[0mtarget\u001b[0m\u001b[0;34m.\u001b[0m\u001b[0mcuda\u001b[0m\u001b[0;34m(\u001b[0m\u001b[0;34m)\u001b[0m\u001b[0;34m\u001b[0m\u001b[0m\n",
      "\u001b[0;32m<ipython-input-2-35d127bec854>\u001b[0m in \u001b[0;36mrandom_batch\u001b[0;34m(batch_size)\u001b[0m\n\u001b[1;32m     39\u001b[0m \u001b[0;32mdef\u001b[0m \u001b[0mrandom_batch\u001b[0m\u001b[0;34m(\u001b[0m\u001b[0mbatch_size\u001b[0m\u001b[0;34m=\u001b[0m\u001b[0;36m1\u001b[0m\u001b[0;34m)\u001b[0m\u001b[0;34m:\u001b[0m\u001b[0;34m\u001b[0m\u001b[0m\n\u001b[1;32m     40\u001b[0m     \u001b[0mchunk_len\u001b[0m \u001b[0;34m=\u001b[0m \u001b[0mnp\u001b[0m\u001b[0;34m.\u001b[0m\u001b[0mrandom\u001b[0m\u001b[0;34m.\u001b[0m\u001b[0mchoice\u001b[0m\u001b[0;34m(\u001b[0m\u001b[0mbucketlengths\u001b[0m\u001b[0;34m.\u001b[0m\u001b[0mkeys\u001b[0m\u001b[0;34m(\u001b[0m\u001b[0;34m)\u001b[0m\u001b[0;34m,\u001b[0m \u001b[0;36m1\u001b[0m\u001b[0;34m,\u001b[0m \u001b[0mp\u001b[0m\u001b[0;34m=\u001b[0m\u001b[0mnp\u001b[0m\u001b[0;34m.\u001b[0m\u001b[0marray\u001b[0m\u001b[0;34m(\u001b[0m\u001b[0mbucketlengths\u001b[0m\u001b[0;34m.\u001b[0m\u001b[0mvalues\u001b[0m\u001b[0;34m(\u001b[0m\u001b[0;34m)\u001b[0m\u001b[0;34m)\u001b[0m\u001b[0;34m/\u001b[0m\u001b[0mfloat\u001b[0m\u001b[0;34m(\u001b[0m\u001b[0msum\u001b[0m\u001b[0;34m(\u001b[0m\u001b[0mbucketlengths\u001b[0m\u001b[0;34m.\u001b[0m\u001b[0mvalues\u001b[0m\u001b[0;34m(\u001b[0m\u001b[0;34m)\u001b[0m\u001b[0;34m)\u001b[0m\u001b[0;34m)\u001b[0m\u001b[0;34m)\u001b[0m\u001b[0;34m[\u001b[0m\u001b[0;36m0\u001b[0m\u001b[0;34m]\u001b[0m\u001b[0;34m\u001b[0m\u001b[0m\n\u001b[0;32m---> 41\u001b[0;31m     \u001b[0mbucket\u001b[0m \u001b[0;34m=\u001b[0m \u001b[0mnp\u001b[0m\u001b[0;34m.\u001b[0m\u001b[0marray\u001b[0m\u001b[0;34m(\u001b[0m\u001b[0mtrain_pt_by_len\u001b[0m\u001b[0;34m[\u001b[0m\u001b[0mchunk_len\u001b[0m\u001b[0;34m]\u001b[0m\u001b[0;34m)\u001b[0m\u001b[0;34m\u001b[0m\u001b[0m\n\u001b[0m\u001b[1;32m     42\u001b[0m     \u001b[0mhidden\u001b[0m\u001b[0;34m,\u001b[0m \u001b[0minp\u001b[0m\u001b[0;34m,\u001b[0m \u001b[0mlabels\u001b[0m \u001b[0;34m=\u001b[0m \u001b[0mprepare_input\u001b[0m\u001b[0;34m(\u001b[0m\u001b[0mbucket\u001b[0m\u001b[0;34m[\u001b[0m\u001b[0mnp\u001b[0m\u001b[0;34m.\u001b[0m\u001b[0mrandom\u001b[0m\u001b[0;34m.\u001b[0m\u001b[0mchoice\u001b[0m\u001b[0;34m(\u001b[0m\u001b[0mbucket\u001b[0m\u001b[0;34m.\u001b[0m\u001b[0mshape\u001b[0m\u001b[0;34m[\u001b[0m\u001b[0;36m0\u001b[0m\u001b[0;34m]\u001b[0m\u001b[0;34m,\u001b[0m \u001b[0mbatch_size\u001b[0m\u001b[0;34m)\u001b[0m\u001b[0;34m]\u001b[0m\u001b[0;34m)\u001b[0m\u001b[0;34m\u001b[0m\u001b[0m\n\u001b[1;32m     43\u001b[0m \u001b[0;34m\u001b[0m\u001b[0m\n",
      "\u001b[0;31mKeyboardInterrupt\u001b[0m: "
     ]
    }
   ],
   "source": [
    "data_dict = torch.load('model15_post9_4_64_lr_0001/epoch-18-966.tar')\n",
    "train(chkpoint='model15_post9_4_64_lr_0001.tar', epochs=200, **data_dict)"
   ]
  },
  {
   "cell_type": "code",
   "execution_count": 71,
   "metadata": {},
   "outputs": [
    {
     "name": "stdout",
     "output_type": "stream",
     "text": [
      "0.958957016353 0.00762216388464\n",
      "CPU times: user 19.3 s, sys: 565 ms, total: 19.8 s\n",
      "Wall time: 19.8 s\n"
     ]
    }
   ],
   "source": [
    "%%time\n",
    "aucs = np.array([validate(model)[1] for x in range(10)])\n",
    "print np.mean(aucs), np.std(aucs)\n"
   ]
  },
  {
   "cell_type": "code",
   "execution_count": 21,
   "metadata": {},
   "outputs": [
    {
     "data": {
      "application/vnd.jupyter.widget-view+json": {
       "model_id": "62930d9b0c4b461094280b1b24b577bc"
      }
     },
     "metadata": {},
     "output_type": "display_data"
    },
    {
     "name": "stdout",
     "output_type": "stream",
     "text": [
      "\n"
     ]
    }
   ],
   "source": [
    "data_dict = torch.load('model11_post9_4_64_lr_001/epoch-19-965.tar')\n",
    "generate_predictions_csv(data_dict['model'], 'out-log-softmax-965.csv')"
   ]
  },
  {
   "cell_type": "markdown",
   "metadata": {},
   "source": [
    "## Exploring where the mistakes are coming from"
   ]
  },
  {
   "cell_type": "code",
   "execution_count": 43,
   "metadata": {
    "collapsed": true
   },
   "outputs": [],
   "source": [
    "all_true = np.zeros((test_total))\n",
    "all_pred = np.zeros((test_total))\n",
    "\n",
    "bad_answers = []\n",
    "\n",
    "total_test_loss = 0\n",
    "i = 0\n",
    "for b in test_pt_by_len:\n",
    "    hidden, inp, target = prepare_input(np.array(test_pt_by_len[b]))\n",
    "    target2 = target[:]\n",
    "    hidden2 = hidden[:]\n",
    "    inp2 = inp[:]\n",
    "    hidden, inp, posts, drugs, dxs, target = torchify_batch(hidden, inp, target)\n",
    "    out = model(hidden.cuda(), inp.cuda(), posts.cuda(), drugs.cuda(), dxs.cuda())\n",
    "\n",
    "    target.cuda()\n",
    "\n",
    "    loss = criterion(out, target.cuda())\n",
    "    out_np = out.data.cpu().numpy()\n",
    "    for j in xrange(target2.shape[0]):\n",
    "        all_true[i] = int(target2[j])\n",
    "        all_pred[i] = out_np[j][1]\n",
    "        if abs(all_true[i] - all_pred[i]) > 0.99:\n",
    "            bad_answers.append((target2[j], hidden2[j], inp2[j]))\n",
    "        i += 1\n",
    "    total_test_loss += loss.data.cpu().numpy()[0]\n",
    "test_loss = total_test_loss/288\n",
    "test_auc = roc_auc_score(all_true, all_pred)"
   ]
  },
  {
   "cell_type": "code",
   "execution_count": 60,
   "metadata": {},
   "outputs": [
    {
     "name": "stdout",
     "output_type": "stream",
     "text": [
      "802\n"
     ]
    }
   ],
   "source": [
    "uros = 0\n",
    "for target, hidden, transaction in bad_answers:\n",
    "    uros += (np.sum(transaction[:, 4] == 11) > 0)\n",
    "print uros"
   ]
  },
  {
   "cell_type": "code",
   "execution_count": 62,
   "metadata": {},
   "outputs": [
    {
     "data": {
      "text/plain": [
       "7180.51899610243"
      ]
     },
     "execution_count": 62,
     "metadata": {},
     "output_type": "execute_result"
    }
   ],
   "source": [
    "802.0 / test_total * total"
   ]
  },
  {
   "cell_type": "code",
   "execution_count": 13,
   "metadata": {
    "collapsed": true
   },
   "outputs": [],
   "source": [
    "error = all_true - all_pred"
   ]
  },
  {
   "cell_type": "code",
   "execution_count": 31,
   "metadata": {},
   "outputs": [
    {
     "data": {
      "text/plain": [
       "<matplotlib.axes._subplots.AxesSubplot at 0x7fc4b7289910>"
      ]
     },
     "execution_count": 31,
     "metadata": {},
     "output_type": "execute_result"
    },
    {
     "data": {
      "image/png": "[encoded data removed]",
      "text/plain": [
       "<matplotlib.figure.Figure at 0x7fc4b6efab50>"
      ]
     },
     "metadata": {},
     "output_type": "display_data"
    }
   ],
   "source": [
    "sns.distplot(all_pred)"
   ]
  },
  {
   "cell_type": "code",
   "execution_count": 18,
   "metadata": {},
   "outputs": [
    {
     "data": {
      "image/png": "[encoded data removed]",
      "text/plain": [
       "<matplotlib.figure.Figure at 0x7fc4b6e94c50>"
      ]
     },
     "metadata": {},
     "output_type": "display_data"
    },
    {
     "data": {
      "text/plain": [
       "<matplotlib.axes._subplots.AxesSubplot at 0x7fc4b6b3bed0>"
      ]
     },
     "execution_count": 18,
     "metadata": {},
     "output_type": "execute_result"
    },
    {
     "data": {
      "image/png": "[encoded data removed]",
      "text/plain": [
       "<matplotlib.figure.Figure at 0x7fc4b6fbbf90>"
      ]
     },
     "metadata": {},
     "output_type": "display_data"
    }
   ],
   "source": [
    "%matplotlib inline\n",
    "import seaborn as sns\n",
    "import matplotlib.pyplot as plt\n",
    "\n",
    "sns.distplot(error)\n",
    "plt.show()\n",
    "sns.distplot(np.abs(error))"
   ]
  },
  {
   "cell_type": "code",
   "execution_count": 34,
   "metadata": {},
   "outputs": [
    {
     "name": "stdout",
     "output_type": "stream",
     "text": [
      "1354\n",
      "861\n",
      "0.0313626926019\n"
     ]
    }
   ],
   "source": [
    "print np.sum(np.abs(error) > 0.01) 1354\n",
    "print np.sum(np.abs(error) > 0.99) 864\n",
    "print 861.0/test_total"
   ]
  },
  {
   "cell_type": "code",
   "execution_count": null,
   "metadata": {
    "collapsed": true
   },
   "outputs": [],
   "source": [
    "np.abs(error) > 0.99"
   ]
  },
  {
   "cell_type": "code",
   "execution_count": 35,
   "metadata": {},
   "outputs": [
    {
     "data": {
      "text/plain": [
       "27453"
      ]
     },
     "execution_count": 35,
     "metadata": {},
     "output_type": "execute_result"
    }
   ],
   "source": [
    "test_total"
   ]
  },
  {
   "cell_type": "code",
   "execution_count": 73,
   "metadata": {},
   "outputs": [
    {
     "data": {
      "application/vnd.jupyter.widget-view+json": {
       "model_id": "a6753d0390b74d0b83fd08014f1cf555"
      }
     },
     "metadata": {},
     "output_type": "display_data"
    },
    {
     "name": "stdout",
     "output_type": "stream",
     "text": [
      "\n"
     ]
    }
   ],
   "source": [
    "generate_predictions_csv(model, 'out1.csv')"
   ]
  },
  {
   "cell_type": "code",
   "execution_count": null,
   "metadata": {},
   "outputs": [
    {
     "name": "stdout",
     "output_type": "stream",
     "text": [
      "---Epoch 8---\n"
     ]
    },
    {
     "data": {
      "application/vnd.jupyter.widget-view+json": {
       "model_id": "a46f5c5933874bc7b1af983bb6de46b4"
      }
     },
     "metadata": {},
     "output_type": "display_data"
    }
   ],
   "source": [
    "train('model_post1.1_3_32_lr_001.tar', epochs=10, **torch.load('model_post1_3_32_lr_001.tar'))"
   ]
  },
  {
   "cell_type": "code",
   "execution_count": 80,
   "metadata": {},
   "outputs": [
    {
     "data": {
      "text/plain": [
       "{'criterion': CrossEntropyLoss (\n",
       " ), 'cur_epoch': 4, 'model': Model1 (\n",
       "   (drug_embedding): Embedding(2870, 30)\n",
       "   (dx_embedding): Embedding(12, 5)\n",
       "   (gru1): GRU(39, 32, num_layers=3, batch_first=True)\n",
       "   (dense1): Linear (32 -> 2)\n",
       "   (softmax): Softmax ()\n",
       " ), 'optimizer': <torch.optim.adam.Adam at 0x7f23016a2350>, 'test_aucs': [0.9497745120551091,\n",
       "  0.95737772101378837,\n",
       "  0.96352282510260245,\n",
       "  0.97322535701846047], 'test_losses': [0.35393751389666983,\n",
       "  0.35761409787089349,\n",
       "  0.35281944691292533,\n",
       "  0.34829183176775053], 'train_losses': [0.37126914617345386,\n",
       "  0.33828777079089706,\n",
       "  0.33836713117440947,\n",
       "  0.39558140579214862]}"
      ]
     },
     "execution_count": 80,
     "metadata": {},
     "output_type": "execute_result"
    }
   ],
   "source": [
    "torch.load('model_3_32_lr_001.tar')"
   ]
  },
  {
   "cell_type": "code",
   "execution_count": 12,
   "metadata": {},
   "outputs": [
    {
     "name": "stderr",
     "output_type": "stream",
     "text": [
      "Widget Javascript not detected.  It may not be installed or enabled properly.\n"
     ]
    },
    {
     "data": {
      "application/vnd.jupyter.widget-view+json": {
       "model_id": "47bc7c8a91274a079942b00ee753648a"
      }
     },
     "metadata": {},
     "output_type": "display_data"
    },
    {
     "name": "stdout",
     "output_type": "stream",
     "text": [
      "\n"
     ]
    },
    {
     "data": {
      "text/plain": [
       "(0.35821641802842302, 0.94314307203172887)"
      ]
     },
     "execution_count": 12,
     "metadata": {},
     "output_type": "execute_result"
    }
   ],
   "source": [
    "def validate_all(model):\n",
    "    all_true = np.zeros((test_total, 2))\n",
    "    all_pred = np.zeros((test_total, 2))\n",
    "    total_test_loss = 0\n",
    "    i = 0\n",
    "    for b in tqdm_notebook(test_pt_by_len):\n",
    "        hidden, inp, target = prepare_input(np.array(test_pt_by_len[b]))\n",
    "        target2 = target[:]\n",
    "        hidden, inp, posts, drugs, dxs, target = torchify_batch(hidden, inp, target)\n",
    "        out = model(hidden.cuda(), inp.cuda(), posts.cuda(), drugs.cuda(), dxs.cuda())\n",
    "\n",
    "        target.cuda()\n",
    "\n",
    "        loss = criterion(out, target.cuda())\n",
    "        out_np = out.data.cpu().numpy()\n",
    "        for j in xrange(target2.shape[0]):\n",
    "            all_true[i, int(target2[j])] = 1\n",
    "            all_pred[i] = out_np[j]\n",
    "            i += 1\n",
    "        total_test_loss += loss.data.cpu().numpy()[0]\n",
    "    test_loss = total_test_loss/288\n",
    "    test_auc = roc_auc_score(all_true, all_pred)\n",
    "    return test_loss, test_auc\n",
    "\n",
    "validate_all(model)"
   ]
  },
  {
   "cell_type": "code",
   "execution_count": 7,
   "metadata": {},
   "outputs": [
    {
     "data": {
      "text/plain": [
       "27453"
      ]
     },
     "execution_count": 7,
     "metadata": {},
     "output_type": "execute_result"
    }
   ],
   "source": [
    "test_total"
   ]
  },
  {
   "cell_type": "code",
   "execution_count": null,
   "metadata": {
    "collapsed": true
   },
   "outputs": [],
   "source": []
  },
  {
   "cell_type": "code",
   "execution_count": null,
   "metadata": {
    "collapsed": true
   },
   "outputs": [],
   "source": []
  },
  {
   "cell_type": "code",
   "execution_count": null,
   "metadata": {
    "collapsed": true
   },
   "outputs": [],
   "source": []
  }
 ],
 "metadata": {
  "kernelspec": {
   "display_name": "Python 2",
   "language": "python",
   "name": "python2"
  },
  "language_info": {
   "codemirror_mode": {
    "name": "ipython",
    "version": 2
   },
   "file_extension": ".py",
   "mimetype": "text/x-python",
   "name": "python",
   "nbconvert_exporter": "python",
   "pygments_lexer": "ipython2",
   "version": "2.7.6"
  }
 },
 "nbformat": 4,
 "nbformat_minor": 2
}
