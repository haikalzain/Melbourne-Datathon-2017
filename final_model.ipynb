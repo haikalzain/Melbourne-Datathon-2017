{
 "cells": [
  {
   "cell_type": "markdown",
   "metadata": {},
   "source": [
    "## Plan\n",
    "1. Rewrite in keras - we already bucketing sequences\n",
    "2. Use an embedding layer to get drug code vectors.\n",
    "3. Get drug code tree thingy.\n",
    "4. Use rolling diagnosis to improve model"
   ]
  },
  {
   "cell_type": "code",
   "execution_count": 6,
   "metadata": {
    "collapsed": true
   },
   "outputs": [],
   "source": [
    "#%%time\n",
    "#lets use the drug code\n",
    "import marshal, gzip\n",
    "pt_by_len = marshal.load(open('train_comprehensive_ptbylen.m', 'rb'))\n",
    "pred_by_len = marshal.load(open('pred_comprehensive_pts.m', 'rb'))\n",
    "\n",
    "def get_maxes():\n",
    "    hidden_max = [-1000.0] * 5\n",
    "    input_max = [-1000.0] * 12\n",
    "    for b in pt_by_len:\n",
    "        for hidden, inp, label in pt_by_len[b]:\n",
    "            for i, v in enumerate(hidden):\n",
    "                hidden_max[i] = max(hidden_max[i], v)\n",
    "            for inp_i in inp:\n",
    "                for i, v in enumerate(inp_i):\n",
    "                    input_max[i] = max(input_max[i], v)\n",
    "    print hidden_max\n",
    "    print input_max\n",
    "hidden_max = [1.0, 1.0, 1.0, 1.0, 2526]\n",
    "input_max = [0.997, 1.0, 4039, 6880.7, 1041874.5, 11682.85, 1, 6, 60258, 3182, 2869, 12] #must add 1!!!\n"
   ]
  },
  {
   "cell_type": "code",
   "execution_count": 7,
   "metadata": {},
   "outputs": [
    {
     "name": "stdout",
     "output_type": "stream",
     "text": [
      "245794 27453\n"
     ]
    }
   ],
   "source": [
    "import random\n",
    "from sklearn.model_selection import train_test_split\n",
    "import numpy as np\n",
    "\n",
    "random.seed(42)\n",
    "np.random.seed(42)\n",
    "\n",
    "def shuffle(length_arr):\n",
    "    train_pt_by_len = {}\n",
    "    test_pt_by_len = {}\n",
    "    for length in length_arr:\n",
    "        if len(length_arr[length]) >= 50:\n",
    "            train_pt_by_len[length], test_pt_by_len[length] = train_test_split(pt_by_len[length], test_size=0.1, random_state=42)\n",
    "    \n",
    "    return train_pt_by_len, test_pt_by_len\n",
    "\n",
    "train_pt_by_len, test_pt_by_len = shuffle(pt_by_len)\n",
    "bucketlengths = {}\n",
    "total = 0\n",
    "for b in train_pt_by_len:\n",
    "    bucketlengths[len(train_pt_by_len[b][0][1])] = len(train_pt_by_len[b])\n",
    "    total += len(train_pt_by_len[b])  \n",
    "\n",
    "def prepare_input(batch):\n",
    "    batch = zip(*batch)\n",
    "    \n",
    "    hidden = np.array(batch[0])\n",
    "    hidden = np.delete(hidden, (1,2,4),1) # something sex sex age code\n",
    "    hidden[:,1][hidden[:,1] == 1.0] = 0.5577 \n",
    "    \n",
    "    inp = np.array([l[1:] for l in batch[1]])\n",
    "    inp = np.delete(inp ,range(2,9), 2) # now with post code\n",
    "    \n",
    "    \n",
    "    labels = np.array(batch[2])\n",
    "    return hidden, inp, labels\n",
    "    \n",
    "\n",
    "def random_batch(batch_size=1):\n",
    "    chunk_len = np.random.choice(bucketlengths.keys(), 1, p=np.array(bucketlengths.values())/float(sum(bucketlengths.values())))[0]\n",
    "    bucket = np.array(train_pt_by_len[chunk_len])    \n",
    "    hidden, inp, labels = prepare_input(bucket[np.random.choice(bucket.shape[0], batch_size)])\n",
    "    \n",
    "    return hidden, inp, labels\n",
    "\n",
    "test_bucketlengths = {}\n",
    "test_total = 0\n",
    "for b in test_pt_by_len:\n",
    "    test_bucketlengths[len(test_pt_by_len[b][0][1])] = len(test_pt_by_len[b])\n",
    "    test_total += len(test_pt_by_len[b])\n",
    "\n",
    "def random_test_batch(batch_size=1):\n",
    "    chunk_len = np.random.choice(test_bucketlengths.keys(), 1, p=np.array(test_bucketlengths.values())/float(sum(test_bucketlengths.values())))[0]\n",
    "    bucket = np.array(test_pt_by_len[chunk_len])    \n",
    "    hidden, inp, labels = prepare_input(bucket[np.random.choice(bucket.shape[0], batch_size)])\n",
    "    \n",
    "    return hidden, inp, labels\n",
    "\n",
    "print total, test_total"
   ]
  },
  {
   "cell_type": "code",
   "execution_count": 8,
   "metadata": {
    "collapsed": true
   },
   "outputs": [],
   "source": [
    "import torch\n",
    "import torch.nn as nn\n",
    "import torch.nn.functional as F\n",
    "from torch.autograd import Variable\n",
    "from tqdm import tqdm, tqdm_notebook\n",
    "import numpy as np\n",
    "from sklearn.metrics import roc_auc_score\n",
    "import os\n",
    "\n",
    "def torchify_batch(hidden, inp, target=None):\n",
    "    drugs = inp[:, :, -2]\n",
    "    dxs = inp[:, :, -1]\n",
    "    posts = inp[:,:,-3]\n",
    "    inp = inp[:, :, :-3]\n",
    "    hidden = np.repeat(hidden[:,np.newaxis, :], repeats=inp.shape[1], axis=1)\n",
    "    \n",
    "    inp = Variable(torch.from_numpy(inp), requires_grad=False)\n",
    "    posts = Variable(torch.from_numpy(posts), requires_grad=False).long()\n",
    "    drugs = Variable(torch.from_numpy(drugs), requires_grad=False).long()\n",
    "    dxs = Variable(torch.from_numpy(dxs), requires_grad=False).long()\n",
    "    hidden = Variable(torch.from_numpy(hidden), requires_grad=False)\n",
    "    if target is not None:\n",
    "        target = Variable(torch.from_numpy(target), requires_grad=False).long()\n",
    "    \n",
    "    return hidden, inp, posts, drugs, dxs, target\n",
    "\n",
    "def train(chkpoint, epochs, model, criterion, optimizer, train_losses, test_losses, test_aucs, cur_epoch=0, **kwargs):\n",
    "    total = 245794\n",
    "    for epoch in xrange(cur_epoch+1, epochs+1):\n",
    "        print('---Epoch {}---'.format(epoch))\n",
    "        num_cycles = total / 40\n",
    "        num_cycles /= 2\n",
    "        for cycle in tqdm_notebook(xrange(num_cycles)):\n",
    "            hidden, inp, target = random_batch(5) # was 10\n",
    "            hidden, inp, posts, drugs, dxs, target = torchify_batch(hidden, inp, target)\n",
    "            target.cuda()\n",
    "            optimizer.zero_grad()\n",
    "            out = model(hidden.cuda(), inp.cuda(), posts.cuda(), drugs.cuda(), dxs.cuda())\n",
    "            loss = criterion(out, target.cuda())\n",
    "            loss.backward()\n",
    "            optimizer.step()\n",
    "        loss_var = loss.data.cpu().numpy()[0]\n",
    "\n",
    "        total_test_auc = 0\n",
    "        total_test_loss = 0\n",
    "\n",
    "        \n",
    "        batch_aucs = []\n",
    "        #bootstrap = [validate(model) for _ in range(10)]\n",
    "        #aucs = np.array([x[1] for x in bootstrap])\n",
    "        #tests = np.array([x[0] for x in bootstrap])\n",
    "        all_test_loss, all_test_auc = validate_all(model)\n",
    "\n",
    "        #test_loss = total_test_loss/100.0\n",
    "        #test_loss, test_loss_std = np.mean(tests), np.std(tests)\n",
    "        #test_auc, test_auc_std = np.mean(aucs), np.std(aucs)\n",
    "\n",
    "        train_losses.append(loss_var)\n",
    "        test_losses.append(all_test_loss)\n",
    "        test_aucs.append(all_test_auc)\n",
    "        \n",
    "        if not os.path.exists(chkpoint[:-4]):\n",
    "            os.mkdir(chkpoint[:-4])\n",
    "\n",
    "        torch.save({\n",
    "                'cur_epoch': epoch,\n",
    "                'train_losses': train_losses,\n",
    "                'test_losses': test_losses,\n",
    "                'model': model,\n",
    "                'criterion': criterion,\n",
    "                'optimizer': optimizer,\n",
    "                'test_aucs': test_aucs,\n",
    "            }, '{}/epoch-{}-{}.tar'.format(chkpoint[:-4], epoch, int(all_test_auc * 1000)))\n",
    "        \n",
    "        \n",
    "\n",
    "        print('Train Loss: {}'.format(loss_var)) # pass arguments to affect saving / resume behaviour\n",
    "        #print('Test Loss: {} Std: {}'.format(test_loss, test_loss_std))\n",
    "        #print('Test AUC: {} Std: {}'.format(test_auc, test_auc_std))\n",
    "        print('All Test Loss: {} AUC: {}'.format(all_test_loss, all_test_auc))\n",
    "        \n",
    "\n",
    "def validate_all(model):\n",
    "    all_true = np.zeros((test_total, 2))\n",
    "    all_pred = np.zeros((test_total, 2))\n",
    "    total_test_loss = 0\n",
    "    i = 0\n",
    "    for b in test_pt_by_len:\n",
    "        hidden, inp, target = prepare_input(np.array(test_pt_by_len[b]))\n",
    "        target2 = target[:]\n",
    "        hidden, inp, posts, drugs, dxs, target = torchify_batch(hidden, inp, target)\n",
    "        out = model(hidden.cuda(), inp.cuda(), posts.cuda(), drugs.cuda(), dxs.cuda())\n",
    "\n",
    "        target.cuda()\n",
    "\n",
    "        loss = criterion(out, target.cuda())\n",
    "        out_np = out.data.cpu().numpy()\n",
    "        for j in xrange(target2.shape[0]):\n",
    "            all_true[i, int(target2[j])] = 1\n",
    "            all_pred[i] = out_np[j]\n",
    "            i += 1\n",
    "        total_test_loss += loss.data.cpu().numpy()[0]\n",
    "    test_loss = total_test_loss/288\n",
    "    test_auc = roc_auc_score(all_true, all_pred)\n",
    "    return test_loss, test_auc\n",
    "\n",
    "def validate(model):\n",
    "    total_test_loss = 0\n",
    "    all_true = np.zeros((4000, 2))\n",
    "    all_pred = np.zeros((4000, 2))\n",
    "    for i in xrange(100):\n",
    "        hidden, inp, target = random_test_batch(40)\n",
    "        target2 = target[:]\n",
    "        hidden, inp, posts, drugs, dxs, target = torchify_batch(hidden, inp, target)\n",
    "        out = model(hidden.cuda(), inp.cuda(), posts.cuda(), drugs.cuda(), dxs.cuda())\n",
    "\n",
    "        target.cuda()\n",
    "\n",
    "        loss = criterion(out, target.cuda())\n",
    "        out_np = out.data.cpu().numpy()\n",
    "        for j in xrange(40):\n",
    "            all_true[i*40 + j, int(target2[j])] = 1\n",
    "            all_pred[i*40+j] = out_np[j]\n",
    "        total_test_loss += loss.data.cpu().numpy()[0]\n",
    "\n",
    "    test_loss = total_test_loss/100.0\n",
    "    test_auc = roc_auc_score(all_true, all_pred)\n",
    "    return test_loss, test_auc\n",
    "    \n",
    "\n",
    "def generate_predictions_csv(model, filename):\n",
    "    predictions = []\n",
    "    for b in tqdm_notebook(pred_by_len):\n",
    "        hidden, inp, pt_id = prepare_input(pred_by_len[b])\n",
    "        hidden, inp, posts, drugs, dxs, _ = torchify_batch(hidden, inp)\n",
    "        out = model(hidden.cuda(), inp.cuda(), posts.cuda(), drugs.cuda(), dxs.cuda()).data.cpu().numpy()\n",
    "        predictions.extend(zip(pt_id, out[:,1]))\n",
    "\n",
    "    predictions.sort()\n",
    "    with open(filename, 'w') as f:\n",
    "        f.write('Patient_ID,Diabetes\\n')\n",
    "        for a, b in predictions:\n",
    "            f.write('{},{}\\n'.format(a,b))"
   ]
  },
  {
   "cell_type": "code",
   "execution_count": 9,
   "metadata": {
    "collapsed": true
   },
   "outputs": [],
   "source": [
    "class Model1(nn.Module):\n",
    "    def __init__(self):\n",
    "        super(Model1, self).__init__()\n",
    "        self.post_embedding = nn.Embedding(3182, 2)\n",
    "        self.drug_embedding = nn.Embedding(2870, 20)#changed from 30\n",
    "        #self.inp_embedding = nn.Embedding(2, 10)\n",
    "        self.dx_embedding = nn.Embedding(12, 7) #changed from 5 to 7\n",
    "        self.gru1 = nn.GRU(33, 64, 4, batch_first=True)\n",
    "        self.dense1 = nn.Linear(64, 2)\n",
    "        self.softmax = nn.LogSoftmax()\n",
    "    \n",
    "    def forward(self, hidden, inp, posts, drugs, dxs):\n",
    "        posts_e = self.post_embedding(posts)\n",
    "        drugs_e = self.drug_embedding(drugs)\n",
    "        dxs_e = self.dx_embedding(dxs)\n",
    "        #inp_e = self.inp_embedding(inp)\n",
    "        final_input = torch.cat((hidden, inp, posts_e, drugs_e, dxs_e),dim=2)\n",
    "    \n",
    "        h_1 = Variable(torch.zeros(4,inp.size(0), 64).double(), requires_grad=False).cuda()\n",
    "        output, h_2 = self.gru1(final_input, h_1)\n",
    "\n",
    "        x = self.dense1(h_2[-1])\n",
    "        x = self.softmax(x)\n",
    "        \n",
    "        return x\n"
   ]
  },
  {
   "cell_type": "code",
   "execution_count": 6,
   "metadata": {
    "scrolled": true
   },
   "outputs": [
    {
     "name": "stdout",
     "output_type": "stream",
     "text": [
      "---Epoch 1---\n"
     ]
    },
    {
     "data": {
      "application/vnd.jupyter.widget-view+json": {
       "model_id": "5033da7e7db949928f69ded1bbf9aba3"
      }
     },
     "metadata": {},
     "output_type": "display_data"
    },
    {
     "name": "stdout",
     "output_type": "stream",
     "text": [
      "\n",
      "Train Loss: 0.0349660960014\n",
      "Test Loss: 0.160597198057 Std: 0.00992724227776\n",
      "Test AUC: 0.951770061405 Std: 0.00771747522252\n",
      "All Test Loss: 0.190584005636 AUC: 0.951986444529\n",
      "---Epoch 2---\n"
     ]
    },
    {
     "data": {
      "application/vnd.jupyter.widget-view+json": {
       "model_id": "d9404e322eb14b0199f503d1f6602e12"
      }
     },
     "metadata": {},
     "output_type": "display_data"
    },
    {
     "name": "stdout",
     "output_type": "stream",
     "text": [
      "732/|/ 24%|| 732/3072 [01:10<03:45, 10.39it/s]\n",
      "Train Loss: 0.0384061043114\n",
      "Test Loss: 0.146109525977 Std: 0.00705098075086\n",
      "Test AUC: 0.956585855001 Std: 0.00643771694121\n",
      "All Test Loss: 0.166072610071 AUC: 0.956428288503\n",
      "---Epoch 3---\n"
     ]
    },
    {
     "data": {
      "application/vnd.jupyter.widget-view+json": {
       "model_id": "73e7735a41f84c2ebc11e214176163fa"
      }
     },
     "metadata": {},
     "output_type": "display_data"
    },
    {
     "name": "stdout",
     "output_type": "stream",
     "text": [
      "\n",
      "Train Loss: 0.0286252238081\n",
      "Test Loss: 0.134151134961 Std: 0.00860767292439\n",
      "Test AUC: 0.958981935027 Std: 0.00641094086806\n",
      "All Test Loss: 0.153270900877 AUC: 0.960388111584\n",
      "---Epoch 4---\n"
     ]
    },
    {
     "data": {
      "application/vnd.jupyter.widget-view+json": {
       "model_id": "1af296b0600f4e369f744f14d2e76134"
      }
     },
     "metadata": {},
     "output_type": "display_data"
    },
    {
     "name": "stdout",
     "output_type": "stream",
     "text": [
      "\n",
      "Train Loss: 0.0176294049165\n",
      "Test Loss: 0.134316233646 Std: 0.00484198255913\n",
      "Test AUC: 0.962725191498 Std: 0.00516449662706\n",
      "All Test Loss: 0.150957256764 AUC: 0.963165059824\n",
      "---Epoch 5---\n"
     ]
    },
    {
     "data": {
      "application/vnd.jupyter.widget-view+json": {
       "model_id": "f2a9c86b793440f48af2eea20182652f"
      }
     },
     "metadata": {},
     "output_type": "display_data"
    },
    {
     "name": "stdout",
     "output_type": "stream",
     "text": [
      "\n",
      "Train Loss: 0.268096706742\n",
      "Test Loss: 0.132445998586 Std: 0.006288677232\n",
      "Test AUC: 0.962633404765 Std: 0.00539667712702\n",
      "All Test Loss: 0.150233061836 AUC: 0.963031225678\n",
      "---Epoch 6---\n"
     ]
    },
    {
     "data": {
      "application/vnd.jupyter.widget-view+json": {
       "model_id": "f4cbf6940f474d748b2c7bc9cb3622dc"
      }
     },
     "metadata": {},
     "output_type": "display_data"
    },
    {
     "name": "stdout",
     "output_type": "stream",
     "text": [
      "\n",
      "Train Loss: 0.0186047579232\n",
      "Test Loss: 0.13507849896 Std: 0.00868529763153\n",
      "Test AUC: 0.965099968995 Std: 0.00374464624164\n",
      "All Test Loss: 0.144364784963 AUC: 0.963668886176\n",
      "---Epoch 7---\n"
     ]
    },
    {
     "data": {
      "application/vnd.jupyter.widget-view+json": {
       "model_id": "91cd88d40a444d978e63bfb839a215b1"
      }
     },
     "metadata": {},
     "output_type": "display_data"
    },
    {
     "name": "stdout",
     "output_type": "stream",
     "text": [
      "\n",
      "Train Loss: 0.034931134151\n",
      "Test Loss: 0.127940161526 Std: 0.00586711420044\n",
      "Test AUC: 0.96358414895 Std: 0.00518400960566\n",
      "All Test Loss: 0.145415393631 AUC: 0.963866380847\n",
      "---Epoch 8---\n"
     ]
    },
    {
     "data": {
      "application/vnd.jupyter.widget-view+json": {
       "model_id": "dcca54b2e9ee4ecab66f3c577e8f1065"
      }
     },
     "metadata": {},
     "output_type": "display_data"
    },
    {
     "name": "stdout",
     "output_type": "stream",
     "text": [
      "\n",
      "Train Loss: 0.0125416649775\n",
      "Test Loss: 0.129355034644 Std: 0.0100016735693\n",
      "Test AUC: 0.96411068082 Std: 0.00677432824124\n",
      "All Test Loss: 0.142958742946 AUC: 0.964686044712\n",
      "---Epoch 9---\n"
     ]
    },
    {
     "data": {
      "application/vnd.jupyter.widget-view+json": {
       "model_id": "0382cc659b8640779c735e226a65eb1b"
      }
     },
     "metadata": {},
     "output_type": "display_data"
    },
    {
     "name": "stdout",
     "output_type": "stream",
     "text": [
      "\n",
      "Train Loss: 0.0453235095351\n",
      "Test Loss: 0.125329050356 Std: 0.0111172442213\n",
      "Test AUC: 0.967243584225 Std: 0.00476329165595\n",
      "All Test Loss: 0.143686377431 AUC: 0.964226443396\n",
      "---Epoch 10---\n"
     ]
    },
    {
     "data": {
      "application/vnd.jupyter.widget-view+json": {
       "model_id": "195f29b678154fdba5f73b28edfe6080"
      }
     },
     "metadata": {},
     "output_type": "display_data"
    },
    {
     "name": "stdout",
     "output_type": "stream",
     "text": [
      "\n",
      "Train Loss: 0.0421281932934\n",
      "Test Loss: 0.126834903436 Std: 0.00935902665971\n",
      "Test AUC: 0.96480850227 Std: 0.00702925059991\n",
      "All Test Loss: 0.142197992984 AUC: 0.964883020411\n",
      "---Epoch 11---\n"
     ]
    },
    {
     "data": {
      "application/vnd.jupyter.widget-view+json": {
       "model_id": "eda31958507c40f1822b57997e8f9d7f"
      }
     },
     "metadata": {},
     "output_type": "display_data"
    },
    {
     "name": "stdout",
     "output_type": "stream",
     "text": [
      "\n",
      "Train Loss: 0.0173420195278\n",
      "Test Loss: 0.129501062615 Std: 0.0144026731398\n",
      "Test AUC: 0.964552241099 Std: 0.00811387565031\n",
      "All Test Loss: 0.143622907538 AUC: 0.964514308335\n",
      "---Epoch 12---\n"
     ]
    },
    {
     "data": {
      "application/vnd.jupyter.widget-view+json": {
       "model_id": "83b09ee825c0443cb1122e2e11560f99"
      }
     },
     "metadata": {},
     "output_type": "display_data"
    },
    {
     "name": "stdout",
     "output_type": "stream",
     "text": [
      "\n",
      "Train Loss: 0.0614150336358\n",
      "Test Loss: 0.13356451131 Std: 0.0130608198577\n",
      "Test AUC: 0.964235643501 Std: 0.00781286552373\n",
      "All Test Loss: 0.148860142459 AUC: 0.964829436585\n",
      "---Epoch 13---\n"
     ]
    },
    {
     "data": {
      "application/vnd.jupyter.widget-view+json": {
       "model_id": "330fac2229ac48a8905e40d9d94b4228"
      }
     },
     "metadata": {},
     "output_type": "display_data"
    },
    {
     "name": "stdout",
     "output_type": "stream",
     "text": [
      "\n",
      "Train Loss: 0.0196487938875\n",
      "Test Loss: 0.128800030839 Std: 0.00547296733742\n",
      "Test AUC: 0.965727801158 Std: 0.00355185398625\n",
      "All Test Loss: 0.139978921106 AUC: 0.965548368048\n",
      "---Epoch 14---\n"
     ]
    },
    {
     "data": {
      "application/vnd.jupyter.widget-view+json": {
       "model_id": "a566fbb2c91a408683920bf0c9807778"
      }
     },
     "metadata": {},
     "output_type": "display_data"
    },
    {
     "name": "stdout",
     "output_type": "stream",
     "text": [
      "\n",
      "Train Loss: 0.0262787279162\n",
      "Test Loss: 0.125539868524 Std: 0.0073245210651\n",
      "Test AUC: 0.966596123295 Std: 0.00330665336321\n",
      "All Test Loss: 0.139748662615 AUC: 0.965591001571\n",
      "---Epoch 15---\n"
     ]
    },
    {
     "data": {
      "application/vnd.jupyter.widget-view+json": {
       "model_id": "45d06486a3d0421a96df13109b044fca"
      }
     },
     "metadata": {},
     "output_type": "display_data"
    },
    {
     "name": "stdout",
     "output_type": "stream",
     "text": [
      "\n",
      "Train Loss: 0.0150136865319\n",
      "Test Loss: 0.135178096872 Std: 0.00993918598873\n",
      "Test AUC: 0.962467459843 Std: 0.00620084390293\n",
      "All Test Loss: 0.141033912291 AUC: 0.965679806274\n",
      "---Epoch 16---\n"
     ]
    },
    {
     "data": {
      "application/vnd.jupyter.widget-view+json": {
       "model_id": "6753a3d944384ed2bc562bda23c859c2"
      }
     },
     "metadata": {},
     "output_type": "display_data"
    },
    {
     "name": "stdout",
     "output_type": "stream",
     "text": [
      "\n",
      "Train Loss: 0.199204431061\n",
      "Test Loss: 0.131148756004 Std: 0.0118992774212\n",
      "Test AUC: 0.963056667313 Std: 0.0057744417138\n",
      "All Test Loss: 0.139732581038 AUC: 0.965652430518\n",
      "---Epoch 17---\n"
     ]
    },
    {
     "data": {
      "application/vnd.jupyter.widget-view+json": {
       "model_id": "bffca0b69fab4e7ea8d26a29e7446d09"
      }
     },
     "metadata": {},
     "output_type": "display_data"
    },
    {
     "name": "stdout",
     "output_type": "stream",
     "text": [
      "\n",
      "Train Loss: 0.0132369884934\n",
      "Test Loss: 0.124643875007 Std: 0.00654096950448\n",
      "Test AUC: 0.965911488892 Std: 0.00303419113734\n",
      "All Test Loss: 0.139268369401 AUC: 0.965553116639\n",
      "---Epoch 18---\n"
     ]
    },
    {
     "data": {
      "application/vnd.jupyter.widget-view+json": {
       "model_id": "168d074dfd5e44628a6b2741e9505a53"
      }
     },
     "metadata": {},
     "output_type": "display_data"
    },
    {
     "name": "stdout",
     "output_type": "stream",
     "text": [
      "\n",
      "Train Loss: 0.284232071176\n",
      "Test Loss: 0.130860120132 Std: 0.0113917969601\n",
      "Test AUC: 0.966616442672 Std: 0.00745481702035\n",
      "All Test Loss: 0.141979055596 AUC: 0.965516390743\n",
      "---Epoch 19---\n"
     ]
    },
    {
     "data": {
      "application/vnd.jupyter.widget-view+json": {
       "model_id": "b41a3f36abbd4d42b983e6a63ef1e83c"
      }
     },
     "metadata": {},
     "output_type": "display_data"
    },
    {
     "name": "stdout",
     "output_type": "stream",
     "text": [
      "\n",
      "Train Loss: 0.023757507194\n",
      "Test Loss: 0.128859770021 Std: 0.00547861993234\n",
      "Test AUC: 0.965210795515 Std: 0.00477039209731\n",
      "All Test Loss: 0.141029148533 AUC: 0.96578963798\n",
      "---Epoch 20---\n"
     ]
    },
    {
     "data": {
      "application/vnd.jupyter.widget-view+json": {
       "model_id": "3bac230af0c74e8c9fac21321e0da16b"
      }
     },
     "metadata": {},
     "output_type": "display_data"
    },
    {
     "name": "stdout",
     "output_type": "stream",
     "text": [
      "\n",
      "Train Loss: 0.0854013061421\n",
      "Test Loss: 0.129817706706 Std: 0.0107525736801\n",
      "Test AUC: 0.961716985575 Std: 0.00499366151913\n",
      "All Test Loss: 0.143260191302 AUC: 0.96598458104\n",
      "---Epoch 21---\n"
     ]
    },
    {
     "data": {
      "application/vnd.jupyter.widget-view+json": {
       "model_id": "37054a9445ac453aa447a366b54f3df3"
      }
     },
     "metadata": {},
     "output_type": "display_data"
    },
    {
     "name": "stdout",
     "output_type": "stream",
     "text": [
      "\n",
      "Train Loss: 0.0765213239851\n",
      "Test Loss: 0.131892767897 Std: 0.00717609869667\n",
      "Test AUC: 0.963242910518 Std: 0.00430173490682\n",
      "All Test Loss: 0.140638752874 AUC: 0.965067116963\n",
      "---Epoch 22---\n"
     ]
    },
    {
     "data": {
      "application/vnd.jupyter.widget-view+json": {
       "model_id": "614b96ba90f24fa6b014406ca2872c2e"
      }
     },
     "metadata": {},
     "output_type": "display_data"
    },
    {
     "name": "stdout",
     "output_type": "stream",
     "text": [
      "\n",
      "Train Loss: 0.461360587231\n",
      "Test Loss: 0.12704894564 Std: 0.012723338757\n",
      "Test AUC: 0.964728441357 Std: 0.0059929293144\n",
      "All Test Loss: 0.139565915137 AUC: 0.965923697013\n",
      "---Epoch 23---\n"
     ]
    },
    {
     "data": {
      "application/vnd.jupyter.widget-view+json": {
       "model_id": "feefb7faf57a4c80acea153fdca6d769"
      }
     },
     "metadata": {},
     "output_type": "display_data"
    },
    {
     "name": "stdout",
     "output_type": "stream",
     "text": [
      "\n",
      "Train Loss: 0.0175604674937\n",
      "Test Loss: 0.128244530993 Std: 0.0108917573019\n",
      "Test AUC: 0.964082077717 Std: 0.00501114432366\n",
      "All Test Loss: 0.141863832246 AUC: 0.966208327029\n",
      "---Epoch 24---\n"
     ]
    },
    {
     "data": {
      "application/vnd.jupyter.widget-view+json": {
       "model_id": "ea05ac0ed0604e7a8e48c46ec2f391a7"
      }
     },
     "metadata": {},
     "output_type": "display_data"
    },
    {
     "name": "stdout",
     "output_type": "stream",
     "text": [
      "\n",
      "Train Loss: 0.0196492106611\n",
      "Test Loss: 0.131836796339 Std: 0.0140174572904\n",
      "Test AUC: 0.963564088853 Std: 0.00973712441674\n",
      "All Test Loss: 0.13921846193 AUC: 0.966234414005\n",
      "---Epoch 25---\n"
     ]
    },
    {
     "data": {
      "application/vnd.jupyter.widget-view+json": {
       "model_id": "cadd4eef42bb445bae0f9852e7e34d55"
      }
     },
     "metadata": {},
     "output_type": "display_data"
    },
    {
     "name": "stdout",
     "output_type": "stream",
     "text": [
      "\n",
      "Train Loss: 0.161873743018\n",
      "Test Loss: 0.12763111948 Std: 0.00736781333545\n",
      "Test AUC: 0.964469055965 Std: 0.00517760631876\n",
      "All Test Loss: 0.138642485605 AUC: 0.966411262253\n",
      "---Epoch 26---\n"
     ]
    },
    {
     "data": {
      "application/vnd.jupyter.widget-view+json": {
       "model_id": "fda4bc3db72b42d782d0aac07820cf80"
      }
     },
     "metadata": {},
     "output_type": "display_data"
    },
    {
     "name": "stdout",
     "output_type": "stream",
     "text": [
      "\n",
      "Train Loss: 0.414660773385\n",
      "Test Loss: 0.129477269086 Std: 0.011119978\n",
      "Test AUC: 0.963207673325 Std: 0.00492742720478\n",
      "All Test Loss: 0.138264311358 AUC: 0.966403235491\n",
      "---Epoch 27---\n"
     ]
    },
    {
     "data": {
      "application/vnd.jupyter.widget-view+json": {
       "model_id": "0c49ab259ff54191946f2aa07b60ac6a"
      }
     },
     "metadata": {},
     "output_type": "display_data"
    },
    {
     "name": "stdout",
     "output_type": "stream",
     "text": [
      "\n",
      "Train Loss: 0.302036873615\n",
      "Test Loss: 0.133775284403 Std: 0.00965820800933\n",
      "Test AUC: 0.964454145281 Std: 0.00520606218357\n",
      "All Test Loss: 0.139635087241 AUC: 0.966792498846\n",
      "---Epoch 28---\n"
     ]
    },
    {
     "data": {
      "application/vnd.jupyter.widget-view+json": {
       "model_id": "f2810779d62d4fa6979ad61bf1928a2a"
      }
     },
     "metadata": {},
     "output_type": "display_data"
    },
    {
     "name": "stdout",
     "output_type": "stream",
     "text": [
      "\n",
      "Train Loss: 0.0130409749329\n",
      "Test Loss: 0.125804690213 Std: 0.00761663958685\n",
      "Test AUC: 0.967969945955 Std: 0.00408380516124\n",
      "All Test Loss: 0.138722588218 AUC: 0.966275741449\n",
      "---Epoch 29---\n"
     ]
    },
    {
     "data": {
      "application/vnd.jupyter.widget-view+json": {
       "model_id": "22892c1d2160457ebe1f53f065a657ff"
      }
     },
     "metadata": {},
     "output_type": "display_data"
    },
    {
     "name": "stdout",
     "output_type": "stream",
     "text": [
      "\n",
      "Train Loss: 0.0429857820093\n",
      "Test Loss: 0.123557967707 Std: 0.00807578307916\n",
      "Test AUC: 0.967763302251 Std: 0.00721747777706\n",
      "All Test Loss: 0.1389003144 AUC: 0.966721200787\n",
      "---Epoch 30---\n"
     ]
    },
    {
     "data": {
      "application/vnd.jupyter.widget-view+json": {
       "model_id": "158b3af5d1af455988be59d994349e02"
      }
     },
     "metadata": {},
     "output_type": "display_data"
    },
    {
     "name": "stdout",
     "output_type": "stream",
     "text": [
      "\n",
      "Train Loss: 0.463154970052\n",
      "Test Loss: 0.12941777797 Std: 0.00643994811499\n",
      "Test AUC: 0.965043883955 Std: 0.00417766074057\n",
      "All Test Loss: 0.138095893941 AUC: 0.967189814911\n",
      "---Epoch 31---\n"
     ]
    },
    {
     "data": {
      "application/vnd.jupyter.widget-view+json": {
       "model_id": "e5a12021b52547b98d2d84fbd1d42276"
      }
     },
     "metadata": {},
     "output_type": "display_data"
    },
    {
     "name": "stdout",
     "output_type": "stream",
     "text": [
      "\n",
      "Train Loss: 0.018787454333\n",
      "Test Loss: 0.121675618934 Std: 0.00784591149042\n",
      "Test AUC: 0.967155889592 Std: 0.0037676087112\n",
      "All Test Loss: 0.137821274312 AUC: 0.967020016028\n",
      "---Epoch 32---\n"
     ]
    },
    {
     "data": {
      "application/vnd.jupyter.widget-view+json": {
       "model_id": "826a5f8760934e0189469965cebe5faa"
      }
     },
     "metadata": {},
     "output_type": "display_data"
    },
    {
     "name": "stdout",
     "output_type": "stream",
     "text": [
      "\n",
      "Train Loss: 0.548392309705\n",
      "Test Loss: 0.121545605569 Std: 0.00971687813872\n",
      "Test AUC: 0.967441049928 Std: 0.00546572303093\n",
      "All Test Loss: 0.13868427031 AUC: 0.966726364555\n",
      "---Epoch 33---\n"
     ]
    },
    {
     "data": {
      "application/vnd.jupyter.widget-view+json": {
       "model_id": "3d0102c71ddc40a3b3d26a286a3dba50"
      }
     },
     "metadata": {},
     "output_type": "display_data"
    },
    {
     "name": "stdout",
     "output_type": "stream",
     "text": [
      "\n",
      "Train Loss: 0.039103316818\n",
      "Test Loss: 0.127537689162 Std: 0.0077823302838\n",
      "Test AUC: 0.965404543173 Std: 0.00374452976229\n",
      "All Test Loss: 0.139411162604 AUC: 0.966756828193\n",
      "---Epoch 34---\n"
     ]
    },
    {
     "data": {
      "application/vnd.jupyter.widget-view+json": {
       "model_id": "dfbaec1475f34a5083c6d088b4b862e6"
      }
     },
     "metadata": {},
     "output_type": "display_data"
    },
    {
     "name": "stdout",
     "output_type": "stream",
     "text": [
      "\n",
      "Train Loss: 0.0259052428563\n",
      "Test Loss: 0.129888768414 Std: 0.0128921881811\n",
      "Test AUC: 0.966990723852 Std: 0.00489921769013\n",
      "All Test Loss: 0.140148635134 AUC: 0.967059829805\n",
      "---Epoch 35---\n"
     ]
    },
    {
     "data": {
      "application/vnd.jupyter.widget-view+json": {
       "model_id": "eedf441e78964a0ba4fb640e817a836a"
      }
     },
     "metadata": {},
     "output_type": "display_data"
    },
    {
     "name": "stdout",
     "output_type": "stream",
     "text": [
      "\n",
      "Train Loss: 0.482172236091\n",
      "Test Loss: 0.129095003151 Std: 0.00898803487586\n",
      "Test AUC: 0.966972418533 Std: 0.00561512823234\n",
      "All Test Loss: 0.138427885975 AUC: 0.96730068456\n",
      "---Epoch 36---\n"
     ]
    },
    {
     "data": {
      "application/vnd.jupyter.widget-view+json": {
       "model_id": "48eb4c8e6ee74586b874138854535c68"
      }
     },
     "metadata": {},
     "output_type": "display_data"
    },
    {
     "name": "stdout",
     "output_type": "stream",
     "text": [
      "\n",
      "Train Loss: 0.013135854779\n",
      "Test Loss: 0.128397949352 Std: 0.00973622580124\n",
      "Test AUC: 0.966330326112 Std: 0.00604455522198\n",
      "All Test Loss: 0.138926981007 AUC: 0.967405698479\n",
      "---Epoch 37---\n"
     ]
    },
    {
     "data": {
      "application/vnd.jupyter.widget-view+json": {
       "model_id": "659f3d0d405841ea9428b9e6b0ba9879"
      }
     },
     "metadata": {},
     "output_type": "display_data"
    },
    {
     "name": "stdout",
     "output_type": "stream",
     "text": [
      "\n",
      "Train Loss: 0.0333915101176\n",
      "Test Loss: 0.126010822545 Std: 0.00523892032864\n",
      "Test AUC: 0.966454570669 Std: 0.00370058080784\n",
      "All Test Loss: 0.137391538435 AUC: 0.967658048456\n",
      "---Epoch 38---\n"
     ]
    },
    {
     "data": {
      "application/vnd.jupyter.widget-view+json": {
       "model_id": "2e2dff6ed4e142fabad222d939eb1896"
      }
     },
     "metadata": {},
     "output_type": "display_data"
    },
    {
     "name": "stdout",
     "output_type": "stream",
     "text": [
      "\n",
      "Train Loss: 0.0371083324969\n",
      "Test Loss: 0.130949492614 Std: 0.00780584086281\n",
      "Test AUC: 0.96445439471 Std: 0.006390122241\n",
      "All Test Loss: 0.137000585767 AUC: 0.967904689745\n",
      "---Epoch 39---\n"
     ]
    },
    {
     "data": {
      "application/vnd.jupyter.widget-view+json": {
       "model_id": "4c669260369a4017b38a2133657a2694"
      }
     },
     "metadata": {},
     "output_type": "display_data"
    },
    {
     "name": "stdout",
     "output_type": "stream",
     "text": [
      "\n",
      "Train Loss: 0.024452904539\n",
      "Test Loss: 0.122668596873 Std: 0.00829236747095\n",
      "Test AUC: 0.968755052135 Std: 0.00581926452538\n",
      "All Test Loss: 0.137190476426 AUC: 0.967938362357\n",
      "---Epoch 40---\n"
     ]
    },
    {
     "data": {
      "application/vnd.jupyter.widget-view+json": {
       "model_id": "52220549353b403f96b39424d515c338"
      }
     },
     "metadata": {},
     "output_type": "display_data"
    },
    {
     "name": "stdout",
     "output_type": "stream",
     "text": [
      "\n",
      "Train Loss: 0.0163089127359\n",
      "Test Loss: 0.126904683004 Std: 0.00835303908607\n",
      "Test AUC: 0.965156595104 Std: 0.00237676858683\n",
      "All Test Loss: 0.136767369 AUC: 0.967561934901\n",
      "---Epoch 41---\n"
     ]
    },
    {
     "data": {
      "application/vnd.jupyter.widget-view+json": {
       "model_id": "9d599064fc7d4724bd19c85de89b034c"
      }
     },
     "metadata": {},
     "output_type": "display_data"
    },
    {
     "name": "stdout",
     "output_type": "stream",
     "text": [
      "\n",
      "Train Loss: 0.0180515540231\n",
      "Test Loss: 0.126687206672 Std: 0.0131055925405\n",
      "Test AUC: 0.969052443568 Std: 0.00501362658625\n",
      "All Test Loss: 0.140070706418 AUC: 0.967376229537\n",
      "---Epoch 42---\n"
     ]
    },
    {
     "data": {
      "application/vnd.jupyter.widget-view+json": {
       "model_id": "505e9774aa0448378c8c5057e50bcc6b"
      }
     },
     "metadata": {},
     "output_type": "display_data"
    },
    {
     "name": "stdout",
     "output_type": "stream",
     "text": [
      "\n",
      "Train Loss: 0.424674169204\n",
      "Test Loss: 0.123031761592 Std: 0.0121144962877\n",
      "Test AUC: 0.97053142894 Std: 0.00580840980966\n",
      "All Test Loss: 0.136867639117 AUC: 0.967357659\n",
      "---Epoch 43---\n"
     ]
    },
    {
     "data": {
      "application/vnd.jupyter.widget-view+json": {
       "model_id": "d70e344efa754582b56a5e28b1527a7d"
      }
     },
     "metadata": {},
     "output_type": "display_data"
    },
    {
     "name": "stdout",
     "output_type": "stream",
     "text": [
      "\n",
      "Train Loss: 0.0181246477197\n",
      "Test Loss: 0.124078762153 Std: 0.00990020762444\n",
      "Test AUC: 0.967882010783 Std: 0.00501485238204\n",
      "All Test Loss: 0.136431706655 AUC: 0.9676654784\n",
      "---Epoch 44---\n"
     ]
    },
    {
     "data": {
      "application/vnd.jupyter.widget-view+json": {
       "model_id": "73e9d5f05f70430188f8d8f990c925e1"
      }
     },
     "metadata": {},
     "output_type": "display_data"
    },
    {
     "name": "stdout",
     "output_type": "stream",
     "text": [
      "\n",
      "Train Loss: 0.0117393722425\n",
      "Test Loss: 0.127644945506 Std: 0.00745158855721\n",
      "Test AUC: 0.966208285908 Std: 0.00552337502966\n",
      "All Test Loss: 0.137221680199 AUC: 0.967779020753\n",
      "---Epoch 45---\n"
     ]
    },
    {
     "data": {
      "application/vnd.jupyter.widget-view+json": {
       "model_id": "55f7d7179a784cd6a89c95106eef78f3"
      }
     },
     "metadata": {},
     "output_type": "display_data"
    },
    {
     "name": "stdout",
     "output_type": "stream",
     "text": [
      "\n",
      "Train Loss: 0.165334929818\n",
      "Test Loss: 0.125815958453 Std: 0.0119447933373\n",
      "Test AUC: 0.967236211201 Std: 0.00747811784714\n",
      "All Test Loss: 0.137568882703 AUC: 0.968061185653\n",
      "---Epoch 46---\n"
     ]
    },
    {
     "data": {
      "application/vnd.jupyter.widget-view+json": {
       "model_id": "0a38355f057b448b937813e9b006f24c"
      }
     },
     "metadata": {},
     "output_type": "display_data"
    },
    {
     "name": "stdout",
     "output_type": "stream",
     "text": [
      "\n",
      "Train Loss: 0.0643409002471\n",
      "Test Loss: 0.130681055056 Std: 0.0103696295897\n",
      "Test AUC: 0.966971705002 Std: 0.00325888619722\n",
      "All Test Loss: 0.138307464387 AUC: 0.968245922271\n",
      "---Epoch 47---\n"
     ]
    },
    {
     "data": {
      "application/vnd.jupyter.widget-view+json": {
       "model_id": "19a09c5fe0e847509c1516c5f9d950bd"
      }
     },
     "metadata": {},
     "output_type": "display_data"
    },
    {
     "name": "stdout",
     "output_type": "stream",
     "text": [
      "\n",
      "Train Loss: 0.0204842495991\n",
      "Test Loss: 0.127294099651 Std: 0.0116380707363\n",
      "Test AUC: 0.968500983847 Std: 0.00458572100521\n",
      "All Test Loss: 0.136741085379 AUC: 0.968144869836\n",
      "---Epoch 48---\n"
     ]
    },
    {
     "data": {
      "application/vnd.jupyter.widget-view+json": {
       "model_id": "f0e2c69ab4044651a971bd1d4833631d"
      }
     },
     "metadata": {},
     "output_type": "display_data"
    },
    {
     "name": "stdout",
     "output_type": "stream",
     "text": [
      "\n",
      "Train Loss: 0.0189732562439\n",
      "Test Loss: 0.120505153242 Std: 0.0100512849604\n",
      "Test AUC: 0.971267810025 Std: 0.00475292812351\n",
      "All Test Loss: 0.136307115136 AUC: 0.968250999544\n",
      "---Epoch 49---\n"
     ]
    },
    {
     "data": {
      "application/vnd.jupyter.widget-view+json": {
       "model_id": "dce48016f9f1471b8853f2885e0dbd5f"
      }
     },
     "metadata": {},
     "output_type": "display_data"
    },
    {
     "name": "stdout",
     "output_type": "stream",
     "text": [
      "\n",
      "Train Loss: 0.0206986347805\n",
      "Test Loss: 0.12775096007 Std: 0.00725532305353\n",
      "Test AUC: 0.966698386333 Std: 0.00418202561416\n",
      "All Test Loss: 0.139183029987 AUC: 0.968046360363\n",
      "---Epoch 50---\n"
     ]
    },
    {
     "data": {
      "application/vnd.jupyter.widget-view+json": {
       "model_id": "a411efc6092440ba99a2dba2fa5eb884"
      }
     },
     "metadata": {},
     "output_type": "display_data"
    },
    {
     "name": "stdout",
     "output_type": "stream",
     "text": [
      "\n",
      "Train Loss: 0.449183219104\n",
      "Test Loss: 0.128476136045 Std: 0.00812125125476\n",
      "Test AUC: 0.966680607404 Std: 0.0046397161814\n",
      "All Test Loss: 0.138785051428 AUC: 0.968176354118\n",
      "---Epoch 51---\n"
     ]
    },
    {
     "data": {
      "application/vnd.jupyter.widget-view+json": {
       "model_id": "2ea3f32280ce47a08484a400b336547a"
      }
     },
     "metadata": {},
     "output_type": "display_data"
    },
    {
     "name": "stdout",
     "output_type": "stream",
     "text": [
      "\n",
      "Train Loss: 0.0264544195174\n",
      "Test Loss: 0.128696890564 Std: 0.00793807359107\n",
      "Test AUC: 0.965791278033 Std: 0.00240197479056\n",
      "All Test Loss: 0.137981118359 AUC: 0.968347519626\n",
      "---Epoch 52---\n"
     ]
    },
    {
     "data": {
      "application/vnd.jupyter.widget-view+json": {
       "model_id": "049d936f673f4d01bada02b2c8e25e52"
      }
     },
     "metadata": {},
     "output_type": "display_data"
    },
    {
     "name": "stdout",
     "output_type": "stream",
     "text": [
      "\n",
      "Train Loss: 0.0247290584298\n",
      "Test Loss: 0.126869670253 Std: 0.013642173646\n",
      "Test AUC: 0.969199945296 Std: 0.00432848596445\n",
      "All Test Loss: 0.136168662419 AUC: 0.968536433965\n",
      "---Epoch 53---\n"
     ]
    },
    {
     "data": {
      "application/vnd.jupyter.widget-view+json": {
       "model_id": "1c030ece669c4d9ebf0d0f772b72f2ab"
      }
     },
     "metadata": {},
     "output_type": "display_data"
    },
    {
     "name": "stdout",
     "output_type": "stream",
     "text": [
      "\n",
      "Train Loss: 0.0231148597482\n",
      "Test Loss: 0.118672979544 Std: 0.00625680899772\n",
      "Test AUC: 0.970274777281 Std: 0.00357501661874\n",
      "All Test Loss: 0.136594913022 AUC: 0.968131809049\n",
      "---Epoch 54---\n"
     ]
    },
    {
     "data": {
      "application/vnd.jupyter.widget-view+json": {
       "model_id": "f4456d17606243e4a935cda366407d54"
      }
     },
     "metadata": {},
     "output_type": "display_data"
    },
    {
     "name": "stdout",
     "output_type": "stream",
     "text": [
      "\n",
      "Train Loss: 0.399210625968\n",
      "Test Loss: 0.125553124883 Std: 0.00929704288723\n",
      "Test AUC: 0.96812274574 Std: 0.00607441197532\n",
      "All Test Loss: 0.136447684085 AUC: 0.968719241738\n",
      "---Epoch 55---\n"
     ]
    },
    {
     "data": {
      "application/vnd.jupyter.widget-view+json": {
       "model_id": "438fc8b6671446f69187ab0b3e41f7f4"
      }
     },
     "metadata": {},
     "output_type": "display_data"
    },
    {
     "name": "stdout",
     "output_type": "stream",
     "text": [
      "\n",
      "Train Loss: 0.012996853794\n",
      "Test Loss: 0.127708747597 Std: 0.00982827418117\n",
      "Test AUC: 0.967228759095 Std: 0.00416055744254\n",
      "All Test Loss: 0.138108337135 AUC: 0.968379981304\n",
      "---Epoch 56---\n"
     ]
    },
    {
     "data": {
      "application/vnd.jupyter.widget-view+json": {
       "model_id": "82d4e0c41aca463cbb590b8dc271e443"
      }
     },
     "metadata": {},
     "output_type": "display_data"
    },
    {
     "name": "stdout",
     "output_type": "stream",
     "text": [
      "\n",
      "Train Loss: 0.224160583003\n",
      "Test Loss: 0.127319462569 Std: 0.00721248260264\n",
      "Test AUC: 0.966172268743 Std: 0.00450172738233\n",
      "All Test Loss: 0.136287822968 AUC: 0.968595458344\n",
      "---Epoch 57---\n"
     ]
    },
    {
     "data": {
      "application/vnd.jupyter.widget-view+json": {
       "model_id": "e8a7c30c543342848bfe6af10a8a34e4"
      }
     },
     "metadata": {},
     "output_type": "display_data"
    },
    {
     "name": "stdout",
     "output_type": "stream",
     "text": [
      "\n",
      "Train Loss: 0.0129484901671\n",
      "Test Loss: 0.124948697039 Std: 0.0122981624734\n",
      "Test AUC: 0.966911626107 Std: 0.00527006586914\n",
      "All Test Loss: 0.135817910653 AUC: 0.968632962697\n",
      "---Epoch 58---\n"
     ]
    },
    {
     "data": {
      "application/vnd.jupyter.widget-view+json": {
       "model_id": "d80bd28d4b004bc9aacbc4600ae59f38"
      }
     },
     "metadata": {},
     "output_type": "display_data"
    },
    {
     "name": "stdout",
     "output_type": "stream",
     "text": [
      "\n",
      "Train Loss: 0.0281945560794\n",
      "Test Loss: 0.125068022897 Std: 0.00962965575442\n",
      "Test AUC: 0.969294334028 Std: 0.00448643784099\n",
      "All Test Loss: 0.1390475902 AUC: 0.967784495905\n",
      "---Epoch 59---\n"
     ]
    },
    {
     "data": {
      "application/vnd.jupyter.widget-view+json": {
       "model_id": "0a76d4d859474c6b9aed59c5f4f57731"
      }
     },
     "metadata": {},
     "output_type": "display_data"
    },
    {
     "name": "stdout",
     "output_type": "stream",
     "text": [
      "\n",
      "Train Loss: 0.205968063533\n",
      "Test Loss: 0.121270202304 Std: 0.0112878181968\n",
      "Test AUC: 0.967639920802 Std: 0.00793284693955\n",
      "All Test Loss: 0.138479160663 AUC: 0.967986081802\n",
      "---Epoch 60---\n"
     ]
    },
    {
     "data": {
      "application/vnd.jupyter.widget-view+json": {
       "model_id": "f862e28f11d64929a19ff103e719bdbf"
      }
     },
     "metadata": {},
     "output_type": "display_data"
    },
    {
     "name": "stdout",
     "output_type": "stream",
     "text": [
      "\n",
      "Train Loss: 0.018587386036\n",
      "Test Loss: 0.127926741634 Std: 0.0128680673192\n",
      "Test AUC: 0.967590968282 Std: 0.00778515408461\n",
      "All Test Loss: 0.13839922612 AUC: 0.968246095261\n",
      "---Epoch 61---\n"
     ]
    },
    {
     "data": {
      "application/vnd.jupyter.widget-view+json": {
       "model_id": "45ceada054b148c4851d3c4a929c2bf5"
      }
     },
     "metadata": {},
     "output_type": "display_data"
    },
    {
     "name": "stdout",
     "output_type": "stream",
     "text": [
      "\n",
      "Train Loss: 0.0137435273773\n",
      "Test Loss: 0.130757838615 Std: 0.0114946995162\n",
      "Test AUC: 0.966125591548 Std: 0.00409986313974\n",
      "All Test Loss: 0.138427344161 AUC: 0.968001495261\n",
      "---Epoch 62---\n"
     ]
    },
    {
     "data": {
      "application/vnd.jupyter.widget-view+json": {
       "model_id": "72957693682648aeae814adc9a66452f"
      }
     },
     "metadata": {},
     "output_type": "display_data"
    },
    {
     "name": "stdout",
     "output_type": "stream",
     "text": [
      "\n",
      "Train Loss: 0.00911612471157\n",
      "Test Loss: 0.125601346826 Std: 0.00627247966973\n",
      "Test AUC: 0.967676820176 Std: 0.00550200845085\n",
      "All Test Loss: 0.136660810401 AUC: 0.968779416504\n",
      "---Epoch 63---\n"
     ]
    },
    {
     "data": {
      "application/vnd.jupyter.widget-view+json": {
       "model_id": "6aa8882379394a95a328e3f2fd338f83"
      }
     },
     "metadata": {},
     "output_type": "display_data"
    },
    {
     "name": "stdout",
     "output_type": "stream",
     "text": [
      "\n",
      "Train Loss: 0.0405946790708\n",
      "Test Loss: 0.124758156799 Std: 0.00913068635805\n",
      "Test AUC: 0.967455241955 Std: 0.00461583583095\n",
      "All Test Loss: 0.136744951481 AUC: 0.968760733524\n",
      "---Epoch 64---\n"
     ]
    },
    {
     "data": {
      "application/vnd.jupyter.widget-view+json": {
       "model_id": "b60915028f9f472eb43ff572007d5cb2"
      }
     },
     "metadata": {},
     "output_type": "display_data"
    },
    {
     "name": "stdout",
     "output_type": "stream",
     "text": [
      "\n",
      "Train Loss: 0.0478280708687\n",
      "Test Loss: 0.124044674689 Std: 0.0100416130278\n",
      "Test AUC: 0.970005147773 Std: 0.00484907861436\n",
      "All Test Loss: 0.13768920968 AUC: 0.968754652905\n",
      "---Epoch 65---\n"
     ]
    },
    {
     "data": {
      "application/vnd.jupyter.widget-view+json": {
       "model_id": "2614882fdce54d308422ff0f6e7d405d"
      }
     },
     "metadata": {},
     "output_type": "display_data"
    },
    {
     "name": "stdout",
     "output_type": "stream",
     "text": [
      "\n",
      "Train Loss: 0.097292537015\n",
      "Test Loss: 0.126140103351 Std: 0.00595817890233\n",
      "Test AUC: 0.970054874457 Std: 0.00403975080696\n",
      "All Test Loss: 0.135861357133 AUC: 0.968953280665\n",
      "---Epoch 66---\n"
     ]
    },
    {
     "data": {
      "application/vnd.jupyter.widget-view+json": {
       "model_id": "9b54374c66e84960988a4d0822cc0cef"
      }
     },
     "metadata": {},
     "output_type": "display_data"
    },
    {
     "name": "stdout",
     "output_type": "stream",
     "text": [
      "\n",
      "Train Loss: 0.0641368565911\n",
      "Test Loss: 0.125637783806 Std: 0.00781968178535\n",
      "Test AUC: 0.96874546335 Std: 0.00468911020389\n",
      "All Test Loss: 0.135730037354 AUC: 0.968987576043\n",
      "---Epoch 67---\n"
     ]
    },
    {
     "data": {
      "application/vnd.jupyter.widget-view+json": {
       "model_id": "22ef6a9b78ab44c082f571eb8bdd027a"
      }
     },
     "metadata": {},
     "output_type": "display_data"
    },
    {
     "name": "stdout",
     "output_type": "stream",
     "text": [
      "\n",
      "Train Loss: 0.433441247543\n",
      "Test Loss: 0.123559061354 Std: 0.0112220867121\n",
      "Test AUC: 0.968888753171 Std: 0.00475649177404\n",
      "All Test Loss: 0.137745572287 AUC: 0.968642520425\n",
      "---Epoch 68---\n"
     ]
    },
    {
     "data": {
      "application/vnd.jupyter.widget-view+json": {
       "model_id": "8af459ab31324c80b1d2dd0a00bd58f5"
      }
     },
     "metadata": {},
     "output_type": "display_data"
    },
    {
     "name": "stdout",
     "output_type": "stream",
     "text": [
      "\n",
      "Train Loss: 0.0268692105853\n",
      "Test Loss: 0.132029754478 Std: 0.0139875729334\n",
      "Test AUC: 0.967609369888 Std: 0.0052879971143\n",
      "All Test Loss: 0.1363550058 AUC: 0.969035053302\n",
      "---Epoch 69---\n"
     ]
    },
    {
     "data": {
      "application/vnd.jupyter.widget-view+json": {
       "model_id": "70ebf063cf0a44dc9131fb3df9a1d29d"
      }
     },
     "metadata": {},
     "output_type": "display_data"
    },
    {
     "name": "stdout",
     "output_type": "stream",
     "text": [
      "\n",
      "Train Loss: 0.0248023005458\n",
      "Test Loss: 0.120980517377 Std: 0.00788221462841\n",
      "Test AUC: 0.968830992836 Std: 0.00295279334357\n",
      "All Test Loss: 0.136669044119 AUC: 0.967667433194\n",
      "---Epoch 70---\n"
     ]
    },
    {
     "data": {
      "application/vnd.jupyter.widget-view+json": {
       "model_id": "ea515137b5304e55a3b194eaa36bd74f"
      }
     },
     "metadata": {},
     "output_type": "display_data"
    },
    {
     "name": "stdout",
     "output_type": "stream",
     "text": [
      "\n",
      "Train Loss: 0.012729044917\n",
      "Test Loss: 0.122463258502 Std: 0.0116189102774\n",
      "Test AUC: 0.968520357537 Std: 0.00460155668178\n",
      "All Test Loss: 0.137527156524 AUC: 0.968134499052\n",
      "---Epoch 71---\n"
     ]
    },
    {
     "data": {
      "application/vnd.jupyter.widget-view+json": {
       "model_id": "e80009a7c80f44658cdd4f20e543f514"
      }
     },
     "metadata": {},
     "output_type": "display_data"
    },
    {
     "name": "stdout",
     "output_type": "stream",
     "text": [
      "\n",
      "Train Loss: 0.435170820518\n",
      "Test Loss: 0.124161846804 Std: 0.013952747957\n",
      "Test AUC: 0.969789454822 Std: 0.00493014040813\n",
      "All Test Loss: 0.137547087137 AUC: 0.9683992957\n",
      "---Epoch 72---\n"
     ]
    },
    {
     "data": {
      "application/vnd.jupyter.widget-view+json": {
       "model_id": "b924755f6fa44506aa546127eb804bb1"
      }
     },
     "metadata": {},
     "output_type": "display_data"
    },
    {
     "name": "stdout",
     "output_type": "stream",
     "text": [
      "\n",
      "Train Loss: 0.0184716848314\n",
      "Test Loss: 0.12224204979 Std: 0.0137794677194\n",
      "Test AUC: 0.968283039949 Std: 0.00546937534175\n",
      "All Test Loss: 0.138154371017 AUC: 0.968249485876\n",
      "---Epoch 73---\n"
     ]
    },
    {
     "data": {
      "application/vnd.jupyter.widget-view+json": {
       "model_id": "191b888d4fb547569caa69cf43fa3c1e"
      }
     },
     "metadata": {},
     "output_type": "display_data"
    },
    {
     "name": "stdout",
     "output_type": "stream",
     "text": [
      "\n",
      "Train Loss: 0.110686004016\n",
      "Test Loss: 0.124882714051 Std: 0.0120968159847\n",
      "Test AUC: 0.967866804981 Std: 0.00673290899712\n",
      "All Test Loss: 0.135865217601 AUC: 0.967904551352\n",
      "---Epoch 74---\n"
     ]
    },
    {
     "data": {
      "application/vnd.jupyter.widget-view+json": {
       "model_id": "c265f8bf0ef645fabeedb510b58ce569"
      }
     },
     "metadata": {},
     "output_type": "display_data"
    },
    {
     "name": "stdout",
     "output_type": "stream",
     "text": [
      "\n",
      "Train Loss: 0.0104424257699\n",
      "Test Loss: 0.126281318784 Std: 0.00916826092049\n",
      "Test AUC: 0.966998840505 Std: 0.00567973301388\n",
      "All Test Loss: 0.140157857305 AUC: 0.967860352264\n",
      "---Epoch 75---\n"
     ]
    },
    {
     "data": {
      "application/vnd.jupyter.widget-view+json": {
       "model_id": "84701702d49e4624894ce89a016c1d1f"
      }
     },
     "metadata": {},
     "output_type": "display_data"
    },
    {
     "name": "stdout",
     "output_type": "stream",
     "text": [
      "\n",
      "Train Loss: 0.0326439912933\n",
      "Test Loss: 0.127279396617 Std: 0.00951854278674\n",
      "Test AUC: 0.968077290666 Std: 0.00696728658791\n",
      "All Test Loss: 0.138875660176 AUC: 0.967958956883\n",
      "---Epoch 76---\n"
     ]
    },
    {
     "data": {
      "application/vnd.jupyter.widget-view+json": {
       "model_id": "176db870ab0c49b7b96c00f421a06b87"
      }
     },
     "metadata": {},
     "output_type": "display_data"
    },
    {
     "name": "stdout",
     "output_type": "stream",
     "text": [
      "\n",
      "Train Loss: 0.0545931799059\n",
      "Test Loss: 0.124066755303 Std: 0.0121634461789\n",
      "Test AUC: 0.969016054323 Std: 0.00431381405348\n",
      "All Test Loss: 0.13818460336 AUC: 0.967656119611\n",
      "---Epoch 77---\n"
     ]
    },
    {
     "data": {
      "application/vnd.jupyter.widget-view+json": {
       "model_id": "54679213a36c47ed90672a37db8493b9"
      }
     },
     "metadata": {},
     "output_type": "display_data"
    },
    {
     "name": "stdout",
     "output_type": "stream",
     "text": [
      "\n",
      "Train Loss: 0.00994882500534\n",
      "Test Loss: 0.122681536699 Std: 0.0117264316259\n",
      "Test AUC: 0.970770431784 Std: 0.00663574398997\n",
      "All Test Loss: 0.140018208805 AUC: 0.96751286613\n",
      "---Epoch 78---\n"
     ]
    },
    {
     "data": {
      "application/vnd.jupyter.widget-view+json": {
       "model_id": "e10f45804c7f46188ae82dbeffb2c5dd"
      }
     },
     "metadata": {},
     "output_type": "display_data"
    },
    {
     "name": "stdout",
     "output_type": "stream",
     "text": [
      "\n",
      "Train Loss: 0.0295769187941\n",
      "Test Loss: 0.131643343799 Std: 0.0100259581901\n",
      "Test AUC: 0.966303881547 Std: 0.00502721959371\n",
      "All Test Loss: 0.137303835745 AUC: 0.968304773659\n",
      "---Epoch 79---\n"
     ]
    },
    {
     "data": {
      "application/vnd.jupyter.widget-view+json": {
       "model_id": "a5fbf9550a524eceb8365cc99f521267"
      }
     },
     "metadata": {},
     "output_type": "display_data"
    },
    {
     "name": "stdout",
     "output_type": "stream",
     "text": [
      "\n",
      "Train Loss: 0.160109779527\n",
      "Test Loss: 0.122318006787 Std: 0.00909555928342\n",
      "Test AUC: 0.97037267138 Std: 0.00327534598134\n",
      "All Test Loss: 0.137475487739 AUC: 0.967781814551\n",
      "---Epoch 80---\n"
     ]
    },
    {
     "data": {
      "application/vnd.jupyter.widget-view+json": {
       "model_id": "ef77e2c481ac4a1c99877ed59f0fe948"
      }
     },
     "metadata": {},
     "output_type": "display_data"
    },
    {
     "name": "stdout",
     "output_type": "stream",
     "text": [
      "\n",
      "Train Loss: 0.0127893432822\n",
      "Test Loss: 0.126663156521 Std: 0.0112335780316\n",
      "Test AUC: 0.968316021468 Std: 0.00612831425386\n",
      "All Test Loss: 0.139922717598 AUC: 0.968298848732\n",
      "---Epoch 81---\n"
     ]
    },
    {
     "data": {
      "application/vnd.jupyter.widget-view+json": {
       "model_id": "63096bdacc2f4279bf89c7809b7a6312"
      }
     },
     "metadata": {},
     "output_type": "display_data"
    },
    {
     "name": "stdout",
     "output_type": "stream",
     "text": [
      "\n",
      "Train Loss: 0.0152863120667\n",
      "Test Loss: 0.12837793926 Std: 0.00756050398572\n",
      "Test AUC: 0.964530478522 Std: 0.00713749494843\n",
      "All Test Loss: 0.136031946467 AUC: 0.968594627989\n",
      "---Epoch 82---\n"
     ]
    },
    {
     "data": {
      "application/vnd.jupyter.widget-view+json": {
       "model_id": "ea08d967d3d24a5eaf7815d86daa2f63"
      }
     },
     "metadata": {},
     "output_type": "display_data"
    },
    {
     "name": "stdout",
     "output_type": "stream",
     "text": [
      "\n",
      "Train Loss: 0.038293506741\n",
      "Test Loss: 0.120539117652 Std: 0.00766793027109\n",
      "Test AUC: 0.969510920009 Std: 0.00459743173339\n",
      "All Test Loss: 0.13782095828 AUC: 0.968948575322\n",
      "---Epoch 83---\n"
     ]
    },
    {
     "data": {
      "application/vnd.jupyter.widget-view+json": {
       "model_id": "c86fbba979e44bfb8d8f81c88fab9eae"
      }
     },
     "metadata": {},
     "output_type": "display_data"
    },
    {
     "name": "stdout",
     "output_type": "stream",
     "text": [
      "\n",
      "Train Loss: 0.141114822508\n",
      "Test Loss: 0.117748886516 Std: 0.00807475411523\n",
      "Test AUC: 0.971999026991 Std: 0.00527190437653\n",
      "All Test Loss: 0.137458251838 AUC: 0.968552383695\n",
      "---Epoch 84---\n"
     ]
    },
    {
     "data": {
      "application/vnd.jupyter.widget-view+json": {
       "model_id": "ed8057029f984c17913b1cae18831eae"
      }
     },
     "metadata": {},
     "output_type": "display_data"
    },
    {
     "name": "stdout",
     "output_type": "stream",
     "text": [
      "\n",
      "Train Loss: 0.0177798597499\n",
      "Test Loss: 0.126640827335 Std: 0.00842378603306\n",
      "Test AUC: 0.969127838071 Std: 0.00389188129789\n",
      "All Test Loss: 0.138605411322 AUC: 0.968237748467\n",
      "---Epoch 85---\n"
     ]
    },
    {
     "data": {
      "application/vnd.jupyter.widget-view+json": {
       "model_id": "a5ee8cf6f5454b4eaf8cfcb1386217cf"
      }
     },
     "metadata": {},
     "output_type": "display_data"
    },
    {
     "name": "stdout",
     "output_type": "stream",
     "text": [
      "\n",
      "Train Loss: 0.0202085563504\n",
      "Test Loss: 0.129529218216 Std: 0.00445734010451\n",
      "Test AUC: 0.967687432071 Std: 0.00374717667814\n",
      "All Test Loss: 0.135581274143 AUC: 0.967719434155\n",
      "---Epoch 86---\n"
     ]
    },
    {
     "data": {
      "application/vnd.jupyter.widget-view+json": {
       "model_id": "59df30e017ee4930a074e947fc3d4e11"
      }
     },
     "metadata": {},
     "output_type": "display_data"
    },
    {
     "name": "stdout",
     "output_type": "stream",
     "text": [
      "\n",
      "Train Loss: 0.173129329819\n",
      "Test Loss: 0.125441713503 Std: 0.0130081256109\n",
      "Test AUC: 0.96862072107 Std: 0.00861082005935\n",
      "All Test Loss: 0.138833582805 AUC: 0.968281636172\n",
      "---Epoch 87---\n"
     ]
    },
    {
     "data": {
      "application/vnd.jupyter.widget-view+json": {
       "model_id": "a5041b9141434d15ba861fe21c5f969e"
      }
     },
     "metadata": {},
     "output_type": "display_data"
    },
    {
     "name": "stdout",
     "output_type": "stream",
     "text": [
      "\n",
      "Train Loss: 0.270764452219\n",
      "Test Loss: 0.130060766858 Std: 0.00965444160739\n",
      "Test AUC: 0.968576287628 Std: 0.00403092719537\n",
      "All Test Loss: 0.138853739747 AUC: 0.968560228817\n",
      "---Epoch 88---\n"
     ]
    },
    {
     "data": {
      "application/vnd.jupyter.widget-view+json": {
       "model_id": "c7e6acc3bd034826a91aeb17d5951ded"
      }
     },
     "metadata": {},
     "output_type": "display_data"
    },
    {
     "name": "stdout",
     "output_type": "stream",
     "text": [
      "\n",
      "Train Loss: 0.0337671474422\n",
      "Test Loss: 0.135637951047 Std: 0.00855054715727\n",
      "Test AUC: 0.965041077342 Std: 0.00497536822376\n",
      "All Test Loss: 0.145423149613 AUC: 0.968159859468\n",
      "---Epoch 89---\n"
     ]
    },
    {
     "data": {
      "application/vnd.jupyter.widget-view+json": {
       "model_id": "9b494844eb5a4e31b653d42f87ef1006"
      }
     },
     "metadata": {},
     "output_type": "display_data"
    },
    {
     "name": "stdout",
     "output_type": "stream",
     "text": [
      "\n",
      "Train Loss: 0.0111363474217\n",
      "Test Loss: 0.128997181475 Std: 0.01112375929\n",
      "Test AUC: 0.967813699173 Std: 0.00609691354997\n",
      "All Test Loss: 0.1385418341 AUC: 0.968183040203\n",
      "---Epoch 90---\n"
     ]
    },
    {
     "data": {
      "application/vnd.jupyter.widget-view+json": {
       "model_id": "9d2b21e3128a4b339f0cff426f8d6291"
      }
     },
     "metadata": {},
     "output_type": "display_data"
    },
    {
     "name": "stdout",
     "output_type": "stream",
     "text": [
      "\n",
      "Train Loss: 0.131282995516\n",
      "Test Loss: 0.127417701419 Std: 0.00816542633437\n",
      "Test AUC: 0.96860220147 Std: 0.00309051051278\n",
      "All Test Loss: 0.138699551847 AUC: 0.968407158121\n",
      "---Epoch 91---\n"
     ]
    },
    {
     "data": {
      "application/vnd.jupyter.widget-view+json": {
       "model_id": "eb1e76d036d14696bc6b05410bd3452d"
      }
     },
     "metadata": {},
     "output_type": "display_data"
    },
    {
     "name": "stdout",
     "output_type": "stream",
     "text": [
      "\n",
      "Train Loss: 0.0328917962986\n",
      "Test Loss: 0.126506379341 Std: 0.00966089875379\n",
      "Test AUC: 0.968976417714 Std: 0.00649173979032\n",
      "All Test Loss: 0.139787892412 AUC: 0.967751186573\n",
      "---Epoch 92---\n"
     ]
    },
    {
     "data": {
      "application/vnd.jupyter.widget-view+json": {
       "model_id": "f8dda683ed1f417bacfd68215a6c917a"
      }
     },
     "metadata": {},
     "output_type": "display_data"
    },
    {
     "name": "stdout",
     "output_type": "stream",
     "text": [
      "\n",
      "Train Loss: 0.031033533908\n",
      "Test Loss: 0.124757157334 Std: 0.00921292861363\n",
      "Test AUC: 0.9698500183 Std: 0.00252941514235\n",
      "All Test Loss: 0.140160697133 AUC: 0.968180990265\n",
      "---Epoch 93---\n"
     ]
    },
    {
     "data": {
      "application/vnd.jupyter.widget-view+json": {
       "model_id": "097d7b85f48743e080799c2c7cacdeff"
      }
     },
     "metadata": {},
     "output_type": "display_data"
    },
    {
     "name": "stdout",
     "output_type": "stream",
     "text": [
      "\n",
      "Train Loss: 0.0716303771806\n",
      "Test Loss: 0.127619970248 Std: 0.0102923527025\n",
      "Test AUC: 0.966368211471 Std: 0.00506537465806\n",
      "All Test Loss: 0.136717831142 AUC: 0.968501334181\n",
      "---Epoch 94---\n"
     ]
    },
    {
     "data": {
      "application/vnd.jupyter.widget-view+json": {
       "model_id": "e37b5948cf2a47a3b1b97777ce2b8aea"
      }
     },
     "metadata": {},
     "output_type": "display_data"
    },
    {
     "name": "stdout",
     "output_type": "stream",
     "text": [
      "\n",
      "Train Loss: 0.0450461074661\n",
      "Test Loss: 0.12801402281 Std: 0.00829996743746\n",
      "Test AUC: 0.968668852305 Std: 0.00378260102351\n",
      "All Test Loss: 0.140733790962 AUC: 0.968521037806\n",
      "---Epoch 95---\n"
     ]
    },
    {
     "data": {
      "application/vnd.jupyter.widget-view+json": {
       "model_id": "023c526397f54d198840908089a943d6"
      }
     },
     "metadata": {},
     "output_type": "display_data"
    },
    {
     "name": "stdout",
     "output_type": "stream",
     "text": [
      "\n",
      "Train Loss: 0.225881276041\n",
      "Test Loss: 0.129449587005 Std: 0.00793735566963\n",
      "Test AUC: 0.96658537306 Std: 0.00434950861716\n",
      "All Test Loss: 0.13792948285 AUC: 0.968186621107\n",
      "---Epoch 96---\n"
     ]
    },
    {
     "data": {
      "application/vnd.jupyter.widget-view+json": {
       "model_id": "e930242adc354d4094733cd9ed55899d"
      }
     },
     "metadata": {},
     "output_type": "display_data"
    },
    {
     "name": "stdout",
     "output_type": "stream",
     "text": [
      "\n",
      "Train Loss: 0.0803858739782\n",
      "Test Loss: 0.126577308576 Std: 0.00481875987034\n",
      "Test AUC: 0.967860533584 Std: 0.0038457469107\n",
      "All Test Loss: 0.140190228789 AUC: 0.968243967478\n",
      "---Epoch 97---\n"
     ]
    },
    {
     "data": {
      "application/vnd.jupyter.widget-view+json": {
       "model_id": "757e648c1a724e5cbf185ddaaa1494f1"
      }
     },
     "metadata": {},
     "output_type": "display_data"
    },
    {
     "name": "stdout",
     "output_type": "stream",
     "text": [
      "\n",
      "Train Loss: 0.414198591643\n",
      "Test Loss: 0.12900924597 Std: 0.0124494587545\n",
      "Test AUC: 0.966410775447 Std: 0.00824813183659\n",
      "All Test Loss: 0.139511521169 AUC: 0.967568249057\n",
      "---Epoch 98---\n"
     ]
    },
    {
     "data": {
      "application/vnd.jupyter.widget-view+json": {
       "model_id": "c94953414f494472b8cf11760f50e924"
      }
     },
     "metadata": {},
     "output_type": "display_data"
    },
    {
     "name": "stdout",
     "output_type": "stream",
     "text": [
      "\n",
      "Train Loss: 0.0711885414332\n",
      "Test Loss: 0.134357524183 Std: 0.0107754517515\n",
      "Test AUC: 0.969082787629 Std: 0.00516801436032\n",
      "All Test Loss: 0.14184365984 AUC: 0.968063296138\n",
      "---Epoch 99---\n"
     ]
    },
    {
     "data": {
      "application/vnd.jupyter.widget-view+json": {
       "model_id": "4e983f88b0cc42afb0774c2a731245a7"
      }
     },
     "metadata": {},
     "output_type": "display_data"
    },
    {
     "name": "stdout",
     "output_type": "stream",
     "text": [
      "\n",
      "Train Loss: 0.0320434795815\n",
      "Test Loss: 0.120246348552 Std: 0.00699504276228\n",
      "Test AUC: 0.970031344049 Std: 0.00508661059124\n",
      "All Test Loss: 0.139146931359 AUC: 0.96795205456\n",
      "---Epoch 100---\n"
     ]
    },
    {
     "data": {
      "application/vnd.jupyter.widget-view+json": {
       "model_id": "192f7155190d47629ac897fcd457b45f"
      }
     },
     "metadata": {},
     "output_type": "display_data"
    },
    {
     "name": "stdout",
     "output_type": "stream",
     "text": [
      "\n",
      "Train Loss: 0.0368429657448\n",
      "Test Loss: 0.128598166684 Std: 0.0100316592357\n",
      "Test AUC: 0.966873128952 Std: 0.00628729175329\n",
      "All Test Loss: 0.139407238689 AUC: 0.968385724591\n"
     ]
    }
   ],
   "source": [
    "class Model1(nn.Module):\n",
    "    def __init__(self):\n",
    "        super(Model1, self).__init__()\n",
    "        self.post_embedding = nn.Embedding(3182, 2)\n",
    "        self.drug_embedding = nn.Embedding(2870, 20)#changed from 30\n",
    "        #self.inp_embedding = nn.Embedding(2, 10)\n",
    "        self.dx_embedding = nn.Embedding(12, 7) #changed from 5 to 7\n",
    "        self.gru1 = nn.GRU(33, 64, 4, batch_first=True)\n",
    "        self.dense1 = nn.Linear(64, 2)\n",
    "        self.softmax = nn.LogSoftmax()\n",
    "    \n",
    "    def forward(self, hidden, inp, posts, drugs, dxs):\n",
    "        posts_e = self.post_embedding(posts)\n",
    "        drugs_e = self.drug_embedding(drugs)\n",
    "        dxs_e = self.dx_embedding(dxs)\n",
    "        #inp_e = self.inp_embedding(inp)\n",
    "        final_input = torch.cat((hidden, inp, posts_e, drugs_e, dxs_e),dim=2)\n",
    "    \n",
    "        h_1 = Variable(torch.zeros(4,inp.size(0), 64).double(), requires_grad=False).cuda()\n",
    "        output, h_2 = self.gru1(final_input, h_1)\n",
    "\n",
    "        x = self.dense1(h_2[-1])\n",
    "        x = self.softmax(x)\n",
    "        \n",
    "        return x\n",
    "\n",
    "\n",
    "#np.random.seed(42) # new seed\n",
    "#torch.manual_seed(42)\n",
    "\n",
    "model = Model1()\n",
    "model.double()\n",
    "model.cuda()\n",
    "criterion = nn.CrossEntropyLoss().cuda()\n",
    "optimizer = torch.optim.Adam(model.parameters(), lr=0.0001, weight_decay=0)\n",
    "train_losses = []\n",
    "test_losses = []\n",
    "test_aucs = []\n",
    "\n",
    "train(chkpoint='model14_post9_4_64_lr_0001.tar', \n",
    "      epochs=100, \n",
    "      model=model, \n",
    "      optimizer=optimizer, \n",
    "      criterion=criterion, \n",
    "      test_losses=test_losses,\n",
    "     train_losses=train_losses,\n",
    "     test_aucs=test_aucs)"
   ]
  },
  {
   "cell_type": "code",
   "execution_count": 26,
   "metadata": {},
   "outputs": [
    {
     "name": "stdout",
     "output_type": "stream",
     "text": [
      "---Epoch 69---\n"
     ]
    },
    {
     "data": {
      "application/vnd.jupyter.widget-view+json": {
       "model_id": "6edc6dd614bb4cd59d4b763d2aeaf723"
      }
     },
     "metadata": {},
     "output_type": "display_data"
    },
    {
     "name": "stdout",
     "output_type": "stream",
     "text": [
      "\n",
      "Train Loss: 0.176784829938\n",
      "All Test Loss: 0.138471112764 AUC: 0.968805339139\n",
      "---Epoch 70---\n"
     ]
    },
    {
     "data": {
      "application/vnd.jupyter.widget-view+json": {
       "model_id": "59866ee932724cbbb5d10592b08db57d"
      }
     },
     "metadata": {},
     "output_type": "display_data"
    },
    {
     "name": "stdout",
     "output_type": "stream",
     "text": [
      "\n",
      "Train Loss: 0.0657121084759\n",
      "All Test Loss: 0.137992622693 AUC: 0.968484035125\n",
      "---Epoch 71---\n"
     ]
    },
    {
     "data": {
      "application/vnd.jupyter.widget-view+json": {
       "model_id": "c822808164a44f79b1a9f736211653a9"
      }
     },
     "metadata": {},
     "output_type": "display_data"
    },
    {
     "name": "stdout",
     "output_type": "stream",
     "text": [
      "\n",
      "Train Loss: 0.0257925426374\n",
      "All Test Loss: 0.136789382943 AUC: 0.968517059023\n",
      "---Epoch 72---\n"
     ]
    },
    {
     "data": {
      "application/vnd.jupyter.widget-view+json": {
       "model_id": "5d543a8bc76f47c49dfae259c6bdafe3"
      }
     },
     "metadata": {},
     "output_type": "display_data"
    },
    {
     "name": "stdout",
     "output_type": "stream",
     "text": [
      "\n",
      "Train Loss: 0.0202562809735\n",
      "All Test Loss: 0.137540298697 AUC: 0.968466813915\n",
      "---Epoch 73---\n"
     ]
    },
    {
     "data": {
      "application/vnd.jupyter.widget-view+json": {
       "model_id": "10bfb3bbf1784883b6a99f8249bd36a1"
      }
     },
     "metadata": {},
     "output_type": "display_data"
    },
    {
     "name": "stdout",
     "output_type": "stream",
     "text": [
      "\n",
      "Train Loss: 0.0164520358229\n",
      "All Test Loss: 0.139497378624 AUC: 0.968738789671\n",
      "---Epoch 74---\n"
     ]
    },
    {
     "data": {
      "application/vnd.jupyter.widget-view+json": {
       "model_id": "adadbab27cb1415784300c30c3c46ac6"
      }
     },
     "metadata": {},
     "output_type": "display_data"
    },
    {
     "name": "stdout",
     "output_type": "stream",
     "text": [
      "\n",
      "Train Loss: 0.0629376268936\n",
      "All Test Loss: 0.138314875958 AUC: 0.968689409516\n",
      "---Epoch 75---\n"
     ]
    },
    {
     "data": {
      "application/vnd.jupyter.widget-view+json": {
       "model_id": "c8876a30a9fe4b1bb5325172d18ad1d1"
      }
     },
     "metadata": {},
     "output_type": "display_data"
    },
    {
     "name": "stdout",
     "output_type": "stream",
     "text": [
      "\n",
      "Train Loss: 0.0387913370893\n",
      "All Test Loss: 0.137166614699 AUC: 0.968751020104\n",
      "---Epoch 76---\n"
     ]
    },
    {
     "data": {
      "application/vnd.jupyter.widget-view+json": {
       "model_id": "5f6303ca27e741448043b8cb6e4326ed"
      }
     },
     "metadata": {},
     "output_type": "display_data"
    },
    {
     "name": "stdout",
     "output_type": "stream",
     "text": [
      "\n",
      "Train Loss: 0.238254111665\n",
      "All Test Loss: 0.137774015091 AUC: 0.9687025395\n",
      "---Epoch 77---\n"
     ]
    },
    {
     "data": {
      "application/vnd.jupyter.widget-view+json": {
       "model_id": "284224b2ec7c4096b9568db3ce214396"
      }
     },
     "metadata": {},
     "output_type": "display_data"
    },
    {
     "name": "stdout",
     "output_type": "stream",
     "text": [
      "\n",
      "Train Loss: 0.0192099358718\n",
      "All Test Loss: 0.141262549207 AUC: 0.968127311294\n",
      "---Epoch 78---\n"
     ]
    },
    {
     "data": {
      "application/vnd.jupyter.widget-view+json": {
       "model_id": "1e5838be3cd64a0ebedfc86d0b8742b9"
      }
     },
     "metadata": {},
     "output_type": "display_data"
    },
    {
     "name": "stdout",
     "output_type": "stream",
     "text": [
      "\n",
      "Train Loss: 0.0168646521865\n",
      "All Test Loss: 0.142302584786 AUC: 0.968223130765\n",
      "---Epoch 79---\n"
     ]
    },
    {
     "data": {
      "application/vnd.jupyter.widget-view+json": {
       "model_id": "2b187b6f36374c77bab87a95f8230eab"
      }
     },
     "metadata": {},
     "output_type": "display_data"
    },
    {
     "name": "stdout",
     "output_type": "stream",
     "text": [
      "\n",
      "Train Loss: 0.811189509986\n",
      "All Test Loss: 0.140412174061 AUC: 0.968644483868\n",
      "---Epoch 80---\n"
     ]
    },
    {
     "data": {
      "application/vnd.jupyter.widget-view+json": {
       "model_id": "c716c70d289243159a356333fc65898d"
      }
     },
     "metadata": {},
     "output_type": "display_data"
    },
    {
     "name": "stdout",
     "output_type": "stream",
     "text": [
      "\n",
      "Train Loss: 0.0238042871005\n",
      "All Test Loss: 0.142094162404 AUC: 0.968506817982\n",
      "---Epoch 81---\n"
     ]
    },
    {
     "data": {
      "application/vnd.jupyter.widget-view+json": {
       "model_id": "49051de1c27c41feb0709d73d2f2f118"
      }
     },
     "metadata": {},
     "output_type": "display_data"
    },
    {
     "name": "stdout",
     "output_type": "stream",
     "text": [
      "\n",
      "Train Loss: 0.83630013564\n",
      "All Test Loss: 0.137023830529 AUC: 0.968607411992\n",
      "---Epoch 82---\n"
     ]
    },
    {
     "data": {
      "application/vnd.jupyter.widget-view+json": {
       "model_id": "90d3d33a7d484b91b95471a9f25fd644"
      }
     },
     "metadata": {},
     "output_type": "display_data"
    },
    {
     "name": "stdout",
     "output_type": "stream",
     "text": [
      "\n",
      "Train Loss: 0.0301717131604\n",
      "All Test Loss: 0.136994717172 AUC: 0.968717641575\n",
      "---Epoch 83---\n"
     ]
    },
    {
     "data": {
      "application/vnd.jupyter.widget-view+json": {
       "model_id": "5bb55eedfad1488aac8e15d9f1234a77"
      }
     },
     "metadata": {},
     "output_type": "display_data"
    },
    {
     "name": "stdout",
     "output_type": "stream",
     "text": [
      "\n",
      "Train Loss: 0.0963962437\n",
      "All Test Loss: 0.141858193958 AUC: 0.968538034128\n",
      "---Epoch 84---\n"
     ]
    },
    {
     "data": {
      "application/vnd.jupyter.widget-view+json": {
       "model_id": "a8942b4b4d0f49e88df9dbc6dc72a11c"
      }
     },
     "metadata": {},
     "output_type": "display_data"
    },
    {
     "name": "stdout",
     "output_type": "stream",
     "text": [
      "\n",
      "Train Loss: 0.0220041465954\n",
      "All Test Loss: 0.139276317979 AUC: 0.968286289618\n",
      "---Epoch 85---\n"
     ]
    },
    {
     "data": {
      "application/vnd.jupyter.widget-view+json": {
       "model_id": "a4e5649734ca4230b35db5738a926aa2"
      }
     },
     "metadata": {},
     "output_type": "display_data"
    },
    {
     "name": "stdout",
     "output_type": "stream",
     "text": [
      "\n",
      "Train Loss: 0.0490319833891\n",
      "All Test Loss: 0.147280400174 AUC: 0.967638872452\n",
      "---Epoch 86---\n"
     ]
    },
    {
     "data": {
      "application/vnd.jupyter.widget-view+json": {
       "model_id": "515b3a8443e6407fa0fa9be8ce70a339"
      }
     },
     "metadata": {},
     "output_type": "display_data"
    },
    {
     "name": "stdout",
     "output_type": "stream",
     "text": [
      "\n",
      "Train Loss: 0.0193337547047\n",
      "All Test Loss: 0.139469214988 AUC: 0.967979828194\n",
      "---Epoch 87---\n"
     ]
    },
    {
     "data": {
      "application/vnd.jupyter.widget-view+json": {
       "model_id": "1dae9e97cd054a548dd9dc904a57ee91"
      }
     },
     "metadata": {},
     "output_type": "display_data"
    },
    {
     "name": "stdout",
     "output_type": "stream",
     "text": [
      "\n",
      "Train Loss: 0.0140580484316\n",
      "All Test Loss: 0.140658789124 AUC: 0.967436776232\n",
      "---Epoch 88---\n"
     ]
    },
    {
     "data": {
      "application/vnd.jupyter.widget-view+json": {
       "model_id": "e656453e852749af8781f5446b2d3b74"
      }
     },
     "metadata": {},
     "output_type": "display_data"
    },
    {
     "name": "stdout",
     "output_type": "stream",
     "text": [
      "\n",
      "Train Loss: 0.760752680938\n",
      "All Test Loss: 0.140152060234 AUC: 0.968338359776\n",
      "---Epoch 89---\n"
     ]
    },
    {
     "data": {
      "application/vnd.jupyter.widget-view+json": {
       "model_id": "a0c883b4669c4264944d2727215a98dc"
      }
     },
     "metadata": {},
     "output_type": "display_data"
    },
    {
     "name": "stdout",
     "output_type": "stream",
     "text": [
      "\n",
      "Train Loss: 0.0551689106271\n",
      "All Test Loss: 0.136999061476 AUC: 0.968447222734\n",
      "---Epoch 90---\n"
     ]
    },
    {
     "data": {
      "application/vnd.jupyter.widget-view+json": {
       "model_id": "5ca56308945e4e93bd9c83e8d78eebde"
      }
     },
     "metadata": {},
     "output_type": "display_data"
    },
    {
     "name": "stdout",
     "output_type": "stream",
     "text": [
      "\n",
      "Train Loss: 0.00786230312091\n",
      "All Test Loss: 0.142915780757 AUC: 0.968163890148\n",
      "---Epoch 91---\n"
     ]
    },
    {
     "data": {
      "application/vnd.jupyter.widget-view+json": {
       "model_id": "dc20dcce0c15475aa347477f21c5a0fe"
      }
     },
     "metadata": {},
     "output_type": "display_data"
    },
    {
     "name": "stdout",
     "output_type": "stream",
     "text": [
      "\n",
      "Train Loss: 0.692643933051\n",
      "All Test Loss: 0.139673489657 AUC: 0.96845115827\n",
      "---Epoch 92---\n"
     ]
    },
    {
     "data": {
      "application/vnd.jupyter.widget-view+json": {
       "model_id": "7ed589814fbf463abea6bfb77e99fc4d"
      }
     },
     "metadata": {},
     "output_type": "display_data"
    },
    {
     "name": "stdout",
     "output_type": "stream",
     "text": [
      "\n",
      "Train Loss: 0.0199544977427\n",
      "All Test Loss: 0.137751606895 AUC: 0.968747309456\n",
      "---Epoch 93---\n"
     ]
    },
    {
     "data": {
      "application/vnd.jupyter.widget-view+json": {
       "model_id": "beda541f68254028ac8cd0bb6dc455c1"
      }
     },
     "metadata": {},
     "output_type": "display_data"
    },
    {
     "name": "stdout",
     "output_type": "stream",
     "text": [
      "\n",
      "Train Loss: 0.0247726033793\n",
      "All Test Loss: 0.137245262446 AUC: 0.968897162528\n",
      "---Epoch 94---\n"
     ]
    },
    {
     "data": {
      "application/vnd.jupyter.widget-view+json": {
       "model_id": "b48ae5fb646444f2afe74907d23c3649"
      }
     },
     "metadata": {},
     "output_type": "display_data"
    },
    {
     "name": "stdout",
     "output_type": "stream",
     "text": [
      "\n",
      "Train Loss: 0.018974486006\n",
      "All Test Loss: 0.139959444572 AUC: 0.968893399983\n",
      "---Epoch 95---\n"
     ]
    },
    {
     "data": {
      "application/vnd.jupyter.widget-view+json": {
       "model_id": "ff9c8c1206974f8a8b6b410cd3490b3e"
      }
     },
     "metadata": {},
     "output_type": "display_data"
    },
    {
     "name": "stdout",
     "output_type": "stream",
     "text": [
      "\n",
      "Train Loss: 0.00894506484776\n",
      "All Test Loss: 0.139625587424 AUC: 0.968617903869\n",
      "---Epoch 96---\n"
     ]
    },
    {
     "data": {
      "application/vnd.jupyter.widget-view+json": {
       "model_id": "4f9d48e5f1cd4a269a5224f7052760e6"
      }
     },
     "metadata": {},
     "output_type": "display_data"
    },
    {
     "name": "stdout",
     "output_type": "stream",
     "text": [
      "\n",
      "Train Loss: 0.0110716884476\n",
      "All Test Loss: 0.137680017969 AUC: 0.968776622706\n",
      "---Epoch 97---\n"
     ]
    },
    {
     "data": {
      "application/vnd.jupyter.widget-view+json": {
       "model_id": "672b3c8521d54169a2266a1f118ff868"
      }
     },
     "metadata": {},
     "output_type": "display_data"
    },
    {
     "name": "stdout",
     "output_type": "stream",
     "text": [
      "\n",
      "Train Loss: 0.0184779303878\n",
      "All Test Loss: 0.139660437271 AUC: 0.968726187309\n",
      "---Epoch 98---\n"
     ]
    },
    {
     "data": {
      "application/vnd.jupyter.widget-view+json": {
       "model_id": "48d1206175324af49f63691a92b81ccc"
      }
     },
     "metadata": {},
     "output_type": "display_data"
    },
    {
     "name": "stdout",
     "output_type": "stream",
     "text": [
      "\n",
      "Train Loss: 0.0124527640205\n",
      "All Test Loss: 0.140173575938 AUC: 0.968646680848\n",
      "---Epoch 99---\n"
     ]
    },
    {
     "data": {
      "application/vnd.jupyter.widget-view+json": {
       "model_id": "84d59c33adfe4e8bb7d57424a0549193"
      }
     },
     "metadata": {},
     "output_type": "display_data"
    },
    {
     "name": "stdout",
     "output_type": "stream",
     "text": [
      "\n",
      "Train Loss: 0.29590341403\n",
      "All Test Loss: 0.136963464711 AUC: 0.968876239319\n",
      "---Epoch 100---\n"
     ]
    },
    {
     "data": {
      "application/vnd.jupyter.widget-view+json": {
       "model_id": "3b52c40093fb43c5b94a4d4b6e6885e1"
      }
     },
     "metadata": {},
     "output_type": "display_data"
    },
    {
     "name": "stdout",
     "output_type": "stream",
     "text": [
      "\n",
      "Train Loss: 0.00763973550287\n",
      "All Test Loss: 0.138478603179 AUC: 0.969105486408\n",
      "---Epoch 101---\n"
     ]
    },
    {
     "data": {
      "application/vnd.jupyter.widget-view+json": {
       "model_id": "67ed818d66084b0295777630259a9a9e"
      }
     },
     "metadata": {},
     "output_type": "display_data"
    },
    {
     "name": "stdout",
     "output_type": "stream",
     "text": [
      "\n",
      "Train Loss: 0.0161151593686\n",
      "All Test Loss: 0.136357775461 AUC: 0.968124699137\n",
      "---Epoch 102---\n"
     ]
    },
    {
     "data": {
      "application/vnd.jupyter.widget-view+json": {
       "model_id": "d56f25f323ae4873b68b5ab455b01f4d"
      }
     },
     "metadata": {},
     "output_type": "display_data"
    },
    {
     "name": "stdout",
     "output_type": "stream",
     "text": [
      "\n",
      "Train Loss: 0.0182655831921\n",
      "All Test Loss: 0.137929454142 AUC: 0.96892826623\n",
      "---Epoch 103---\n"
     ]
    },
    {
     "data": {
      "application/vnd.jupyter.widget-view+json": {
       "model_id": "d0083dbf8d8043ceb3f051b1969568a4"
      }
     },
     "metadata": {},
     "output_type": "display_data"
    },
    {
     "name": "stdout",
     "output_type": "stream",
     "text": [
      "\n",
      "Train Loss: 0.00728456287415\n",
      "All Test Loss: 0.139698784762 AUC: 0.968578141989\n",
      "---Epoch 104---\n"
     ]
    },
    {
     "data": {
      "application/vnd.jupyter.widget-view+json": {
       "model_id": "f7573f575e5549b98aa8b5a52b5b95f7"
      }
     },
     "metadata": {},
     "output_type": "display_data"
    },
    {
     "name": "stdout",
     "output_type": "stream",
     "text": [
      "\n",
      "Train Loss: 0.0205419905918\n",
      "All Test Loss: 0.13694835947 AUC: 0.968859139203\n",
      "---Epoch 105---\n"
     ]
    },
    {
     "data": {
      "application/vnd.jupyter.widget-view+json": {
       "model_id": "f25f3293c2ae4647901f87c3c63850b6"
      }
     },
     "metadata": {},
     "output_type": "display_data"
    },
    {
     "name": "stdout",
     "output_type": "stream",
     "text": [
      "\n",
      "Train Loss: 0.00571930765665\n",
      "All Test Loss: 0.140692161333 AUC: 0.968604730638\n",
      "---Epoch 106---\n"
     ]
    },
    {
     "data": {
      "application/vnd.jupyter.widget-view+json": {
       "model_id": "111a870ef6344bc8ba50bb2a796276c9"
      }
     },
     "metadata": {},
     "output_type": "display_data"
    },
    {
     "name": "stdout",
     "output_type": "stream",
     "text": [
      "\n",
      "Train Loss: 0.00966869487525\n",
      "All Test Loss: 0.13778260579 AUC: 0.968602014686\n",
      "---Epoch 107---\n"
     ]
    },
    {
     "data": {
      "application/vnd.jupyter.widget-view+json": {
       "model_id": "065b0e7899b74370bf79343d94bfcaf8"
      }
     },
     "metadata": {},
     "output_type": "display_data"
    },
    {
     "name": "stdout",
     "output_type": "stream",
     "text": [
      "\n",
      "Train Loss: 0.0554206155371\n",
      "All Test Loss: 0.138859103033 AUC: 0.968410868768\n",
      "---Epoch 108---\n"
     ]
    },
    {
     "data": {
      "application/vnd.jupyter.widget-view+json": {
       "model_id": "23a28ec0540b478b91347079f3fc4829"
      }
     },
     "metadata": {},
     "output_type": "display_data"
    },
    {
     "name": "stdout",
     "output_type": "stream",
     "text": [
      "\n",
      "Train Loss: 0.561796140326\n",
      "All Test Loss: 0.139424600805 AUC: 0.968820138481\n",
      "---Epoch 109---\n"
     ]
    },
    {
     "data": {
      "application/vnd.jupyter.widget-view+json": {
       "model_id": "9599b18ef090404c9cd4771d2f412105"
      }
     },
     "metadata": {},
     "output_type": "display_data"
    },
    {
     "name": "stdout",
     "output_type": "stream",
     "text": [
      "\n",
      "Train Loss: 0.0196764972018\n",
      "All Test Loss: 0.137536990646 AUC: 0.968688674306\n",
      "---Epoch 110---\n"
     ]
    },
    {
     "data": {
      "application/vnd.jupyter.widget-view+json": {
       "model_id": "2dc8a71bf5414daea81bb0de5aba3b6c"
      }
     },
     "metadata": {},
     "output_type": "display_data"
    },
    {
     "name": "stdout",
     "output_type": "stream",
     "text": [
      "\n",
      "Train Loss: 0.0170463975159\n",
      "All Test Loss: 0.142668098831 AUC: 0.96845169454\n",
      "---Epoch 111---\n"
     ]
    },
    {
     "data": {
      "application/vnd.jupyter.widget-view+json": {
       "model_id": "49a6ddad8a854a6db596aa9645e169d3"
      }
     },
     "metadata": {},
     "output_type": "display_data"
    },
    {
     "name": "stdout",
     "output_type": "stream",
     "text": [
      "\n",
      "Train Loss: 0.0136468684385\n",
      "All Test Loss: 0.137637395986 AUC: 0.969235307172\n",
      "---Epoch 112---\n"
     ]
    },
    {
     "data": {
      "application/vnd.jupyter.widget-view+json": {
       "model_id": "6a83c262c88142ee866083079cf1b118"
      }
     },
     "metadata": {},
     "output_type": "display_data"
    },
    {
     "name": "stdout",
     "output_type": "stream",
     "text": [
      "\n",
      "Train Loss: 0.360857771553\n",
      "All Test Loss: 0.139531600114 AUC: 0.96875768889\n",
      "---Epoch 113---\n"
     ]
    },
    {
     "data": {
      "application/vnd.jupyter.widget-view+json": {
       "model_id": "2a0f282b3e3e414fb680fd32fee3bec4"
      }
     },
     "metadata": {},
     "output_type": "display_data"
    },
    {
     "name": "stdout",
     "output_type": "stream",
     "text": [
      "\n",
      "Train Loss: 0.0120061591063\n",
      "All Test Loss: 0.139939074559 AUC: 0.968149488684\n",
      "---Epoch 114---\n"
     ]
    },
    {
     "data": {
      "application/vnd.jupyter.widget-view+json": {
       "model_id": "97a5b569dac34d5aa54d9d9a9452ca06"
      }
     },
     "metadata": {},
     "output_type": "display_data"
    },
    {
     "name": "stdout",
     "output_type": "stream",
     "text": [
      "\n",
      "Train Loss: 0.010916851523\n",
      "All Test Loss: 0.13877571902 AUC: 0.968382238831\n",
      "---Epoch 115---\n"
     ]
    },
    {
     "data": {
      "application/vnd.jupyter.widget-view+json": {
       "model_id": "557128917179470486cd6c84cbaab908"
      }
     },
     "metadata": {},
     "output_type": "display_data"
    },
    {
     "name": "stdout",
     "output_type": "stream",
     "text": [
      "\n",
      "Train Loss: 0.0272600519338\n",
      "All Test Loss: 0.139433751858 AUC: 0.968193817515\n",
      "---Epoch 116---\n"
     ]
    },
    {
     "data": {
      "application/vnd.jupyter.widget-view+json": {
       "model_id": "afcea900db3a4f02a9c8f1a031fbbfa4"
      }
     },
     "metadata": {},
     "output_type": "display_data"
    },
    {
     "name": "stdout",
     "output_type": "stream",
     "text": [
      "\n",
      "Train Loss: 0.369714217174\n",
      "All Test Loss: 0.136685370472 AUC: 0.968314115149\n",
      "---Epoch 117---\n"
     ]
    },
    {
     "data": {
      "application/vnd.jupyter.widget-view+json": {
       "model_id": "af047d1c6a0947dc8cb7a7b060d43843"
      }
     },
     "metadata": {},
     "output_type": "display_data"
    },
    {
     "name": "stdout",
     "output_type": "stream",
     "text": [
      "\n",
      "Train Loss: 0.0137465783953\n",
      "All Test Loss: 0.13810868887 AUC: 0.96826865323\n",
      "---Epoch 118---\n"
     ]
    },
    {
     "data": {
      "application/vnd.jupyter.widget-view+json": {
       "model_id": "290e27acd854460da126d5ef2e86691b"
      }
     },
     "metadata": {},
     "output_type": "display_data"
    },
    {
     "name": "stdout",
     "output_type": "stream",
     "text": [
      "\n",
      "Train Loss: 0.737488015346\n",
      "All Test Loss: 0.136302844053 AUC: 0.968261387627\n",
      "---Epoch 119---\n"
     ]
    },
    {
     "data": {
      "application/vnd.jupyter.widget-view+json": {
       "model_id": "7814945ed70543d28285d87955d03f78"
      }
     },
     "metadata": {},
     "output_type": "display_data"
    },
    {
     "name": "stdout",
     "output_type": "stream",
     "text": [
      "\n",
      "Train Loss: 0.0120692446246\n",
      "All Test Loss: 0.137879493887 AUC: 0.96853177187\n",
      "---Epoch 120---\n"
     ]
    },
    {
     "data": {
      "application/vnd.jupyter.widget-view+json": {
       "model_id": "2ddb2d1ecf854122bab6f823318d1693"
      }
     },
     "metadata": {},
     "output_type": "display_data"
    },
    {
     "name": "stdout",
     "output_type": "stream",
     "text": [
      "\n",
      "Train Loss: 0.0177140385559\n",
      "All Test Loss: 0.140578319225 AUC: 0.968267935319\n",
      "---Epoch 121---\n"
     ]
    },
    {
     "data": {
      "application/vnd.jupyter.widget-view+json": {
       "model_id": "564d48cbc8e744ca9eb3a49ab8a1c584"
      }
     },
     "metadata": {},
     "output_type": "display_data"
    },
    {
     "name": "stdout",
     "output_type": "stream",
     "text": [
      "\n",
      "Train Loss: 0.0134889073536\n",
      "All Test Loss: 0.138342528368 AUC: 0.968280684724\n",
      "---Epoch 122---\n"
     ]
    },
    {
     "data": {
      "application/vnd.jupyter.widget-view+json": {
       "model_id": "fd41c542dceb4a83ba43c6495338478d"
      }
     },
     "metadata": {},
     "output_type": "display_data"
    },
    {
     "name": "stdout",
     "output_type": "stream",
     "text": [
      "\n",
      "Train Loss: 0.0265954599594\n",
      "All Test Loss: 0.140125164126 AUC: 0.968082290502\n",
      "---Epoch 123---\n"
     ]
    },
    {
     "data": {
      "application/vnd.jupyter.widget-view+json": {
       "model_id": "8cdaabd8bf664ec194b4ae8b35cb3f9b"
      }
     },
     "metadata": {},
     "output_type": "display_data"
    },
    {
     "name": "stdout",
     "output_type": "stream",
     "text": [
      "\n",
      "Train Loss: 0.00932841416785\n",
      "All Test Loss: 0.136523425285 AUC: 0.968339665855\n",
      "---Epoch 124---\n"
     ]
    },
    {
     "data": {
      "application/vnd.jupyter.widget-view+json": {
       "model_id": "7c6b5d557df84c1a8d965c3655373726"
      }
     },
     "metadata": {},
     "output_type": "display_data"
    },
    {
     "name": "stdout",
     "output_type": "stream",
     "text": [
      "\n",
      "Train Loss: 0.0259707176454\n",
      "All Test Loss: 0.135778994344 AUC: 0.968981530023\n",
      "---Epoch 125---\n"
     ]
    },
    {
     "data": {
      "application/vnd.jupyter.widget-view+json": {
       "model_id": "af480ff66b4b4d65bb2b50c7e3003db0"
      }
     },
     "metadata": {},
     "output_type": "display_data"
    },
    {
     "name": "stdout",
     "output_type": "stream",
     "text": [
      "\n",
      "Train Loss: 0.0106568715509\n",
      "All Test Loss: 0.139059477717 AUC: 0.968792840571\n",
      "---Epoch 126---\n"
     ]
    },
    {
     "data": {
      "application/vnd.jupyter.widget-view+json": {
       "model_id": "151b4cccb0fc4b62a4942775e30c9e43"
      }
     },
     "metadata": {},
     "output_type": "display_data"
    },
    {
     "name": "stdout",
     "output_type": "stream",
     "text": [
      "\n",
      "Train Loss: 0.0128158031612\n",
      "All Test Loss: 0.137370127111 AUC: 0.968414077743\n",
      "---Epoch 127---\n"
     ]
    },
    {
     "data": {
      "application/vnd.jupyter.widget-view+json": {
       "model_id": "678a78941c064b9a85b196e8ad47719e"
      }
     },
     "metadata": {},
     "output_type": "display_data"
    },
    {
     "name": "stdout",
     "output_type": "stream",
     "text": [
      "\n",
      "Train Loss: 0.2462167023\n",
      "All Test Loss: 0.138653087129 AUC: 0.968533000103\n",
      "---Epoch 128---\n"
     ]
    },
    {
     "data": {
      "application/vnd.jupyter.widget-view+json": {
       "model_id": "f294abd993f14c6cac6a6524bb8e6dc5"
      }
     },
     "metadata": {},
     "output_type": "display_data"
    },
    {
     "name": "stdout",
     "output_type": "stream",
     "text": [
      "\n",
      "Train Loss: 0.30328699208\n",
      "All Test Loss: 0.138085172094 AUC: 0.968118289837\n",
      "---Epoch 129---\n"
     ]
    },
    {
     "data": {
      "application/vnd.jupyter.widget-view+json": {
       "model_id": "32973f41ddfa474f98d383b85468ba67"
      }
     },
     "metadata": {},
     "output_type": "display_data"
    },
    {
     "name": "stdout",
     "output_type": "stream",
     "text": [
      "\n",
      "Train Loss: 0.0282613035\n",
      "All Test Loss: 0.141683203943 AUC: 0.96812024463\n",
      "---Epoch 130---\n"
     ]
    },
    {
     "data": {
      "application/vnd.jupyter.widget-view+json": {
       "model_id": "a5335c4387354b50b94224dd6c13b548"
      }
     },
     "metadata": {},
     "output_type": "display_data"
    },
    {
     "name": "stdout",
     "output_type": "stream",
     "text": [
      "\n",
      "Train Loss: 0.0201129882673\n",
      "All Test Loss: 0.138970277814 AUC: 0.968358495877\n",
      "---Epoch 131---\n"
     ]
    },
    {
     "data": {
      "application/vnd.jupyter.widget-view+json": {
       "model_id": "19b5f09f9c0545909a373dd8c59b6871"
      }
     },
     "metadata": {},
     "output_type": "display_data"
    },
    {
     "name": "stdout",
     "output_type": "stream",
     "text": [
      "\n",
      "Train Loss: 0.00818305475571\n",
      "All Test Loss: 0.139901174535 AUC: 0.967948958029\n",
      "---Epoch 132---\n"
     ]
    },
    {
     "data": {
      "application/vnd.jupyter.widget-view+json": {
       "model_id": "7b53c658c03b4636bb0aa5fdc20f05a5"
      }
     },
     "metadata": {},
     "output_type": "display_data"
    },
    {
     "name": "stdout",
     "output_type": "stream",
     "text": [
      "\n",
      "Train Loss: 0.115223275726\n",
      "All Test Loss: 0.140646323475 AUC: 0.967955436525\n",
      "---Epoch 133---\n"
     ]
    },
    {
     "data": {
      "application/vnd.jupyter.widget-view+json": {
       "model_id": "17217021aede46f48dfe52188210f78e"
      }
     },
     "metadata": {},
     "output_type": "display_data"
    },
    {
     "name": "stdout",
     "output_type": "stream",
     "text": [
      "\n",
      "Train Loss: 0.0351164493009\n",
      "All Test Loss: 0.137348962451 AUC: 0.968049059015\n",
      "---Epoch 134---\n"
     ]
    },
    {
     "data": {
      "application/vnd.jupyter.widget-view+json": {
       "model_id": "8efb4e93042a4179bda75f91b076dcdd"
      }
     },
     "metadata": {},
     "output_type": "display_data"
    },
    {
     "name": "stdout",
     "output_type": "stream",
     "text": [
      "\n",
      "Train Loss: 0.0205169129615\n",
      "All Test Loss: 0.142928670181 AUC: 0.967152025123\n",
      "---Epoch 135---\n"
     ]
    },
    {
     "data": {
      "application/vnd.jupyter.widget-view+json": {
       "model_id": "2094f724104c40b1b940ac13258fa635"
      }
     },
     "metadata": {},
     "output_type": "display_data"
    },
    {
     "name": "stdout",
     "output_type": "stream",
     "text": [
      "\n",
      "Train Loss: 0.0085411094195\n",
      "All Test Loss: 0.139222546364 AUC: 0.968065934244\n",
      "---Epoch 136---\n"
     ]
    },
    {
     "data": {
      "application/vnd.jupyter.widget-view+json": {
       "model_id": "9209394471f44b6ab470ad82c4bc0957"
      }
     },
     "metadata": {},
     "output_type": "display_data"
    },
    {
     "name": "stdout",
     "output_type": "stream",
     "text": [
      "\n",
      "Train Loss: 0.025956909718\n",
      "All Test Loss: 0.140635008879 AUC: 0.967858345574\n",
      "---Epoch 137---\n"
     ]
    },
    {
     "data": {
      "application/vnd.jupyter.widget-view+json": {
       "model_id": "9a5fc2741f7c4d9da169e1e73219c8fe"
      }
     },
     "metadata": {},
     "output_type": "display_data"
    },
    {
     "name": "stdout",
     "output_type": "stream",
     "text": [
      "\n",
      "Train Loss: 0.0479877449639\n",
      "All Test Loss: 0.140577886795 AUC: 0.966815463342\n",
      "---Epoch 138---\n"
     ]
    },
    {
     "data": {
      "application/vnd.jupyter.widget-view+json": {
       "model_id": "6044889acf244b6d925b18e8ae08b59a"
      }
     },
     "metadata": {},
     "output_type": "display_data"
    },
    {
     "name": "stdout",
     "output_type": "stream",
     "text": [
      "\n",
      "Train Loss: 0.0158538198136\n",
      "All Test Loss: 0.140121578579 AUC: 0.96736627393\n",
      "---Epoch 139---\n"
     ]
    },
    {
     "data": {
      "application/vnd.jupyter.widget-view+json": {
       "model_id": "db597de3526b465f9c0ac43ef7487b89"
      }
     },
     "metadata": {},
     "output_type": "display_data"
    },
    {
     "name": "stdout",
     "output_type": "stream",
     "text": [
      "\n",
      "Train Loss: 0.0286800558399\n",
      "All Test Loss: 0.143025309074 AUC: 0.967866363686\n",
      "---Epoch 140---\n"
     ]
    },
    {
     "data": {
      "application/vnd.jupyter.widget-view+json": {
       "model_id": "e2c6d417474d431899ee3926a4bb95a3"
      }
     },
     "metadata": {},
     "output_type": "display_data"
    },
    {
     "name": "stdout",
     "output_type": "stream",
     "text": [
      "\n",
      "Train Loss: 0.0254638856072\n",
      "All Test Loss: 0.14323855045 AUC: 0.967366593963\n",
      "---Epoch 141---\n"
     ]
    },
    {
     "data": {
      "application/vnd.jupyter.widget-view+json": {
       "model_id": "8b820146f58f46f0aced6bdd540289c3"
      }
     },
     "metadata": {},
     "output_type": "display_data"
    },
    {
     "name": "stdout",
     "output_type": "stream",
     "text": [
      "\n",
      "Train Loss: 0.657859282708\n",
      "All Test Loss: 0.139183389102 AUC: 0.968093655981\n",
      "---Epoch 142---\n"
     ]
    },
    {
     "data": {
      "application/vnd.jupyter.widget-view+json": {
       "model_id": "056b544d14064f1fb326f9d7a6e7e44f"
      }
     },
     "metadata": {},
     "output_type": "display_data"
    },
    {
     "name": "stdout",
     "output_type": "stream",
     "text": [
      "\n",
      "Train Loss: 0.0140420521283\n",
      "All Test Loss: 0.140696867934 AUC: 0.967234325382\n",
      "---Epoch 143---\n"
     ]
    },
    {
     "data": {
      "application/vnd.jupyter.widget-view+json": {
       "model_id": "398e5118dbdf4711883ca7c4758c78f9"
      }
     },
     "metadata": {},
     "output_type": "display_data"
    },
    {
     "name": "stdout",
     "output_type": "stream",
     "text": [
      "\n",
      "Train Loss: 0.00818292478351\n",
      "All Test Loss: 0.14037593512 AUC: 0.967605511223\n",
      "---Epoch 144---\n"
     ]
    },
    {
     "data": {
      "application/vnd.jupyter.widget-view+json": {
       "model_id": "da23698bf5f44d99801568de4e3064ca"
      }
     },
     "metadata": {},
     "output_type": "display_data"
    },
    {
     "name": "stdout",
     "output_type": "stream",
     "text": [
      "\n",
      "Train Loss: 0.371925697484\n",
      "All Test Loss: 0.142948703255 AUC: 0.967560083902\n",
      "---Epoch 145---\n"
     ]
    },
    {
     "data": {
      "application/vnd.jupyter.widget-view+json": {
       "model_id": "1c1ede061c5743df8a91b17d4bd45e30"
      }
     },
     "metadata": {},
     "output_type": "display_data"
    },
    {
     "name": "stdout",
     "output_type": "stream",
     "text": [
      "\n",
      "Train Loss: 0.890674999049\n",
      "All Test Loss: 0.13746619155 AUC: 0.968149255147\n",
      "---Epoch 146---\n"
     ]
    },
    {
     "data": {
      "application/vnd.jupyter.widget-view+json": {
       "model_id": "db7be87911d044b6999cf1b08b282577"
      }
     },
     "metadata": {},
     "output_type": "display_data"
    },
    {
     "name": "stdout",
     "output_type": "stream",
     "text": [
      "\n",
      "Train Loss: 0.00938720932474\n",
      "All Test Loss: 0.138094022703 AUC: 0.967780915\n",
      "---Epoch 147---\n"
     ]
    },
    {
     "data": {
      "application/vnd.jupyter.widget-view+json": {
       "model_id": "5b5584ede3844839b3ed4ee6358c3b70"
      }
     },
     "metadata": {},
     "output_type": "display_data"
    },
    {
     "name": "stdout",
     "output_type": "stream",
     "text": [
      "\n",
      "Train Loss: 0.0140164023633\n",
      "All Test Loss: 0.147359591003 AUC: 0.967702143749\n",
      "---Epoch 148---\n"
     ]
    },
    {
     "data": {
      "application/vnd.jupyter.widget-view+json": {
       "model_id": "151a57f8b9844b40b87c7ab7beb728ad"
      }
     },
     "metadata": {},
     "output_type": "display_data"
    },
    {
     "name": "stdout",
     "output_type": "stream",
     "text": [
      "\n",
      "Train Loss: 0.0716400102929\n",
      "All Test Loss: 0.139636039249 AUC: 0.967860161975\n",
      "---Epoch 149---\n"
     ]
    },
    {
     "data": {
      "application/vnd.jupyter.widget-view+json": {
       "model_id": "d7337d4b5d3a48f69132378d7e032f99"
      }
     },
     "metadata": {},
     "output_type": "display_data"
    },
    {
     "name": "stdout",
     "output_type": "stream",
     "text": [
      "\n",
      "Train Loss: 0.0816694017388\n",
      "All Test Loss: 0.142295610209 AUC: 0.967796812832\n",
      "---Epoch 150---\n"
     ]
    },
    {
     "data": {
      "application/vnd.jupyter.widget-view+json": {
       "model_id": "2694b58330ea4bf6802478ffbd2be1b1"
      }
     },
     "metadata": {},
     "output_type": "display_data"
    },
    {
     "name": "stdout",
     "output_type": "stream",
     "text": [
      "\n",
      "Train Loss: 0.0447004950897\n",
      "All Test Loss: 0.143739579002 AUC: 0.967678539187\n",
      "---Epoch 151---\n"
     ]
    },
    {
     "data": {
      "application/vnd.jupyter.widget-view+json": {
       "model_id": "ece2ead8df094bf1a19bea263412e490"
      }
     },
     "metadata": {},
     "output_type": "display_data"
    },
    {
     "name": "stdout",
     "output_type": "stream",
     "text": [
      "\n",
      "Train Loss: 0.127651234324\n",
      "All Test Loss: 0.14121408872 AUC: 0.967647392237\n",
      "---Epoch 152---\n"
     ]
    },
    {
     "data": {
      "application/vnd.jupyter.widget-view+json": {
       "model_id": "ed8d48fb37ec449290a0f46fd69d4083"
      }
     },
     "metadata": {},
     "output_type": "display_data"
    },
    {
     "name": "stdout",
     "output_type": "stream",
     "text": [
      "\n",
      "Train Loss: 0.0154797633457\n",
      "All Test Loss: 0.14360416423 AUC: 0.967536453392\n",
      "---Epoch 153---\n"
     ]
    },
    {
     "data": {
      "application/vnd.jupyter.widget-view+json": {
       "model_id": "af59a0d863ae4fc0aaa37a55ded1e2dc"
      }
     },
     "metadata": {},
     "output_type": "display_data"
    },
    {
     "name": "stdout",
     "output_type": "stream",
     "text": [
      "\n",
      "Train Loss: 0.0380760359865\n",
      "All Test Loss: 0.143778069485 AUC: 0.967245941698\n",
      "---Epoch 154---\n"
     ]
    },
    {
     "data": {
      "application/vnd.jupyter.widget-view+json": {
       "model_id": "c4f7c5a778cd43c1b20522f343f8ae16"
      }
     },
     "metadata": {},
     "output_type": "display_data"
    },
    {
     "name": "stdout",
     "output_type": "stream",
     "text": [
      "\n",
      "Train Loss: 0.02167615183\n",
      "All Test Loss: 0.141610187373 AUC: 0.967328216007\n",
      "---Epoch 155---\n"
     ]
    },
    {
     "data": {
      "application/vnd.jupyter.widget-view+json": {
       "model_id": "fd1d7ceb6e1b47f196269bc187629c24"
      }
     },
     "metadata": {},
     "output_type": "display_data"
    },
    {
     "name": "stdout",
     "output_type": "stream",
     "text": [
      "\n",
      "Train Loss: 0.00826456967969\n",
      "All Test Loss: 0.142739493385 AUC: 0.967498853894\n",
      "---Epoch 156---\n"
     ]
    },
    {
     "data": {
      "application/vnd.jupyter.widget-view+json": {
       "model_id": "38649e8d9c3546a5be9d6cafbb4c8fec"
      }
     },
     "metadata": {},
     "output_type": "display_data"
    },
    {
     "name": "stdout",
     "output_type": "stream",
     "text": [
      "\n",
      "Train Loss: 0.0131896919555\n",
      "All Test Loss: 0.141269841309 AUC: 0.967717851292\n",
      "---Epoch 157---\n"
     ]
    },
    {
     "data": {
      "application/vnd.jupyter.widget-view+json": {
       "model_id": "16a1315a1a09429aa634d4814ef03834"
      }
     },
     "metadata": {},
     "output_type": "display_data"
    },
    {
     "name": "stdout",
     "output_type": "stream",
     "text": [
      "\n",
      "Train Loss: 0.0115334913452\n",
      "All Test Loss: 0.143475421462 AUC: 0.967001704978\n",
      "---Epoch 158---\n"
     ]
    },
    {
     "data": {
      "application/vnd.jupyter.widget-view+json": {
       "model_id": "092b28a4c34f4534894fbbdfcd093ed8"
      }
     },
     "metadata": {},
     "output_type": "display_data"
    },
    {
     "name": "stdout",
     "output_type": "stream",
     "text": [
      "\n",
      "Train Loss: 0.025087074253\n",
      "All Test Loss: 0.142353166977 AUC: 0.967157413779\n",
      "---Epoch 159---\n"
     ]
    },
    {
     "data": {
      "application/vnd.jupyter.widget-view+json": {
       "model_id": "f643aee3cb8b49ca81ca7b1ae7e8837d"
      }
     },
     "metadata": {},
     "output_type": "display_data"
    },
    {
     "name": "stdout",
     "output_type": "stream",
     "text": [
      "\n",
      "Train Loss: 0.0624805017667\n",
      "All Test Loss: 0.14363641864 AUC: 0.965915739447\n",
      "---Epoch 160---\n"
     ]
    },
    {
     "data": {
      "application/vnd.jupyter.widget-view+json": {
       "model_id": "0b1f6fa118644e56b5560f938258f272"
      }
     },
     "metadata": {},
     "output_type": "display_data"
    },
    {
     "name": "stdout",
     "output_type": "stream",
     "text": [
      "\n",
      "Train Loss: 0.071161277955\n",
      "All Test Loss: 0.140678508878 AUC: 0.96739449734\n",
      "---Epoch 161---\n"
     ]
    },
    {
     "data": {
      "application/vnd.jupyter.widget-view+json": {
       "model_id": "22d04f4835374b74b7f31a88a7b3d06b"
      }
     },
     "metadata": {},
     "output_type": "display_data"
    },
    {
     "name": "stdout",
     "output_type": "stream",
     "text": [
      "\n",
      "Train Loss: 0.867309669773\n",
      "All Test Loss: 0.142443707068 AUC: 0.967059847104\n",
      "---Epoch 162---\n"
     ]
    },
    {
     "data": {
      "application/vnd.jupyter.widget-view+json": {
       "model_id": "2da495c990bd406495470af2af4ca7e8"
      }
     },
     "metadata": {},
     "output_type": "display_data"
    },
    {
     "name": "stdout",
     "output_type": "stream",
     "text": [
      "\n",
      "Train Loss: 0.0437250691814\n",
      "All Test Loss: 0.144047078923 AUC: 0.967521593503\n",
      "---Epoch 163---\n"
     ]
    },
    {
     "data": {
      "application/vnd.jupyter.widget-view+json": {
       "model_id": "87a84c5ef7c54b74b9c7562b2c4c0ee4"
      }
     },
     "metadata": {},
     "output_type": "display_data"
    },
    {
     "name": "stdout",
     "output_type": "stream",
     "text": [
      "\n",
      "Train Loss: 0.0194436639271\n",
      "All Test Loss: 0.142009886071 AUC: 0.966878812485\n",
      "---Epoch 164---\n"
     ]
    },
    {
     "data": {
      "application/vnd.jupyter.widget-view+json": {
       "model_id": "8255b84356be4fc1b46db70443f4589c"
      }
     },
     "metadata": {},
     "output_type": "display_data"
    },
    {
     "name": "stdout",
     "output_type": "stream",
     "text": [
      "\n",
      "Train Loss: 0.0107626051237\n",
      "All Test Loss: 0.141964060055 AUC: 0.967110351698\n",
      "---Epoch 165---\n"
     ]
    },
    {
     "data": {
      "application/vnd.jupyter.widget-view+json": {
       "model_id": "8f8c62de38ea4eb38984f9f867110e65"
      }
     },
     "metadata": {},
     "output_type": "display_data"
    },
    {
     "name": "stdout",
     "output_type": "stream",
     "text": [
      "\n",
      "Train Loss: 0.0641724190894\n",
      "All Test Loss: 0.144869305004 AUC: 0.96697197655\n",
      "---Epoch 166---\n"
     ]
    },
    {
     "data": {
      "application/vnd.jupyter.widget-view+json": {
       "model_id": "f1cd9e5d98f047e1ba9b75bae0ebec13"
      }
     },
     "metadata": {},
     "output_type": "display_data"
    },
    {
     "name": "stdout",
     "output_type": "stream",
     "text": [
      "\n",
      "Train Loss: 0.324570835095\n",
      "All Test Loss: 0.139374711413 AUC: 0.967795247268\n",
      "---Epoch 167---\n"
     ]
    },
    {
     "data": {
      "application/vnd.jupyter.widget-view+json": {
       "model_id": "c12f4a13da13467cb922e33128c17604"
      }
     },
     "metadata": {},
     "output_type": "display_data"
    },
    {
     "name": "stdout",
     "output_type": "stream",
     "text": [
      "\n",
      "Train Loss: 0.0280848383976\n",
      "All Test Loss: 0.141268829296 AUC: 0.967266103747\n",
      "---Epoch 168---\n"
     ]
    },
    {
     "data": {
      "application/vnd.jupyter.widget-view+json": {
       "model_id": "2b0fd10b212843e0b32948d9d6c42061"
      }
     },
     "metadata": {},
     "output_type": "display_data"
    },
    {
     "ename": "KeyboardInterrupt",
     "evalue": "",
     "output_type": "error",
     "traceback": [
      "\u001b[0;31m---------------------------------------------------------------------------\u001b[0m",
      "\u001b[0;31mKeyboardInterrupt\u001b[0m                         Traceback (most recent call last)",
      "\u001b[0;32m<ipython-input-26-bfe65613e96b>\u001b[0m in \u001b[0;36m<module>\u001b[0;34m()\u001b[0m\n\u001b[1;32m      6\u001b[0m \u001b[0;31m#data_dict['optimizer'] = torch.optim.LBGFS\u001b[0m\u001b[0;34m\u001b[0m\u001b[0;34m\u001b[0m\u001b[0m\n\u001b[1;32m      7\u001b[0m \u001b[0;31m#data_dict['optimizer']\u001b[0m\u001b[0;34m\u001b[0m\u001b[0;34m\u001b[0m\u001b[0m\n\u001b[0;32m----> 8\u001b[0;31m \u001b[0mtrain\u001b[0m\u001b[0;34m(\u001b[0m\u001b[0mchkpoint\u001b[0m\u001b[0;34m=\u001b[0m\u001b[0;34m'model17_post9_3_64_lr_001.tar'\u001b[0m\u001b[0;34m,\u001b[0m \u001b[0mepochs\u001b[0m\u001b[0;34m=\u001b[0m\u001b[0;36m300\u001b[0m\u001b[0;34m,\u001b[0m \u001b[0;34m**\u001b[0m\u001b[0mdata_dict\u001b[0m\u001b[0;34m)\u001b[0m\u001b[0;34m\u001b[0m\u001b[0m\n\u001b[0m",
      "\u001b[0;32m<ipython-input-25-bcd37d2ac3e8>\u001b[0m in \u001b[0;36mtrain\u001b[0;34m(chkpoint, epochs, model, criterion, optimizer, train_losses, test_losses, test_aucs, cur_epoch, **kwargs)\u001b[0m\n\u001b[1;32m     32\u001b[0m         \u001b[0mnum_cycles\u001b[0m \u001b[0;34m/=\u001b[0m \u001b[0;36m2\u001b[0m\u001b[0;34m\u001b[0m\u001b[0m\n\u001b[1;32m     33\u001b[0m         \u001b[0;32mfor\u001b[0m \u001b[0mcycle\u001b[0m \u001b[0;32min\u001b[0m \u001b[0mtqdm_notebook\u001b[0m\u001b[0;34m(\u001b[0m\u001b[0mxrange\u001b[0m\u001b[0;34m(\u001b[0m\u001b[0mnum_cycles\u001b[0m\u001b[0;34m)\u001b[0m\u001b[0;34m)\u001b[0m\u001b[0;34m:\u001b[0m\u001b[0;34m\u001b[0m\u001b[0m\n\u001b[0;32m---> 34\u001b[0;31m             \u001b[0mhidden\u001b[0m\u001b[0;34m,\u001b[0m \u001b[0minp\u001b[0m\u001b[0;34m,\u001b[0m \u001b[0mtarget\u001b[0m \u001b[0;34m=\u001b[0m \u001b[0mrandom_batch\u001b[0m\u001b[0;34m(\u001b[0m\u001b[0;36m5\u001b[0m\u001b[0;34m)\u001b[0m \u001b[0;31m# was 10\u001b[0m\u001b[0;34m\u001b[0m\u001b[0m\n\u001b[0m\u001b[1;32m     35\u001b[0m             \u001b[0mhidden\u001b[0m\u001b[0;34m,\u001b[0m \u001b[0minp\u001b[0m\u001b[0;34m,\u001b[0m \u001b[0mposts\u001b[0m\u001b[0;34m,\u001b[0m \u001b[0mdrugs\u001b[0m\u001b[0;34m,\u001b[0m \u001b[0mdxs\u001b[0m\u001b[0;34m,\u001b[0m \u001b[0mtarget\u001b[0m \u001b[0;34m=\u001b[0m \u001b[0mtorchify_batch\u001b[0m\u001b[0;34m(\u001b[0m\u001b[0mhidden\u001b[0m\u001b[0;34m,\u001b[0m \u001b[0minp\u001b[0m\u001b[0;34m,\u001b[0m \u001b[0mtarget\u001b[0m\u001b[0;34m)\u001b[0m\u001b[0;34m\u001b[0m\u001b[0m\n\u001b[1;32m     36\u001b[0m             \u001b[0mtarget\u001b[0m\u001b[0;34m.\u001b[0m\u001b[0mcuda\u001b[0m\u001b[0;34m(\u001b[0m\u001b[0;34m)\u001b[0m\u001b[0;34m\u001b[0m\u001b[0m\n",
      "\u001b[0;32m<ipython-input-2-ffc0031572cf>\u001b[0m in \u001b[0;36mrandom_batch\u001b[0;34m(batch_size)\u001b[0m\n\u001b[1;32m     39\u001b[0m \u001b[0;32mdef\u001b[0m \u001b[0mrandom_batch\u001b[0m\u001b[0;34m(\u001b[0m\u001b[0mbatch_size\u001b[0m\u001b[0;34m=\u001b[0m\u001b[0;36m1\u001b[0m\u001b[0;34m)\u001b[0m\u001b[0;34m:\u001b[0m\u001b[0;34m\u001b[0m\u001b[0m\n\u001b[1;32m     40\u001b[0m     \u001b[0mchunk_len\u001b[0m \u001b[0;34m=\u001b[0m \u001b[0mnp\u001b[0m\u001b[0;34m.\u001b[0m\u001b[0mrandom\u001b[0m\u001b[0;34m.\u001b[0m\u001b[0mchoice\u001b[0m\u001b[0;34m(\u001b[0m\u001b[0mbucketlengths\u001b[0m\u001b[0;34m.\u001b[0m\u001b[0mkeys\u001b[0m\u001b[0;34m(\u001b[0m\u001b[0;34m)\u001b[0m\u001b[0;34m,\u001b[0m \u001b[0;36m1\u001b[0m\u001b[0;34m,\u001b[0m \u001b[0mp\u001b[0m\u001b[0;34m=\u001b[0m\u001b[0mnp\u001b[0m\u001b[0;34m.\u001b[0m\u001b[0marray\u001b[0m\u001b[0;34m(\u001b[0m\u001b[0mbucketlengths\u001b[0m\u001b[0;34m.\u001b[0m\u001b[0mvalues\u001b[0m\u001b[0;34m(\u001b[0m\u001b[0;34m)\u001b[0m\u001b[0;34m)\u001b[0m\u001b[0;34m/\u001b[0m\u001b[0mfloat\u001b[0m\u001b[0;34m(\u001b[0m\u001b[0msum\u001b[0m\u001b[0;34m(\u001b[0m\u001b[0mbucketlengths\u001b[0m\u001b[0;34m.\u001b[0m\u001b[0mvalues\u001b[0m\u001b[0;34m(\u001b[0m\u001b[0;34m)\u001b[0m\u001b[0;34m)\u001b[0m\u001b[0;34m)\u001b[0m\u001b[0;34m)\u001b[0m\u001b[0;34m[\u001b[0m\u001b[0;36m0\u001b[0m\u001b[0;34m]\u001b[0m\u001b[0;34m\u001b[0m\u001b[0m\n\u001b[0;32m---> 41\u001b[0;31m     \u001b[0mbucket\u001b[0m \u001b[0;34m=\u001b[0m \u001b[0mnp\u001b[0m\u001b[0;34m.\u001b[0m\u001b[0marray\u001b[0m\u001b[0;34m(\u001b[0m\u001b[0mtrain_pt_by_len\u001b[0m\u001b[0;34m[\u001b[0m\u001b[0mchunk_len\u001b[0m\u001b[0;34m]\u001b[0m\u001b[0;34m)\u001b[0m\u001b[0;34m\u001b[0m\u001b[0m\n\u001b[0m\u001b[1;32m     42\u001b[0m     \u001b[0mhidden\u001b[0m\u001b[0;34m,\u001b[0m \u001b[0minp\u001b[0m\u001b[0;34m,\u001b[0m \u001b[0mlabels\u001b[0m \u001b[0;34m=\u001b[0m \u001b[0mprepare_input\u001b[0m\u001b[0;34m(\u001b[0m\u001b[0mbucket\u001b[0m\u001b[0;34m[\u001b[0m\u001b[0mnp\u001b[0m\u001b[0;34m.\u001b[0m\u001b[0mrandom\u001b[0m\u001b[0;34m.\u001b[0m\u001b[0mchoice\u001b[0m\u001b[0;34m(\u001b[0m\u001b[0mbucket\u001b[0m\u001b[0;34m.\u001b[0m\u001b[0mshape\u001b[0m\u001b[0;34m[\u001b[0m\u001b[0;36m0\u001b[0m\u001b[0;34m]\u001b[0m\u001b[0;34m,\u001b[0m \u001b[0mbatch_size\u001b[0m\u001b[0;34m)\u001b[0m\u001b[0;34m]\u001b[0m\u001b[0;34m)\u001b[0m\u001b[0;34m\u001b[0m\u001b[0m\n\u001b[1;32m     43\u001b[0m \u001b[0;34m\u001b[0m\u001b[0m\n",
      "\u001b[0;31mKeyboardInterrupt\u001b[0m: "
     ]
    }
   ],
   "source": [
    "data_dict = torch.load('model14_post9_4_64_lr_0001/epoch-68-969.tar')\n",
    "#data_dict = torch.load('model16_post9_3_64_lr_001/epoch-71-968.tar')\n",
    "model = data_dict['model']\n",
    "#data_dict['optimizer'] = torch.optim.Adam(model.parameters(), lr=0.0001)\n",
    "#data_dict['optimizer'] = torch.optim.SGD(model.parameters(), lr=0.003, momentum=0.9, nesterov=True)\n",
    "#data_dict['optimizer'] = torch.optim.LBGFS\n",
    "#data_dict['optimizer']\n",
    "train(chkpoint='model17_post9_3_64_lr_001.tar', epochs=300, **data_dict)"
   ]
  },
  {
   "cell_type": "code",
   "execution_count": 5,
   "metadata": {},
   "outputs": [
    {
     "data": {
      "application/vnd.jupyter.widget-view+json": {
       "model_id": "ea4a7ecb290c4b73a84cdb6071072cf7"
      }
     },
     "metadata": {},
     "output_type": "display_data"
    },
    {
     "name": "stdout",
     "output_type": "stream",
     "text": [
      "\n"
     ]
    },
    {
     "data": {
      "application/vnd.jupyter.widget-view+json": {
       "model_id": "ccbc9aaf3be64f428e2e34e14893c33d"
      }
     },
     "metadata": {},
     "output_type": "display_data"
    },
    {
     "name": "stdout",
     "output_type": "stream",
     "text": [
      "\n"
     ]
    },
    {
     "data": {
      "application/vnd.jupyter.widget-view+json": {
       "model_id": "4491ad91c3834598a9eb4ec1a7d2927d"
      }
     },
     "metadata": {},
     "output_type": "display_data"
    },
    {
     "name": "stdout",
     "output_type": "stream",
     "text": [
      "\n"
     ]
    },
    {
     "data": {
      "application/vnd.jupyter.widget-view+json": {
       "model_id": "e9a9c4a24a744c6a80c34c323851e96e"
      }
     },
     "metadata": {},
     "output_type": "display_data"
    },
    {
     "name": "stdout",
     "output_type": "stream",
     "text": [
      "\n"
     ]
    }
   ],
   "source": [
    "data_dict = torch.load('model17_post9_3_64_lr_001/epoch-100-969.tar')\n",
    "generate_predictions_csv(data_dict['model'], 'model17-969-1.csv')\n",
    "data_dict = torch.load('model17_post9_3_64_lr_001/epoch-111-969.tar')\n",
    "generate_predictions_csv(data_dict['model'], 'model17-969-2.csv')\n",
    "data_dict = torch.load('model17_post9_3_64_lr_001/epoch-124-968.tar')\n",
    "generate_predictions_csv(data_dict['model'], 'model17-9689-1.csv')\n",
    "data_dict = torch.load('model17_post9_3_64_lr_001/epoch-93-968.tar')\n",
    "generate_predictions_csv(data_dict['model'], 'model17-9689-2.csv')"
   ]
  },
  {
   "cell_type": "code",
   "execution_count": 10,
   "metadata": {},
   "outputs": [
    {
     "name": "stderr",
     "output_type": "stream",
     "text": [
      "Widget Javascript not detected.  It may not be installed or enabled properly.\n"
     ]
    },
    {
     "data": {
      "application/vnd.jupyter.widget-view+json": {
       "model_id": "01a9b254e749415395b214e971a4b9aa"
      }
     },
     "metadata": {},
     "output_type": "display_data"
    },
    {
     "name": "stdout",
     "output_type": "stream",
     "text": [
      "\n"
     ]
    },
    {
     "name": "stderr",
     "output_type": "stream",
     "text": [
      "Widget Javascript not detected.  It may not be installed or enabled properly.\n"
     ]
    },
    {
     "data": {
      "application/vnd.jupyter.widget-view+json": {
       "model_id": "3b7b74c354c044c8a064b53adb69332f"
      }
     },
     "metadata": {},
     "output_type": "display_data"
    },
    {
     "name": "stdout",
     "output_type": "stream",
     "text": [
      "\n"
     ]
    },
    {
     "name": "stderr",
     "output_type": "stream",
     "text": [
      "Widget Javascript not detected.  It may not be installed or enabled properly.\n"
     ]
    },
    {
     "data": {
      "application/vnd.jupyter.widget-view+json": {
       "model_id": "d5050853ca9d403284b3a3b3867b9aeb"
      }
     },
     "metadata": {},
     "output_type": "display_data"
    },
    {
     "name": "stdout",
     "output_type": "stream",
     "text": [
      "\n"
     ]
    }
   ],
   "source": [
    "data_dict = torch.load('model17_post9_3_64_lr_001/epoch-111-969.tar')\n",
    "model = data_dict['model']\n",
    "#generate_predictions_csv(data_dict['model'], 'out-log-softmax-969-p2.csv')\n",
    "\n",
    "## transform the entire test set\n",
    "\n",
    "def generate_test(model, data):\n",
    "    X = []\n",
    "    y = []\n",
    "    for b in tqdm_notebook(data):\n",
    "        hidden, inp, labels = prepare_input(data[b])\n",
    "        hidden, inp, posts, drugs, dxs, labels = torchify_batch(hidden, inp, labels)\n",
    "        out = model(hidden.cuda(), inp.cuda(), posts.cuda(), drugs.cuda(), dxs.cuda()).data.cpu()\n",
    "        #out = mlp(out).cpu().numpy()\n",
    "        X.extend(list(out.numpy()))\n",
    "        y.extend(labels.data.numpy())\n",
    "    return np.array(X), np.array(y)\n",
    "train_X, train_y = generate_test(model, train_pt_by_len)\n",
    "test_X, test_y = generate_test(model, test_pt_by_len)\n",
    "pred_X, pred_id = generate_test(model, pred_by_len)\n",
    "\n",
    "\n",
    "np.save('ensemble/model17-train_X.npy', train_X)\n",
    "np.save('ensemble/model17-train_y.npy', train_y)\n",
    "np.save('ensemble/model17-test_X.npy', test_X)\n",
    "np.save('ensemble/model17-test_y.npy', test_y)\n",
    "np.save('ensemble/model17-pred_X.npy', pred_X)\n",
    "np.save('ensemble/model17-pred_id.npy', pred_id)"
   ]
  },
  {
   "cell_type": "code",
   "execution_count": 12,
   "metadata": {},
   "outputs": [
    {
     "data": {
      "text/plain": [
       "(0.13635500579952992, 0.96903505330176443)"
      ]
     },
     "execution_count": 12,
     "metadata": {},
     "output_type": "execute_result"
    }
   ],
   "source": [
    "validate_all(data_dict['model'])"
   ]
  },
  {
   "cell_type": "code",
   "execution_count": 71,
   "metadata": {},
   "outputs": [
    {
     "name": "stdout",
     "output_type": "stream",
     "text": [
      "0.958957016353 0.00762216388464\n",
      "CPU times: user 19.3 s, sys: 565 ms, total: 19.8 s\n",
      "Wall time: 19.8 s\n"
     ]
    }
   ],
   "source": [
    "%%time\n",
    "aucs = np.array([validate(model)[1] for x in range(10)])\n",
    "print np.mean(aucs), np.std(aucs)\n"
   ]
  },
  {
   "cell_type": "code",
   "execution_count": 8,
   "metadata": {},
   "outputs": [
    {
     "data": {
      "application/vnd.jupyter.widget-view+json": {
       "model_id": "675a4a6db4144171afff339511f2e45d"
      }
     },
     "metadata": {},
     "output_type": "display_data"
    },
    {
     "name": "stdout",
     "output_type": "stream",
     "text": [
      "\n"
     ]
    },
    {
     "data": {
      "application/vnd.jupyter.widget-view+json": {
       "model_id": "b4ea85c000c240858a600c243e0265b4"
      }
     },
     "metadata": {},
     "output_type": "display_data"
    },
    {
     "name": "stdout",
     "output_type": "stream",
     "text": [
      "\n"
     ]
    }
   ],
   "source": [
    "data_dict = torch.load('model14_post9_4_64_lr_0001/epoch-83-968.tar')\n",
    "generate_predictions_csv(data_dict['model'], 'out-log-softmax-972-hope.csv')\n",
    "data_dict = torch.load('model14_post9_4_64_lr_0001/epoch-68-969.tar')\n",
    "generate_predictions_csv(data_dict['model'], 'out-log-softmax-969.csv')"
   ]
  },
  {
   "cell_type": "markdown",
   "metadata": {},
   "source": [
    "## Exploring where the mistakes are coming from"
   ]
  },
  {
   "cell_type": "code",
   "execution_count": 43,
   "metadata": {
    "collapsed": true
   },
   "outputs": [],
   "source": [
    "all_true = np.zeros((test_total))\n",
    "all_pred = np.zeros((test_total))\n",
    "\n",
    "bad_answers = []\n",
    "\n",
    "total_test_loss = 0\n",
    "i = 0\n",
    "for b in test_pt_by_len:\n",
    "    hidden, inp, target = prepare_input(np.array(test_pt_by_len[b]))\n",
    "    target2 = target[:]\n",
    "    hidden2 = hidden[:]\n",
    "    inp2 = inp[:]\n",
    "    hidden, inp, posts, drugs, dxs, target = torchify_batch(hidden, inp, target)\n",
    "    out = model(hidden.cuda(), inp.cuda(), posts.cuda(), drugs.cuda(), dxs.cuda())\n",
    "\n",
    "    target.cuda()\n",
    "\n",
    "    loss = criterion(out, target.cuda())\n",
    "    out_np = out.data.cpu().numpy()\n",
    "    for j in xrange(target2.shape[0]):\n",
    "        all_true[i] = int(target2[j])\n",
    "        all_pred[i] = out_np[j][1]\n",
    "        if abs(all_true[i] - all_pred[i]) > 0.99:\n",
    "            bad_answers.append((target2[j], hidden2[j], inp2[j]))\n",
    "        i += 1\n",
    "    total_test_loss += loss.data.cpu().numpy()[0]\n",
    "test_loss = total_test_loss/288\n",
    "test_auc = roc_auc_score(all_true, all_pred)"
   ]
  },
  {
   "cell_type": "code",
   "execution_count": 60,
   "metadata": {},
   "outputs": [
    {
     "name": "stdout",
     "output_type": "stream",
     "text": [
      "802\n"
     ]
    }
   ],
   "source": [
    "uros = 0\n",
    "for target, hidden, transaction in bad_answers:\n",
    "    uros += (np.sum(transaction[:, 4] == 11) > 0)\n",
    "print uros"
   ]
  },
  {
   "cell_type": "code",
   "execution_count": 62,
   "metadata": {},
   "outputs": [
    {
     "data": {
      "text/plain": [
       "7180.51899610243"
      ]
     },
     "execution_count": 62,
     "metadata": {},
     "output_type": "execute_result"
    }
   ],
   "source": [
    "802.0 / test_total * total"
   ]
  },
  {
   "cell_type": "code",
   "execution_count": 13,
   "metadata": {
    "collapsed": true
   },
   "outputs": [],
   "source": [
    "error = all_true - all_pred"
   ]
  },
  {
   "cell_type": "code",
   "execution_count": 31,
   "metadata": {},
   "outputs": [
    {
     "data": {
      "text/plain": [
       "<matplotlib.axes._subplots.AxesSubplot at 0x7fc4b7289910>"
      ]
     },
     "execution_count": 31,
     "metadata": {},
     "output_type": "execute_result"
    },
    {
     "data": {
      "image/png": "[encoded data removed]",
      "text/plain": [
       "<matplotlib.figure.Figure at 0x7fc4b6efab50>"
      ]
     },
     "metadata": {},
     "output_type": "display_data"
    }
   ],
   "source": [
    "sns.distplot(all_pred)"
   ]
  },
  {
   "cell_type": "code",
   "execution_count": 18,
   "metadata": {},
   "outputs": [
    {
     "data": {
      "image/png": "[encoded data removed]",
      "text/plain": [
       "<matplotlib.figure.Figure at 0x7fc4b6e94c50>"
      ]
     },
     "metadata": {},
     "output_type": "display_data"
    },
    {
     "data": {
      "text/plain": [
       "<matplotlib.axes._subplots.AxesSubplot at 0x7fc4b6b3bed0>"
      ]
     },
     "execution_count": 18,
     "metadata": {},
     "output_type": "execute_result"
    },
    {
     "data": {
      "image/png": "[encoded data removed]",
      "text/plain": [
       "<matplotlib.figure.Figure at 0x7fc4b6fbbf90>"
      ]
     },
     "metadata": {},
     "output_type": "display_data"
    }
   ],
   "source": [
    "%matplotlib inline\n",
    "import seaborn as sns\n",
    "import matplotlib.pyplot as plt\n",
    "\n",
    "sns.distplot(error)\n",
    "plt.show()\n",
    "sns.distplot(np.abs(error))"
   ]
  },
  {
   "cell_type": "code",
   "execution_count": 34,
   "metadata": {},
   "outputs": [
    {
     "name": "stdout",
     "output_type": "stream",
     "text": [
      "1354\n",
      "861\n",
      "0.0313626926019\n"
     ]
    }
   ],
   "source": [
    "print np.sum(np.abs(error) > 0.01) 1354\n",
    "print np.sum(np.abs(error) > 0.99) 864\n",
    "print 861.0/test_total"
   ]
  },
  {
   "cell_type": "code",
   "execution_count": null,
   "metadata": {
    "collapsed": true
   },
   "outputs": [],
   "source": [
    "np.abs(error) > 0.99"
   ]
  },
  {
   "cell_type": "code",
   "execution_count": 35,
   "metadata": {},
   "outputs": [
    {
     "data": {
      "text/plain": [
       "27453"
      ]
     },
     "execution_count": 35,
     "metadata": {},
     "output_type": "execute_result"
    }
   ],
   "source": [
    "test_total"
   ]
  },
  {
   "cell_type": "code",
   "execution_count": 73,
   "metadata": {},
   "outputs": [
    {
     "data": {
      "application/vnd.jupyter.widget-view+json": {
       "model_id": "a6753d0390b74d0b83fd08014f1cf555"
      }
     },
     "metadata": {},
     "output_type": "display_data"
    },
    {
     "name": "stdout",
     "output_type": "stream",
     "text": [
      "\n"
     ]
    }
   ],
   "source": [
    "generate_predictions_csv(model, 'out1.csv')"
   ]
  },
  {
   "cell_type": "code",
   "execution_count": null,
   "metadata": {},
   "outputs": [
    {
     "name": "stdout",
     "output_type": "stream",
     "text": [
      "---Epoch 8---\n"
     ]
    },
    {
     "data": {
      "application/vnd.jupyter.widget-view+json": {
       "model_id": "a46f5c5933874bc7b1af983bb6de46b4"
      }
     },
     "metadata": {},
     "output_type": "display_data"
    }
   ],
   "source": [
    "train('model_post1.1_3_32_lr_001.tar', epochs=10, **torch.load('model_post1_3_32_lr_001.tar'))"
   ]
  },
  {
   "cell_type": "code",
   "execution_count": 80,
   "metadata": {},
   "outputs": [
    {
     "data": {
      "text/plain": [
       "{'criterion': CrossEntropyLoss (\n",
       " ), 'cur_epoch': 4, 'model': Model1 (\n",
       "   (drug_embedding): Embedding(2870, 30)\n",
       "   (dx_embedding): Embedding(12, 5)\n",
       "   (gru1): GRU(39, 32, num_layers=3, batch_first=True)\n",
       "   (dense1): Linear (32 -> 2)\n",
       "   (softmax): Softmax ()\n",
       " ), 'optimizer': <torch.optim.adam.Adam at 0x7f23016a2350>, 'test_aucs': [0.9497745120551091,\n",
       "  0.95737772101378837,\n",
       "  0.96352282510260245,\n",
       "  0.97322535701846047], 'test_losses': [0.35393751389666983,\n",
       "  0.35761409787089349,\n",
       "  0.35281944691292533,\n",
       "  0.34829183176775053], 'train_losses': [0.37126914617345386,\n",
       "  0.33828777079089706,\n",
       "  0.33836713117440947,\n",
       "  0.39558140579214862]}"
      ]
     },
     "execution_count": 80,
     "metadata": {},
     "output_type": "execute_result"
    }
   ],
   "source": [
    "torch.load('model_3_32_lr_001.tar')"
   ]
  },
  {
   "cell_type": "code",
   "execution_count": 12,
   "metadata": {},
   "outputs": [
    {
     "name": "stderr",
     "output_type": "stream",
     "text": [
      "Widget Javascript not detected.  It may not be installed or enabled properly.\n"
     ]
    },
    {
     "data": {
      "application/vnd.jupyter.widget-view+json": {
       "model_id": "47bc7c8a91274a079942b00ee753648a"
      }
     },
     "metadata": {},
     "output_type": "display_data"
    },
    {
     "name": "stdout",
     "output_type": "stream",
     "text": [
      "\n"
     ]
    },
    {
     "data": {
      "text/plain": [
       "(0.35821641802842302, 0.94314307203172887)"
      ]
     },
     "execution_count": 12,
     "metadata": {},
     "output_type": "execute_result"
    }
   ],
   "source": [
    "def validate_all(model):\n",
    "    all_true = np.zeros((test_total, 2))\n",
    "    all_pred = np.zeros((test_total, 2))\n",
    "    total_test_loss = 0\n",
    "    i = 0\n",
    "    for b in tqdm_notebook(test_pt_by_len):\n",
    "        hidden, inp, target = prepare_input(np.array(test_pt_by_len[b]))\n",
    "        target2 = target[:]\n",
    "        hidden, inp, posts, drugs, dxs, target = torchify_batch(hidden, inp, target)\n",
    "        out = model(hidden.cuda(), inp.cuda(), posts.cuda(), drugs.cuda(), dxs.cuda())\n",
    "\n",
    "        target.cuda()\n",
    "\n",
    "        loss = criterion(out, target.cuda())\n",
    "        out_np = out.data.cpu().numpy()\n",
    "        for j in xrange(target2.shape[0]):\n",
    "            all_true[i, int(target2[j])] = 1\n",
    "            all_pred[i] = out_np[j]\n",
    "            i += 1\n",
    "        total_test_loss += loss.data.cpu().numpy()[0]\n",
    "    test_loss = total_test_loss/288\n",
    "    test_auc = roc_auc_score(all_true, all_pred)\n",
    "    return test_loss, test_auc\n",
    "\n",
    "validate_all(model)"
   ]
  },
  {
   "cell_type": "code",
   "execution_count": 7,
   "metadata": {},
   "outputs": [
    {
     "data": {
      "text/plain": [
       "27453"
      ]
     },
     "execution_count": 7,
     "metadata": {},
     "output_type": "execute_result"
    }
   ],
   "source": [
    "test_total"
   ]
  },
  {
   "cell_type": "code",
   "execution_count": null,
   "metadata": {
    "collapsed": true
   },
   "outputs": [],
   "source": []
  },
  {
   "cell_type": "code",
   "execution_count": null,
   "metadata": {
    "collapsed": true
   },
   "outputs": [],
   "source": []
  },
  {
   "cell_type": "code",
   "execution_count": null,
   "metadata": {
    "collapsed": true
   },
   "outputs": [],
   "source": []
  }
 ],
 "metadata": {
  "kernelspec": {
   "display_name": "Python 2",
   "language": "python",
   "name": "python2"
  },
  "language_info": {
   "codemirror_mode": {
    "name": "ipython",
    "version": 2
   },
   "file_extension": ".py",
   "mimetype": "text/x-python",
   "name": "python",
   "nbconvert_exporter": "python",
   "pygments_lexer": "ipython2",
   "version": "2.7.6"
  }
 },
 "nbformat": 4,
 "nbformat_minor": 2
}
