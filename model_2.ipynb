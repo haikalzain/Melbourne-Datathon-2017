{
 "cells": [
  {
   "cell_type": "markdown",
   "metadata": {},
   "source": [
    "## Plan\n",
    "1. Rewrite in keras - we already bucketing sequences\n",
    "2. Use an embedding layer to get drug code vectors.\n",
    "3. Get drug code tree thingy.\n",
    "4. Use rolling diagnosis to improve model"
   ]
  },
  {
   "cell_type": "code",
   "execution_count": 1,
   "metadata": {
    "collapsed": true
   },
   "outputs": [],
   "source": [
    "#%%time\n",
    "#lets use the drug code\n",
    "import marshal, gzip\n",
    "pt_by_len = marshal.load(open('train_comprehensive_ptbylen.m', 'rb'))\n",
    "pred_by_len = marshal.load(open('pred_comprehensive_pts.m', 'rb'))\n",
    "\n",
    "def get_maxes():\n",
    "    hidden_max = [-1000.0] * 5\n",
    "    input_max = [-1000.0] * 12\n",
    "    for b in pt_by_len:\n",
    "        for hidden, inp, label in pt_by_len[b]:\n",
    "            for i, v in enumerate(hidden):\n",
    "                hidden_max[i] = max(hidden_max[i], v)\n",
    "            for inp_i in inp:\n",
    "                for i, v in enumerate(inp_i):\n",
    "                    input_max[i] = max(input_max[i], v)\n",
    "    print hidden_max\n",
    "    print input_max\n",
    "hidden_max = [1.0, 1.0, 1.0, 1.0, 2526]\n",
    "input_max = [0.997, 1.0, 4039, 6880.7, 1041874.5, 11682.85, 1, 6, 60258, 3182, 2869, 12] #must add 1!!!\n"
   ]
  },
  {
   "cell_type": "code",
   "execution_count": 2,
   "metadata": {},
   "outputs": [
    {
     "name": "stdout",
     "output_type": "stream",
     "text": [
      "245794 27453\n"
     ]
    }
   ],
   "source": [
    "import random\n",
    "from sklearn.model_selection import train_test_split\n",
    "import numpy as np\n",
    "\n",
    "random.seed(42)\n",
    "np.random.seed(42)\n",
    "\n",
    "def shuffle(length_arr):\n",
    "    train_pt_by_len = {}\n",
    "    test_pt_by_len = {}\n",
    "    for length in length_arr:\n",
    "        if len(length_arr[length]) >= 50:\n",
    "            train_pt_by_len[length], test_pt_by_len[length] = train_test_split(pt_by_len[length], test_size=0.1, random_state=42)\n",
    "    \n",
    "    return train_pt_by_len, test_pt_by_len\n",
    "\n",
    "train_pt_by_len, test_pt_by_len = shuffle(pt_by_len)\n",
    "bucketlengths = {}\n",
    "total = 0\n",
    "for b in train_pt_by_len:\n",
    "    bucketlengths[len(train_pt_by_len[b][0][1])] = len(train_pt_by_len[b])\n",
    "    total += len(train_pt_by_len[b])  \n",
    "\n",
    "def prepare_input(batch):\n",
    "    batch = zip(*batch)\n",
    "    \n",
    "    hidden = np.array(batch[0])\n",
    "    hidden = np.delete(hidden, (1,2,4),1) # something sex sex age code\n",
    "    hidden[:,1][hidden[:,1] == 1.0] = 0.5577 \n",
    "    \n",
    "    inp = np.array([l[1:] for l in batch[1]])\n",
    "    inp = np.delete(inp ,range(2,9), 2) # now with post code\n",
    "    \n",
    "    \n",
    "    labels = np.array(batch[2])\n",
    "    return hidden, inp, labels\n",
    "    \n",
    "\n",
    "def random_batch(batch_size=1):\n",
    "    chunk_len = np.random.choice(bucketlengths.keys(), 1, p=np.array(bucketlengths.values())/float(sum(bucketlengths.values())))[0]\n",
    "    bucket = np.array(train_pt_by_len[chunk_len])    \n",
    "    hidden, inp, labels = prepare_input(bucket[np.random.choice(bucket.shape[0], batch_size)])\n",
    "    \n",
    "    return hidden, inp, labels\n",
    "\n",
    "test_bucketlengths = {}\n",
    "test_total = 0\n",
    "for b in test_pt_by_len:\n",
    "    test_bucketlengths[len(test_pt_by_len[b][0][1])] = len(test_pt_by_len[b])\n",
    "    test_total += len(test_pt_by_len[b])\n",
    "\n",
    "def random_test_batch(batch_size=1):\n",
    "    chunk_len = np.random.choice(test_bucketlengths.keys(), 1, p=np.array(test_bucketlengths.values())/float(sum(test_bucketlengths.values())))[0]\n",
    "    bucket = np.array(test_pt_by_len[chunk_len])    \n",
    "    hidden, inp, labels = prepare_input(bucket[np.random.choice(bucket.shape[0], batch_size)])\n",
    "    \n",
    "    return hidden, inp, labels\n",
    "\n",
    "print total, test_total"
   ]
  },
  {
   "cell_type": "code",
   "execution_count": 12,
   "metadata": {
    "collapsed": true
   },
   "outputs": [],
   "source": [
    "import torch\n",
    "import torch.nn as nn\n",
    "import torch.nn.functional as F\n",
    "from torch.autograd import Variable\n",
    "from tqdm import tqdm, tqdm_notebook\n",
    "import numpy as np\n",
    "from sklearn.metrics import roc_auc_score\n",
    "import os\n",
    "\n",
    "def torchify_batch(hidden, inp, target=None):\n",
    "    drugs = inp[:, :, -2]\n",
    "    dxs = inp[:, :, -1]\n",
    "    posts = inp[:,:,-3]\n",
    "    inp = inp[:, :, :-3]\n",
    "    hidden = np.repeat(hidden[:,np.newaxis, :], repeats=inp.shape[1], axis=1)\n",
    "    \n",
    "    inp = Variable(torch.from_numpy(inp), requires_grad=False)\n",
    "    posts = Variable(torch.from_numpy(posts), requires_grad=False).long()\n",
    "    drugs = Variable(torch.from_numpy(drugs), requires_grad=False).long()\n",
    "    dxs = Variable(torch.from_numpy(dxs), requires_grad=False).long()\n",
    "    hidden = Variable(torch.from_numpy(hidden), requires_grad=False)\n",
    "    if target is not None:\n",
    "        target = Variable(torch.from_numpy(target), requires_grad=False).long()\n",
    "    \n",
    "    return hidden, inp, posts, drugs, dxs, target\n",
    "\n",
    "def train(chkpoint, epochs, model, criterion, optimizer, train_losses, test_losses, test_aucs, cur_epoch=0, **kwargs):\n",
    "    total = 245794\n",
    "    for epoch in xrange(cur_epoch+1, epochs+1):\n",
    "        print('---Epoch {}---'.format(epoch))\n",
    "        num_cycles = total / 40\n",
    "        num_cycles /= 2\n",
    "        for cycle in tqdm_notebook(xrange(num_cycles)):\n",
    "            hidden, inp, target = random_batch(10)\n",
    "            hidden, inp, posts, drugs, dxs, target = torchify_batch(hidden, inp, target)\n",
    "            target.cuda()\n",
    "            optimizer.zero_grad()\n",
    "            out = model(hidden.cuda(), inp.cuda(), posts.cuda(), drugs.cuda(), dxs.cuda())\n",
    "            loss = criterion(out, target.cuda())\n",
    "            loss.backward()\n",
    "            optimizer.step()\n",
    "        loss_var = loss.data.cpu().numpy()[0]\n",
    "\n",
    "        total_test_auc = 0\n",
    "        total_test_loss = 0\n",
    "\n",
    "        \n",
    "        batch_aucs = []\n",
    "        bootstrap = [validate(model) for _ in range(10)]\n",
    "        aucs = np.array([x[1] for x in bootstrap])\n",
    "        tests = np.array([x[0] for x in bootstrap])\n",
    "        all_test_loss, all_test_auc = validate_all(model)\n",
    "\n",
    "        #test_loss = total_test_loss/100.0\n",
    "        test_loss, test_loss_std = np.mean(tests), np.std(tests)\n",
    "        test_auc, test_auc_std = np.mean(aucs), np.std(aucs)\n",
    "\n",
    "        train_losses.append(loss_var)\n",
    "        test_losses.append(all_test_loss)\n",
    "        test_aucs.append(all_test_auc)\n",
    "        \n",
    "        if not os.path.exists(chkpoint[:-4]):\n",
    "            os.mkdir(chkpoint[:-4])\n",
    "\n",
    "        torch.save({\n",
    "                'cur_epoch': epoch,\n",
    "                'train_losses': train_losses,\n",
    "                'test_losses': test_losses,\n",
    "                'model': model,\n",
    "                'criterion': criterion,\n",
    "                'optimizer': optimizer,\n",
    "                'test_aucs': test_aucs,\n",
    "            }, '{}/epoch-{}-{}.tar'.format(chkpoint[:-4], epoch, int(all_test_auc * 1000)))\n",
    "        \n",
    "        \n",
    "\n",
    "        print('Train Loss: {}'.format(loss_var)) # pass arguments to affect saving / resume behaviour\n",
    "        print('Test Loss: {} Std: {}'.format(test_loss, test_loss_std))\n",
    "        print('Test AUC: {} Std: {}'.format(test_auc, test_auc_std))\n",
    "        print('All Test Loss: {} AUC: {}'.format(all_test_loss, all_test_auc))\n",
    "        \n",
    "\n",
    "def validate_all(model):\n",
    "    all_true = np.zeros((test_total, 2))\n",
    "    all_pred = np.zeros((test_total, 2))\n",
    "    total_test_loss = 0\n",
    "    i = 0\n",
    "    for b in test_pt_by_len:\n",
    "        hidden, inp, target = prepare_input(np.array(test_pt_by_len[b]))\n",
    "        target2 = target[:]\n",
    "        hidden, inp, posts, drugs, dxs, target = torchify_batch(hidden, inp, target)\n",
    "        out = model(hidden.cuda(), inp.cuda(), posts.cuda(), drugs.cuda(), dxs.cuda())\n",
    "\n",
    "        target.cuda()\n",
    "\n",
    "        loss = criterion(out, target.cuda())\n",
    "        out_np = out.data.cpu().numpy()\n",
    "        for j in xrange(target2.shape[0]):\n",
    "            all_true[i, int(target2[j])] = 1\n",
    "            all_pred[i] = out_np[j]\n",
    "            i += 1\n",
    "        total_test_loss += loss.data.cpu().numpy()[0]\n",
    "    test_loss = total_test_loss/288\n",
    "    test_auc = roc_auc_score(all_true, all_pred)\n",
    "    return test_loss, test_auc\n",
    "\n",
    "def validate(model):\n",
    "    total_test_loss = 0\n",
    "    all_true = np.zeros((4000, 2))\n",
    "    all_pred = np.zeros((4000, 2))\n",
    "    for i in xrange(100):\n",
    "        hidden, inp, target = random_test_batch(40)\n",
    "        target2 = target[:]\n",
    "        hidden, inp, posts, drugs, dxs, target = torchify_batch(hidden, inp, target)\n",
    "        out = model(hidden.cuda(), inp.cuda(), posts.cuda(), drugs.cuda(), dxs.cuda())\n",
    "\n",
    "        target.cuda()\n",
    "\n",
    "        loss = criterion(out, target.cuda())\n",
    "        out_np = out.data.cpu().numpy()\n",
    "        for j in xrange(40):\n",
    "            all_true[i*40 + j, int(target2[j])] = 1\n",
    "            all_pred[i*40+j] = out_np[j]\n",
    "        total_test_loss += loss.data.cpu().numpy()[0]\n",
    "\n",
    "    test_loss = total_test_loss/100.0\n",
    "    test_auc = roc_auc_score(all_true, all_pred)\n",
    "    return test_loss, test_auc\n",
    "    \n",
    "\n",
    "def generate_predictions_csv(model, filename):\n",
    "    predictions = []\n",
    "    for b in tqdm_notebook(pred_by_len):\n",
    "        hidden, inp, pt_id = prepare_input(pred_by_len[b])\n",
    "        hidden, inp, posts, drugs, dxs, _ = torchify_batch(hidden, inp)\n",
    "        out = model(hidden.cuda(), inp.cuda(), posts.cuda(), drugs.cuda(), dxs.cuda()).data.cpu().numpy()\n",
    "        predictions.extend(zip(pt_id, out[:,1]))\n",
    "\n",
    "    predictions.sort()\n",
    "    with open(filename, 'w') as f:\n",
    "        f.write('Patient_ID,Diabetes\\n')\n",
    "        for a, b in predictions:\n",
    "            f.write('{},{}\\n'.format(a,b))"
   ]
  },
  {
   "cell_type": "code",
   "execution_count": 19,
   "metadata": {
    "scrolled": false
   },
   "outputs": [
    {
     "name": "stdout",
     "output_type": "stream",
     "text": [
      "---Epoch 1---\n"
     ]
    },
    {
     "data": {
      "application/vnd.jupyter.widget-view+json": {
       "model_id": "f67e58e30b304ce58d970f18f884d0a3"
      }
     },
     "metadata": {},
     "output_type": "display_data"
    },
    {
     "name": "stdout",
     "output_type": "stream",
     "text": [
      "\n",
      "Train Loss: 0.0689777711046\n",
      "Test Loss: 0.139143354553 Std: 0.0100965572264\n",
      "Test AUC: 0.963551502081 Std: 0.00411085046495\n",
      "All Test Loss: 0.167774187775 AUC: 0.961062705566\n",
      "---Epoch 2---\n"
     ]
    },
    {
     "data": {
      "application/vnd.jupyter.widget-view+json": {
       "model_id": "e6de04a746cd40438eb8e575566eaa21"
      }
     },
     "metadata": {},
     "output_type": "display_data"
    },
    {
     "name": "stdout",
     "output_type": "stream",
     "text": [
      "\n",
      "Train Loss: 0.0788653737222\n",
      "Test Loss: 0.135229578957 Std: 0.0114813951585\n",
      "Test AUC: 0.959760324745 Std: 0.00360535543833\n",
      "All Test Loss: 0.15842264203 AUC: 0.962341806405\n",
      "---Epoch 3---\n"
     ]
    },
    {
     "data": {
      "application/vnd.jupyter.widget-view+json": {
       "model_id": "e9725f32c27e4a0b8747bcb985c39bef"
      }
     },
     "metadata": {},
     "output_type": "display_data"
    },
    {
     "name": "stdout",
     "output_type": "stream",
     "text": [
      "\n",
      "Train Loss: 0.232331981637\n",
      "Test Loss: 0.132471837236 Std: 0.0123586937796\n",
      "Test AUC: 0.963591195841 Std: 0.00379349473943\n",
      "All Test Loss: 0.147105437304 AUC: 0.964149151214\n",
      "---Epoch 4---\n"
     ]
    },
    {
     "data": {
      "application/vnd.jupyter.widget-view+json": {
       "model_id": "effc175fa3e4402285f2277e28e4b1b6"
      }
     },
     "metadata": {},
     "output_type": "display_data"
    },
    {
     "name": "stdout",
     "output_type": "stream",
     "text": [
      "\n",
      "Train Loss: 0.307106588809\n",
      "Test Loss: 0.132943574897 Std: 0.00917150965587\n",
      "Test AUC: 0.962268985592 Std: 0.00271662173597\n",
      "All Test Loss: 0.150821224703 AUC: 0.962897529925\n",
      "---Epoch 5---\n"
     ]
    },
    {
     "data": {
      "application/vnd.jupyter.widget-view+json": {
       "model_id": "3a7a0a2474e14481949a8a8e17a9c097"
      }
     },
     "metadata": {},
     "output_type": "display_data"
    },
    {
     "name": "stdout",
     "output_type": "stream",
     "text": [
      "\n",
      "Train Loss: 0.0131785634836\n",
      "Test Loss: 0.137195608801 Std: 0.0168099488957\n",
      "Test AUC: 0.961451786595 Std: 0.00570088104755\n",
      "All Test Loss: 0.150031045913 AUC: 0.963711709989\n",
      "---Epoch 6---\n"
     ]
    },
    {
     "data": {
      "application/vnd.jupyter.widget-view+json": {
       "model_id": "10d028a4cf85487dba9e4ef102334e78"
      }
     },
     "metadata": {},
     "output_type": "display_data"
    },
    {
     "name": "stdout",
     "output_type": "stream",
     "text": [
      "\n",
      "Train Loss: 0.356706176602\n",
      "Test Loss: 0.130280184755 Std: 0.0107837494641\n",
      "Test AUC: 0.96265178552 Std: 0.00234362607094\n",
      "All Test Loss: 0.145402238672 AUC: 0.962972702972\n",
      "---Epoch 7---\n"
     ]
    },
    {
     "data": {
      "application/vnd.jupyter.widget-view+json": {
       "model_id": "37ef04707d0744b7b2e7f386142466f3"
      }
     },
     "metadata": {},
     "output_type": "display_data"
    },
    {
     "name": "stdout",
     "output_type": "stream",
     "text": [
      "\n",
      "Train Loss: 0.174981439217\n",
      "Test Loss: 0.131265032437 Std: 0.0108829549045\n",
      "Test AUC: 0.965891805225 Std: 0.00457307027515\n",
      "All Test Loss: 0.144663551556 AUC: 0.964215077916\n",
      "---Epoch 8---\n"
     ]
    },
    {
     "data": {
      "application/vnd.jupyter.widget-view+json": {
       "model_id": "8890782fdb0d4365857486de8cedc96b"
      }
     },
     "metadata": {},
     "output_type": "display_data"
    },
    {
     "name": "stdout",
     "output_type": "stream",
     "text": [
      "\n",
      "Train Loss: 0.042237726291\n",
      "Test Loss: 0.132956330639 Std: 0.0103623905177\n",
      "Test AUC: 0.963261224938 Std: 0.00657248280708\n",
      "All Test Loss: 0.14756344431 AUC: 0.964463258821\n",
      "---Epoch 9---\n"
     ]
    },
    {
     "data": {
      "application/vnd.jupyter.widget-view+json": {
       "model_id": "0de7bec099b140358dff64e33f489b40"
      }
     },
     "metadata": {},
     "output_type": "display_data"
    },
    {
     "name": "stdout",
     "output_type": "stream",
     "text": [
      "\n",
      "Train Loss: 0.400223799847\n",
      "Test Loss: 0.136650925481 Std: 0.00954361592616\n",
      "Test AUC: 0.964088176401 Std: 0.00409950821714\n",
      "All Test Loss: 0.154372589353 AUC: 0.965001423799\n",
      "---Epoch 10---\n"
     ]
    },
    {
     "data": {
      "application/vnd.jupyter.widget-view+json": {
       "model_id": "6f90fc951d9647ea94540cdde4a4102a"
      }
     },
     "metadata": {},
     "output_type": "display_data"
    },
    {
     "name": "stdout",
     "output_type": "stream",
     "text": [
      "\n",
      "Train Loss: 0.0268753791597\n",
      "Test Loss: 0.129271417738 Std: 0.00926633843804\n",
      "Test AUC: 0.966423301161 Std: 0.00362448466319\n",
      "All Test Loss: 0.151078762804 AUC: 0.965391041784\n",
      "---Epoch 11---\n"
     ]
    },
    {
     "data": {
      "application/vnd.jupyter.widget-view+json": {
       "model_id": "1dea6b572d054b9a8d6ca5fed8297307"
      }
     },
     "metadata": {},
     "output_type": "display_data"
    },
    {
     "name": "stdout",
     "output_type": "stream",
     "text": [
      "\n",
      "Train Loss: 0.0133227636567\n",
      "Test Loss: 0.127533586732 Std: 0.00964351603864\n",
      "Test AUC: 0.965976855719 Std: 0.00788742843195\n",
      "All Test Loss: 0.143984634414 AUC: 0.964943281672\n",
      "---Epoch 12---\n"
     ]
    },
    {
     "data": {
      "application/vnd.jupyter.widget-view+json": {
       "model_id": "0319498b21414202baf03e9ac82b4bba"
      }
     },
     "metadata": {},
     "output_type": "display_data"
    },
    {
     "name": "stdout",
     "output_type": "stream",
     "text": [
      "\n",
      "Train Loss: 0.0483414125284\n",
      "Test Loss: 0.131551325353 Std: 0.00990921531043\n",
      "Test AUC: 0.964185270673 Std: 0.00507626442437\n",
      "All Test Loss: 0.148636198295 AUC: 0.964044959001\n",
      "---Epoch 13---\n"
     ]
    },
    {
     "data": {
      "application/vnd.jupyter.widget-view+json": {
       "model_id": "5f722b99875b4061b22e3e79bd943ff8"
      }
     },
     "metadata": {},
     "output_type": "display_data"
    },
    {
     "name": "stdout",
     "output_type": "stream",
     "text": [
      "\n",
      "Train Loss: 0.0160181601099\n",
      "Test Loss: 0.123382012344 Std: 0.00607747293897\n",
      "Test AUC: 0.96762575206 Std: 0.00541198568466\n",
      "All Test Loss: 0.143046793066 AUC: 0.964936560989\n",
      "---Epoch 14---\n"
     ]
    },
    {
     "data": {
      "application/vnd.jupyter.widget-view+json": {
       "model_id": "ad7463b0beb945bfbd66871be9820569"
      }
     },
     "metadata": {},
     "output_type": "display_data"
    },
    {
     "name": "stdout",
     "output_type": "stream",
     "text": [
      "\n",
      "Train Loss: 0.0208986357823\n",
      "Test Loss: 0.132625480774 Std: 0.00601775807189\n",
      "Test AUC: 0.963950913665 Std: 0.00285713297838\n",
      "All Test Loss: 0.145064098306 AUC: 0.964623621068\n",
      "---Epoch 15---\n"
     ]
    },
    {
     "data": {
      "application/vnd.jupyter.widget-view+json": {
       "model_id": "5c5bfc184bd140b28e96bd2cc010eb29"
      }
     },
     "metadata": {},
     "output_type": "display_data"
    },
    {
     "name": "stdout",
     "output_type": "stream",
     "text": [
      "\n",
      "Train Loss: 0.05114747609\n",
      "Test Loss: 0.136046804668 Std: 0.00477787378534\n",
      "Test AUC: 0.963610202317 Std: 0.00409010133339\n",
      "All Test Loss: 0.149416251212 AUC: 0.96356913982\n",
      "---Epoch 16---\n"
     ]
    },
    {
     "data": {
      "application/vnd.jupyter.widget-view+json": {
       "model_id": "9c157da50f2d4d058b950866233d501b"
      }
     },
     "metadata": {},
     "output_type": "display_data"
    },
    {
     "name": "stdout",
     "output_type": "stream",
     "text": [
      "\n",
      "Train Loss: 0.0315445257035\n",
      "Test Loss: 0.134983104573 Std: 0.00919887224629\n",
      "Test AUC: 0.963781012353 Std: 0.0054128119344\n",
      "All Test Loss: 0.141361447271 AUC: 0.965269291029\n",
      "---Epoch 17---\n"
     ]
    },
    {
     "data": {
      "application/vnd.jupyter.widget-view+json": {
       "model_id": "4b16da3224cc4ffdb6be26e01d9d3b2d"
      }
     },
     "metadata": {},
     "output_type": "display_data"
    },
    {
     "name": "stdout",
     "output_type": "stream",
     "text": [
      "\n",
      "Train Loss: 0.0606381414075\n",
      "Test Loss: 0.13467658848 Std: 0.0100782273236\n",
      "Test AUC: 0.963228458696 Std: 0.00464396728626\n",
      "All Test Loss: 0.144167746754 AUC: 0.965037976704\n",
      "---Epoch 18---\n"
     ]
    },
    {
     "data": {
      "application/vnd.jupyter.widget-view+json": {
       "model_id": "2752a47f0e8549c3897485ec2f92e515"
      }
     },
     "metadata": {},
     "output_type": "display_data"
    },
    {
     "name": "stdout",
     "output_type": "stream",
     "text": [
      "\n",
      "Train Loss: 0.0751298662889\n",
      "Test Loss: 0.129416860061 Std: 0.00859767846162\n",
      "Test AUC: 0.964673303566 Std: 0.00542460307611\n",
      "All Test Loss: 0.142338762399 AUC: 0.964706258658\n",
      "---Epoch 19---\n"
     ]
    },
    {
     "data": {
      "application/vnd.jupyter.widget-view+json": {
       "model_id": "13b9d6a18c99430ebac8e3e4ce834d82"
      }
     },
     "metadata": {},
     "output_type": "display_data"
    },
    {
     "name": "stdout",
     "output_type": "stream",
     "text": [
      "\n",
      "Train Loss: 0.0444802537421\n",
      "Test Loss: 0.128693611422 Std: 0.00794881198575\n",
      "Test AUC: 0.963944298396 Std: 0.00510195796603\n",
      "All Test Loss: 0.143850606239 AUC: 0.965444755353\n",
      "---Epoch 20---\n"
     ]
    },
    {
     "data": {
      "application/vnd.jupyter.widget-view+json": {
       "model_id": "8b6cee702667486d8ccc7d5fdff76385"
      }
     },
     "metadata": {},
     "output_type": "display_data"
    },
    {
     "name": "stdout",
     "output_type": "stream",
     "text": [
      "\n",
      "Train Loss: 0.0413771589847\n",
      "Test Loss: 0.129207157617 Std: 0.00732143545413\n",
      "Test AUC: 0.962734447076 Std: 0.00437819433825\n",
      "All Test Loss: 0.141247798464 AUC: 0.964632780919\n",
      "---Epoch 21---\n"
     ]
    },
    {
     "data": {
      "application/vnd.jupyter.widget-view+json": {
       "model_id": "813da4ca9d3b4752a572746d59499fe9"
      }
     },
     "metadata": {},
     "output_type": "display_data"
    },
    {
     "name": "stdout",
     "output_type": "stream",
     "text": [
      "\n",
      "Train Loss: 0.150077609837\n",
      "Test Loss: 0.135329277264 Std: 0.00795085012545\n",
      "Test AUC: 0.965435586172 Std: 0.0042216540064\n",
      "All Test Loss: 0.143989118655 AUC: 0.965006362679\n",
      "---Epoch 22---\n"
     ]
    },
    {
     "data": {
      "application/vnd.jupyter.widget-view+json": {
       "model_id": "2fb24c1ff32247c5bd7de7dc2a33b03d"
      }
     },
     "metadata": {},
     "output_type": "display_data"
    },
    {
     "name": "stdout",
     "output_type": "stream",
     "text": [
      "\n",
      "Train Loss: 0.0210437961294\n",
      "Test Loss: 0.138196394426 Std: 0.0103596805236\n",
      "Test AUC: 0.961042200398 Std: 0.00761508454872\n",
      "All Test Loss: 0.150253877972 AUC: 0.964474987581\n",
      "---Epoch 23---\n"
     ]
    },
    {
     "data": {
      "application/vnd.jupyter.widget-view+json": {
       "model_id": "ef7052cd33224a8e9ca43783429a7fc1"
      }
     },
     "metadata": {},
     "output_type": "display_data"
    },
    {
     "name": "stdout",
     "output_type": "stream",
     "text": [
      "\n",
      "Train Loss: 0.0181376788076\n",
      "Test Loss: 0.12976432642 Std: 0.00905578030446\n",
      "Test AUC: 0.96436347431 Std: 0.00571773067006\n",
      "All Test Loss: 0.140568345862 AUC: 0.964320368619\n",
      "---Epoch 24---\n"
     ]
    },
    {
     "data": {
      "application/vnd.jupyter.widget-view+json": {
       "model_id": "7187fb5dd7084f2782f8be339e2357ac"
      }
     },
     "metadata": {},
     "output_type": "display_data"
    },
    {
     "name": "stdout",
     "output_type": "stream",
     "text": [
      "\n",
      "Train Loss: 0.0345421580749\n",
      "Test Loss: 0.124515212076 Std: 0.00704158441517\n",
      "Test AUC: 0.965283942488 Std: 0.00329179655501\n",
      "All Test Loss: 0.146369029362 AUC: 0.964303951815\n",
      "---Epoch 25---\n"
     ]
    },
    {
     "data": {
      "application/vnd.jupyter.widget-view+json": {
       "model_id": "857940e5d69949cbbc6f0596fb665e11"
      }
     },
     "metadata": {},
     "output_type": "display_data"
    },
    {
     "name": "stdout",
     "output_type": "stream",
     "text": [
      "\n",
      "Train Loss: 0.013884925233\n",
      "Test Loss: 0.126668925973 Std: 0.00461887766361\n",
      "Test AUC: 0.96483580637 Std: 0.00534395017435\n",
      "All Test Loss: 0.143300143566 AUC: 0.963376826216\n",
      "---Epoch 26---\n"
     ]
    },
    {
     "data": {
      "application/vnd.jupyter.widget-view+json": {
       "model_id": "11ab9f0c9f0d4bdeb2035e47957750aa"
      }
     },
     "metadata": {},
     "output_type": "display_data"
    },
    {
     "name": "stdout",
     "output_type": "stream",
     "text": [
      "\n",
      "Train Loss: 0.0241809574303\n",
      "Test Loss: 0.12691577802 Std: 0.00952415324344\n",
      "Test AUC: 0.964207879603 Std: 0.00586829390225\n",
      "All Test Loss: 0.139356911616 AUC: 0.964905898412\n",
      "---Epoch 27---\n"
     ]
    },
    {
     "data": {
      "application/vnd.jupyter.widget-view+json": {
       "model_id": "c335b4b4755048fd93ab4d49c12b5a95"
      }
     },
     "metadata": {},
     "output_type": "display_data"
    },
    {
     "name": "stdout",
     "output_type": "stream",
     "text": [
      "\n",
      "Train Loss: 0.0340970827636\n",
      "Test Loss: 0.13356355293 Std: 0.0051496882335\n",
      "Test AUC: 0.963169394512 Std: 0.00353028433383\n",
      "All Test Loss: 0.149844353122 AUC: 0.965310886609\n",
      "---Epoch 28---\n"
     ]
    },
    {
     "data": {
      "application/vnd.jupyter.widget-view+json": {
       "model_id": "e628e61a6ffa450382deec02cd622ce6"
      }
     },
     "metadata": {},
     "output_type": "display_data"
    },
    {
     "name": "stdout",
     "output_type": "stream",
     "text": [
      "\n",
      "Train Loss: 0.456191513538\n",
      "Test Loss: 0.130933003644 Std: 0.00976572167229\n",
      "Test AUC: 0.964250145485 Std: 0.00439665144654\n",
      "All Test Loss: 0.145077831062 AUC: 0.964937261601\n",
      "---Epoch 29---\n"
     ]
    },
    {
     "data": {
      "application/vnd.jupyter.widget-view+json": {
       "model_id": "aa3c0a8923ac4c71b4dae22368514c26"
      }
     },
     "metadata": {},
     "output_type": "display_data"
    },
    {
     "name": "stdout",
     "output_type": "stream",
     "text": [
      "\n",
      "Train Loss: 0.0209050584002\n",
      "Test Loss: 0.133607565553 Std: 0.0103775912104\n",
      "Test AUC: 0.960822636136 Std: 0.00573693351248\n",
      "All Test Loss: 0.141965483561 AUC: 0.964891540196\n",
      "---Epoch 30---\n"
     ]
    },
    {
     "data": {
      "application/vnd.jupyter.widget-view+json": {
       "model_id": "52f21a0de4004636b4c86e1d7c9745cf"
      }
     },
     "metadata": {},
     "output_type": "display_data"
    },
    {
     "name": "stdout",
     "output_type": "stream",
     "text": [
      "\n",
      "Train Loss: 0.449723636691\n",
      "Test Loss: 0.132004746305 Std: 0.0106065715671\n",
      "Test AUC: 0.962522831656 Std: 0.00652181456651\n",
      "All Test Loss: 0.142600326606 AUC: 0.964612471827\n"
     ]
    }
   ],
   "source": [
    "class Model1(nn.Module):\n",
    "    def __init__(self):\n",
    "        super(Model1, self).__init__()\n",
    "        self.post_embedding = nn.Embedding(3182, 2)\n",
    "        self.drug_embedding = nn.Embedding(2870, 20)#changed from 30\n",
    "        #self.inp_embedding = nn.Embedding(2, 10)\n",
    "        self.dx_embedding = nn.Embedding(12, 7) #changed from 5 to 7\n",
    "        self.gru1 = nn.GRU(33, 64, 4, batch_first=True)\n",
    "        self.dense1 = nn.Linear(64, 2)\n",
    "        self.softmax = nn.LogSoftmax()\n",
    "    \n",
    "    def forward(self, hidden, inp, posts, drugs, dxs):\n",
    "        posts_e = self.post_embedding(posts)\n",
    "        drugs_e = self.drug_embedding(drugs)\n",
    "        dxs_e = self.dx_embedding(dxs)\n",
    "        #inp_e = self.inp_embedding(inp)\n",
    "        final_input = torch.cat((hidden, inp, posts_e, drugs_e, dxs_e),dim=2)\n",
    "    \n",
    "        h_1 = Variable(torch.zeros(4,inp.size(0), 64).double(), requires_grad=False).cuda()\n",
    "        output, h_2 = self.gru1(final_input, h_1)\n",
    "\n",
    "        x = self.dense1(h_2[-1])\n",
    "        x = self.softmax(x)\n",
    "        \n",
    "        return x\n",
    "\n",
    "\n",
    "#np.random.seed(42) # new seed\n",
    "#torch.manual_seed(42)\n",
    "\n",
    "model = Model1()\n",
    "model.double()\n",
    "model.cuda()\n",
    "criterion = nn.CrossEntropyLoss().cuda()\n",
    "optimizer = torch.optim.Adam(model.parameters(), lr=0.001)\n",
    "train_losses = []\n",
    "test_losses = []\n",
    "test_aucs = []\n",
    "\n",
    "train(chkpoint='model11_post9_4_64_lr_001.tar', \n",
    "      epochs=30, \n",
    "      model=model, \n",
    "      optimizer=optimizer, \n",
    "      criterion=criterion, \n",
    "      test_losses=test_losses,\n",
    "     train_losses=train_losses,\n",
    "     test_aucs=test_aucs)"
   ]
  },
  {
   "cell_type": "code",
   "execution_count": null,
   "metadata": {},
   "outputs": [],
   "source": [
    "data_dict = torch.load('model10_post9_3_64_lr_001/epoch-2-963.tar')\n",
    "#data_dict['optimizer'] = torch.optim.Adam(model.parameters(), lr=0.0003)\n",
    "#data_dict['optimizer'] = torch.optim.SGD(model.parameters(), lr=0.001, momentum=1.3, nesterov=True)\n",
    "train(chkpoint='model10_post9_3_64_lr_001.tar', epochs=30, **data_dict)"
   ]
  },
  {
   "cell_type": "code",
   "execution_count": 71,
   "metadata": {},
   "outputs": [
    {
     "name": "stdout",
     "output_type": "stream",
     "text": [
      "0.958957016353 0.00762216388464\n",
      "CPU times: user 19.3 s, sys: 565 ms, total: 19.8 s\n",
      "Wall time: 19.8 s\n"
     ]
    }
   ],
   "source": [
    "%%time\n",
    "aucs = np.array([validate(model)[1] for x in range(10)])\n",
    "print np.mean(aucs), np.std(aucs)\n"
   ]
  },
  {
   "cell_type": "code",
   "execution_count": 21,
   "metadata": {},
   "outputs": [
    {
     "data": {
      "application/vnd.jupyter.widget-view+json": {
       "model_id": "62930d9b0c4b461094280b1b24b577bc"
      }
     },
     "metadata": {},
     "output_type": "display_data"
    },
    {
     "name": "stdout",
     "output_type": "stream",
     "text": [
      "\n"
     ]
    }
   ],
   "source": [
    "data_dict = torch.load('model11_post9_4_64_lr_001/epoch-19-965.tar')\n",
    "generate_predictions_csv(data_dict['model'], 'out-log-softmax-965.csv')"
   ]
  },
  {
   "cell_type": "markdown",
   "metadata": {},
   "source": [
    "## Exploring where the mistakes are coming from"
   ]
  },
  {
   "cell_type": "code",
   "execution_count": 43,
   "metadata": {
    "collapsed": true
   },
   "outputs": [],
   "source": [
    "all_true = np.zeros((test_total))\n",
    "all_pred = np.zeros((test_total))\n",
    "\n",
    "bad_answers = []\n",
    "\n",
    "total_test_loss = 0\n",
    "i = 0\n",
    "for b in test_pt_by_len:\n",
    "    hidden, inp, target = prepare_input(np.array(test_pt_by_len[b]))\n",
    "    target2 = target[:]\n",
    "    hidden2 = hidden[:]\n",
    "    inp2 = inp[:]\n",
    "    hidden, inp, posts, drugs, dxs, target = torchify_batch(hidden, inp, target)\n",
    "    out = model(hidden.cuda(), inp.cuda(), posts.cuda(), drugs.cuda(), dxs.cuda())\n",
    "\n",
    "    target.cuda()\n",
    "\n",
    "    loss = criterion(out, target.cuda())\n",
    "    out_np = out.data.cpu().numpy()\n",
    "    for j in xrange(target2.shape[0]):\n",
    "        all_true[i] = int(target2[j])\n",
    "        all_pred[i] = out_np[j][1]\n",
    "        if abs(all_true[i] - all_pred[i]) > 0.99:\n",
    "            bad_answers.append((target2[j], hidden2[j], inp2[j]))\n",
    "        i += 1\n",
    "    total_test_loss += loss.data.cpu().numpy()[0]\n",
    "test_loss = total_test_loss/288\n",
    "test_auc = roc_auc_score(all_true, all_pred)"
   ]
  },
  {
   "cell_type": "code",
   "execution_count": 60,
   "metadata": {},
   "outputs": [
    {
     "name": "stdout",
     "output_type": "stream",
     "text": [
      "802\n"
     ]
    }
   ],
   "source": [
    "uros = 0\n",
    "for target, hidden, transaction in bad_answers:\n",
    "    uros += (np.sum(transaction[:, 4] == 11) > 0)\n",
    "print uros"
   ]
  },
  {
   "cell_type": "code",
   "execution_count": 62,
   "metadata": {},
   "outputs": [
    {
     "data": {
      "text/plain": [
       "7180.51899610243"
      ]
     },
     "execution_count": 62,
     "metadata": {},
     "output_type": "execute_result"
    }
   ],
   "source": [
    "802.0 / test_total * total"
   ]
  },
  {
   "cell_type": "code",
   "execution_count": 13,
   "metadata": {
    "collapsed": true
   },
   "outputs": [],
   "source": [
    "error = all_true - all_pred"
   ]
  },
  {
   "cell_type": "code",
   "execution_count": 31,
   "metadata": {},
   "outputs": [
    {
     "data": {
      "text/plain": [
       "<matplotlib.axes._subplots.AxesSubplot at 0x7fc4b7289910>"
      ]
     },
     "execution_count": 31,
     "metadata": {},
     "output_type": "execute_result"
    },
    {
     "data": {
      "image/png": "[encoded data removed]",
      "text/plain": [
       "<matplotlib.figure.Figure at 0x7fc4b6efab50>"
      ]
     },
     "metadata": {},
     "output_type": "display_data"
    }
   ],
   "source": [
    "sns.distplot(all_pred)"
   ]
  },
  {
   "cell_type": "code",
   "execution_count": 18,
   "metadata": {},
   "outputs": [
    {
     "data": {
      "image/png": "[encoded data removed]",
      "text/plain": [
       "<matplotlib.figure.Figure at 0x7fc4b6e94c50>"
      ]
     },
     "metadata": {},
     "output_type": "display_data"
    },
    {
     "data": {
      "text/plain": [
       "<matplotlib.axes._subplots.AxesSubplot at 0x7fc4b6b3bed0>"
      ]
     },
     "execution_count": 18,
     "metadata": {},
     "output_type": "execute_result"
    },
    {
     "data": {
      "image/png": "[encoded data removed]",
      "text/plain": [
       "<matplotlib.figure.Figure at 0x7fc4b6fbbf90>"
      ]
     },
     "metadata": {},
     "output_type": "display_data"
    }
   ],
   "source": [
    "%matplotlib inline\n",
    "import seaborn as sns\n",
    "import matplotlib.pyplot as plt\n",
    "\n",
    "sns.distplot(error)\n",
    "plt.show()\n",
    "sns.distplot(np.abs(error))"
   ]
  },
  {
   "cell_type": "code",
   "execution_count": 34,
   "metadata": {},
   "outputs": [
    {
     "name": "stdout",
     "output_type": "stream",
     "text": [
      "1354\n",
      "861\n",
      "0.0313626926019\n"
     ]
    }
   ],
   "source": [
    "print np.sum(np.abs(error) > 0.01) 1354\n",
    "print np.sum(np.abs(error) > 0.99) 864\n",
    "print 861.0/test_total"
   ]
  },
  {
   "cell_type": "code",
   "execution_count": null,
   "metadata": {
    "collapsed": true
   },
   "outputs": [],
   "source": [
    "np.abs(error) > 0.99"
   ]
  },
  {
   "cell_type": "code",
   "execution_count": 35,
   "metadata": {},
   "outputs": [
    {
     "data": {
      "text/plain": [
       "27453"
      ]
     },
     "execution_count": 35,
     "metadata": {},
     "output_type": "execute_result"
    }
   ],
   "source": [
    "test_total"
   ]
  },
  {
   "cell_type": "code",
   "execution_count": 73,
   "metadata": {},
   "outputs": [
    {
     "data": {
      "application/vnd.jupyter.widget-view+json": {
       "model_id": "a6753d0390b74d0b83fd08014f1cf555"
      }
     },
     "metadata": {},
     "output_type": "display_data"
    },
    {
     "name": "stdout",
     "output_type": "stream",
     "text": [
      "\n"
     ]
    }
   ],
   "source": [
    "generate_predictions_csv(model, 'out1.csv')"
   ]
  },
  {
   "cell_type": "code",
   "execution_count": null,
   "metadata": {},
   "outputs": [
    {
     "name": "stdout",
     "output_type": "stream",
     "text": [
      "---Epoch 8---\n"
     ]
    },
    {
     "data": {
      "application/vnd.jupyter.widget-view+json": {
       "model_id": "a46f5c5933874bc7b1af983bb6de46b4"
      }
     },
     "metadata": {},
     "output_type": "display_data"
    }
   ],
   "source": [
    "train('model_post1.1_3_32_lr_001.tar', epochs=10, **torch.load('model_post1_3_32_lr_001.tar'))"
   ]
  },
  {
   "cell_type": "code",
   "execution_count": 80,
   "metadata": {},
   "outputs": [
    {
     "data": {
      "text/plain": [
       "{'criterion': CrossEntropyLoss (\n",
       " ), 'cur_epoch': 4, 'model': Model1 (\n",
       "   (drug_embedding): Embedding(2870, 30)\n",
       "   (dx_embedding): Embedding(12, 5)\n",
       "   (gru1): GRU(39, 32, num_layers=3, batch_first=True)\n",
       "   (dense1): Linear (32 -> 2)\n",
       "   (softmax): Softmax ()\n",
       " ), 'optimizer': <torch.optim.adam.Adam at 0x7f23016a2350>, 'test_aucs': [0.9497745120551091,\n",
       "  0.95737772101378837,\n",
       "  0.96352282510260245,\n",
       "  0.97322535701846047], 'test_losses': [0.35393751389666983,\n",
       "  0.35761409787089349,\n",
       "  0.35281944691292533,\n",
       "  0.34829183176775053], 'train_losses': [0.37126914617345386,\n",
       "  0.33828777079089706,\n",
       "  0.33836713117440947,\n",
       "  0.39558140579214862]}"
      ]
     },
     "execution_count": 80,
     "metadata": {},
     "output_type": "execute_result"
    }
   ],
   "source": [
    "torch.load('model_3_32_lr_001.tar')"
   ]
  },
  {
   "cell_type": "code",
   "execution_count": 12,
   "metadata": {},
   "outputs": [
    {
     "name": "stderr",
     "output_type": "stream",
     "text": [
      "Widget Javascript not detected.  It may not be installed or enabled properly.\n"
     ]
    },
    {
     "data": {
      "application/vnd.jupyter.widget-view+json": {
       "model_id": "47bc7c8a91274a079942b00ee753648a"
      }
     },
     "metadata": {},
     "output_type": "display_data"
    },
    {
     "name": "stdout",
     "output_type": "stream",
     "text": [
      "\n"
     ]
    },
    {
     "data": {
      "text/plain": [
       "(0.35821641802842302, 0.94314307203172887)"
      ]
     },
     "execution_count": 12,
     "metadata": {},
     "output_type": "execute_result"
    }
   ],
   "source": [
    "def validate_all(model):\n",
    "    all_true = np.zeros((test_total, 2))\n",
    "    all_pred = np.zeros((test_total, 2))\n",
    "    total_test_loss = 0\n",
    "    i = 0\n",
    "    for b in tqdm_notebook(test_pt_by_len):\n",
    "        hidden, inp, target = prepare_input(np.array(test_pt_by_len[b]))\n",
    "        target2 = target[:]\n",
    "        hidden, inp, posts, drugs, dxs, target = torchify_batch(hidden, inp, target)\n",
    "        out = model(hidden.cuda(), inp.cuda(), posts.cuda(), drugs.cuda(), dxs.cuda())\n",
    "\n",
    "        target.cuda()\n",
    "\n",
    "        loss = criterion(out, target.cuda())\n",
    "        out_np = out.data.cpu().numpy()\n",
    "        for j in xrange(target2.shape[0]):\n",
    "            all_true[i, int(target2[j])] = 1\n",
    "            all_pred[i] = out_np[j]\n",
    "            i += 1\n",
    "        total_test_loss += loss.data.cpu().numpy()[0]\n",
    "    test_loss = total_test_loss/288\n",
    "    test_auc = roc_auc_score(all_true, all_pred)\n",
    "    return test_loss, test_auc\n",
    "\n",
    "validate_all(model)"
   ]
  },
  {
   "cell_type": "code",
   "execution_count": 7,
   "metadata": {},
   "outputs": [
    {
     "data": {
      "text/plain": [
       "27453"
      ]
     },
     "execution_count": 7,
     "metadata": {},
     "output_type": "execute_result"
    }
   ],
   "source": [
    "test_total"
   ]
  },
  {
   "cell_type": "code",
   "execution_count": null,
   "metadata": {
    "collapsed": true
   },
   "outputs": [],
   "source": []
  },
  {
   "cell_type": "code",
   "execution_count": null,
   "metadata": {
    "collapsed": true
   },
   "outputs": [],
   "source": []
  },
  {
   "cell_type": "code",
   "execution_count": null,
   "metadata": {
    "collapsed": true
   },
   "outputs": [],
   "source": []
  }
 ],
 "metadata": {
  "kernelspec": {
   "display_name": "Python 2",
   "language": "python",
   "name": "python2"
  },
  "language_info": {
   "codemirror_mode": {
    "name": "ipython",
    "version": 2
   },
   "file_extension": ".py",
   "mimetype": "text/x-python",
   "name": "python",
   "nbconvert_exporter": "python",
   "pygments_lexer": "ipython2",
   "version": "2.7.6"
  }
 },
 "nbformat": 4,
 "nbformat_minor": 2
}
